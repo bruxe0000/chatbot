{
 "cells": [
  {
   "cell_type": "markdown",
   "metadata": {
    "colab_type": "text",
    "id": "view-in-github"
   },
   "source": [
    "<a href=\"https://colab.research.google.com/github/Dark-Sied/Intent_Classification/blob/master/Intent_classification_final.ipynb\" target=\"_parent\"><img src=\"https://colab.research.google.com/assets/colab-badge.svg\" alt=\"Open In Colab\"/></a>"
   ]
  },
  {
   "cell_type": "code",
   "execution_count": 1,
   "metadata": {
    "colab": {
     "base_uri": "https://localhost:8080/",
     "height": 34
    },
    "colab_type": "code",
    "id": "a_WypuUXi92e",
    "outputId": "133d026e-4236-4ff6-f21d-739bfb9640db"
   },
   "outputs": [
    {
     "name": "stderr",
     "output_type": "stream",
     "text": [
      "Using TensorFlow backend.\n"
     ]
    }
   ],
   "source": [
    "import numpy as np\n",
    "import pandas as pd\n",
    "from nltk.corpus import stopwords\n",
    "from nltk.tokenize import word_tokenize\n",
    "from nltk.stem.lancaster import LancasterStemmer\n",
    "import nltk\n",
    "import re\n",
    "from sklearn.preprocessing import OneHotEncoder\n",
    "import matplotlib.pyplot as plt\n",
    "from keras.preprocessing.text import Tokenizer\n",
    "from keras.preprocessing.sequence import pad_sequences\n",
    "from keras.utils import to_categorical\n",
    "from keras.models import Sequential, load_model\n",
    "from keras.layers import Dense, LSTM, Bidirectional, Embedding, Dropout\n",
    "from keras.callbacks import ModelCheckpoint\n"
   ]
  },
  {
   "cell_type": "code",
   "execution_count": 2,
   "metadata": {
    "colab": {},
    "colab_type": "code",
    "id": "LE6wywJrN2ih"
   },
   "outputs": [],
   "source": [
    "def load_dataset(filename):\n",
    "#   df = pd.read_csv(filename, encoding = \"latin1\", names = [\"Sentence\", \"Intent\"])\n",
    "    df = pd.read_excel(filename, sheet_name=\"dataset_XY\", encoding=\"utf8\")\n",
    "    Label_tag = pd.read_excel(filename, sheet_name=\"Label_tag\", encoding=\"utf8\")  \n",
    "    print(df.head())\n",
    "    intent = df['Label']\n",
    "    for idx, i in enumerate(intent):\n",
    "#         print(i)\n",
    "        intent[idx] = Label_tag.loc[i,\"Tag\"]\n",
    "#     print(\"intent: \", intent)\n",
    "    unique_intent = list(set(intent))\n",
    "    sentences = list(df[\"Questions\"])\n",
    "  \n",
    "    return (intent, unique_intent, sentences)\n"
   ]
  },
  {
   "cell_type": "code",
   "execution_count": 3,
   "metadata": {
    "colab": {
     "base_uri": "https://localhost:8080/",
     "height": 119
    },
    "colab_type": "code",
    "id": "tF0FQA7gjOCX",
    "outputId": "c609b42a-05da-49f5-8d11-bd670210f635"
   },
   "outputs": [
    {
     "name": "stdout",
     "output_type": "stream",
     "text": [
      "           Questions  Label\n",
      "0               Chào      0\n",
      "1    Dạo này thế nào      0\n",
      "2  Có ai ở đây không      0\n",
      "3           Xin chào      0\n",
      "4           Xao chìn      0\n"
     ]
    },
    {
     "name": "stderr",
     "output_type": "stream",
     "text": [
      "C:\\Users\\Dell\\Anaconda3\\envs\\py36\\lib\\site-packages\\ipykernel_launcher.py:9: SettingWithCopyWarning: \n",
      "A value is trying to be set on a copy of a slice from a DataFrame\n",
      "\n",
      "See the caveats in the documentation: http://pandas.pydata.org/pandas-docs/stable/indexing.html#indexing-view-versus-copy\n",
      "  if __name__ == '__main__':\n",
      "C:\\Users\\Dell\\Anaconda3\\envs\\py36\\lib\\site-packages\\pandas\\core\\indexing.py:190: SettingWithCopyWarning: \n",
      "A value is trying to be set on a copy of a slice from a DataFrame\n",
      "\n",
      "See the caveats in the documentation: http://pandas.pydata.org/pandas-docs/stable/indexing.html#indexing-view-versus-copy\n",
      "  self._setitem_with_indexer(indexer, value)\n"
     ]
    },
    {
     "name": "stdout",
     "output_type": "stream",
     "text": [
      "Unique intents:  ['Tạm_biệt', 'Chào_hỏi', 'Nơi_nộp_hồ_sơ', 'Thời_gian_trả_kết_quả', 'Trình_tự ', 'Đối_tượng_xin_cấp_hộ_chiếu', 'Lệ_phí', 'Thời_gian_giải_quyết_hộ_chiếu', 'Nơi_nhận_hộ_chiếu', 'Chuẩn_bị_hồ_sơ', 'Chức_năng_của_bot', 'Cảm_ơn', 'Tên_bot', 'Thời_gian_tiếp_nhận_hồ_sơ', 'Các_loại_hộ_chiếu']\n",
      "Number of intents:  15\n"
     ]
    }
   ],
   "source": [
    "intent, unique_intent, sentences = load_dataset(\"dataset_XY_XLS_updatedbytho.xls\")\n",
    "print(\"Unique intents: \", unique_intent)\n",
    "print(\"Number of intents: \", len(unique_intent))\n",
    "# print(intent[:5])\n",
    "# len(intent)"
   ]
  },
  {
   "cell_type": "code",
   "execution_count": 4,
   "metadata": {},
   "outputs": [
    {
     "data": {
      "text/plain": [
       "['Anh', 'thọ', 'quá', 'đẹp_trai', '!']"
      ]
     },
     "execution_count": 4,
     "metadata": {},
     "output_type": "execute_result"
    }
   ],
   "source": [
    "# Hàm được viết bởi thọ\n",
    "import pyvi.ViTokenizer as viToken\n",
    "def viTokenList(word):\n",
    "    return viToken.tokenize(word).split()\n",
    "viTokenList(\"Anh thọ quá đẹp trai!\")"
   ]
  },
  {
   "cell_type": "code",
   "execution_count": 5,
   "metadata": {
    "colab": {
     "base_uri": "https://localhost:8080/",
     "height": 34
    },
    "colab_type": "code",
    "id": "O8LLUZlokg0S",
    "outputId": "c15c21dc-2ef2-43b7-b4af-e7ee9e014091"
   },
   "outputs": [
    {
     "name": "stdout",
     "output_type": "stream",
     "text": [
      "['Chào', 'Dạo này thế nào', 'Có ai ở đây không', 'Xin chào', 'Xao chìn']\n"
     ]
    }
   ],
   "source": [
    "print(sentences[:5])"
   ]
  },
  {
   "cell_type": "code",
   "execution_count": 6,
   "metadata": {
    "colab": {
     "base_uri": "https://localhost:8080/",
     "height": 102
    },
    "colab_type": "code",
    "id": "MhrziINPGHbW",
    "outputId": "0861af1b-4b82-4c92-b8f4-b6b57bb3e380"
   },
   "outputs": [],
   "source": [
    "# nltk.download(\"stopwords\")\n",
    "# nltk.download(\"punkt\")"
   ]
  },
  {
   "cell_type": "code",
   "execution_count": 7,
   "metadata": {
    "colab": {},
    "colab_type": "code",
    "id": "OmNLu2YSXePb"
   },
   "outputs": [],
   "source": [
    "#define stemmer\n",
    "# stemmer = LancasterStemmer()"
   ]
  },
  {
   "cell_type": "code",
   "execution_count": 8,
   "metadata": {
    "colab": {},
    "colab_type": "code",
    "id": "j-7q3iG5PKYI"
   },
   "outputs": [],
   "source": [
    "def cleaning(sentences):\n",
    "    words = []\n",
    "    for s in sentences:\n",
    "#         clean = re.sub(r'[^ a-z A-Z 0-9]', \" \", s) # Find and replace duplicate \n",
    "        w = viTokenList(s)\n",
    "        #stemming\n",
    "        words.append([i.lower() for i in w])\n",
    "\n",
    "    return words  "
   ]
  },
  {
   "cell_type": "code",
   "execution_count": 9,
   "metadata": {
    "colab": {
     "base_uri": "https://localhost:8080/",
     "height": 51
    },
    "colab_type": "code",
    "id": "p1j2GJgDG6qj",
    "outputId": "c7232a8e-6833-4a1d-e71a-4bc7014084a9"
   },
   "outputs": [
    {
     "name": "stdout",
     "output_type": "stream",
     "text": [
      "750\n",
      "[['chào'], ['dạo', 'này', 'thế_nào']]\n"
     ]
    }
   ],
   "source": [
    "cleaned_words = cleaning(sentences)\n",
    "print(len(cleaned_words))\n",
    "print(cleaned_words[:2])  \n",
    "  \n"
   ]
  },
  {
   "cell_type": "code",
   "execution_count": 10,
   "metadata": {
    "colab": {},
    "colab_type": "code",
    "id": "SJCQ_YhBJW7t"
   },
   "outputs": [],
   "source": [
    "def create_tokenizer(words, filters = '!\"#$%&()*+,-./:;<=>?@[\\]^_`{|}~'):\n",
    "    token = Tokenizer(filters = filters)\n",
    "    token.fit_on_texts(words)\n",
    "    return token"
   ]
  },
  {
   "cell_type": "code",
   "execution_count": 11,
   "metadata": {
    "colab": {},
    "colab_type": "code",
    "id": "QJhdIJC5Q3Q6"
   },
   "outputs": [],
   "source": [
    "def max_length(words):\n",
    "    return(len(max(words, key = len)))\n",
    "  "
   ]
  },
  {
   "cell_type": "code",
   "execution_count": 12,
   "metadata": {
    "colab": {
     "base_uri": "https://localhost:8080/",
     "height": 34
    },
    "colab_type": "code",
    "id": "JWjxPGsZZJNX",
    "outputId": "b02c8f6b-d0df-4e90-fa3a-2ff730c88300"
   },
   "outputs": [
    {
     "name": "stdout",
     "output_type": "stream",
     "text": [
      "Vocab Size = 318 and Maximum length = 16\n"
     ]
    }
   ],
   "source": [
    "word_tokenizer = create_tokenizer(cleaned_words)\n",
    "vocab_size = len(word_tokenizer.word_index) + 1\n",
    "max_length = max_length(cleaned_words)\n",
    "\n",
    "print(\"Vocab Size = %d and Maximum length = %d\" % (vocab_size, max_length))"
   ]
  },
  {
   "cell_type": "code",
   "execution_count": 13,
   "metadata": {
    "colab": {},
    "colab_type": "code",
    "id": "D0TXu2xsR8jq"
   },
   "outputs": [],
   "source": [
    "def encoding_doc(token, words):\n",
    "    return(token.texts_to_sequences(words))"
   ]
  },
  {
   "cell_type": "code",
   "execution_count": 14,
   "metadata": {
    "colab": {},
    "colab_type": "code",
    "id": "dE92Hk1Va--H"
   },
   "outputs": [],
   "source": [
    "encoded_doc = encoding_doc(word_tokenizer, cleaned_words)"
   ]
  },
  {
   "cell_type": "code",
   "execution_count": 15,
   "metadata": {
    "colab": {},
    "colab_type": "code",
    "id": "fyOzLEboc4LZ"
   },
   "outputs": [],
   "source": [
    "def padding_doc(encoded_doc, max_length):\n",
    "    return(pad_sequences(encoded_doc, maxlen = max_length, padding = \"post\"))"
   ]
  },
  {
   "cell_type": "code",
   "execution_count": 16,
   "metadata": {
    "colab": {},
    "colab_type": "code",
    "id": "WdejoJrlc-tc"
   },
   "outputs": [],
   "source": [
    "padded_doc = padding_doc(encoded_doc, max_length)"
   ]
  },
  {
   "cell_type": "code",
   "execution_count": 17,
   "metadata": {
    "colab": {
     "base_uri": "https://localhost:8080/",
     "height": 272
    },
    "colab_type": "code",
    "id": "gDgTCS2KdI2p",
    "outputId": "ac5332cd-0a0f-4311-8db4-22df92728d90"
   },
   "outputs": [
    {
     "data": {
      "text/plain": [
       "array([[115,   0,   0,   0,   0,   0,   0,   0,   0,   0,   0,   0,   0,\n",
       "          0,   0,   0],\n",
       "       [180,  99,  21,   0,   0,   0,   0,   0,   0,   0,   0,   0,   0,\n",
       "          0,   0,   0],\n",
       "       [  5,  55,  24, 126,   3,   0,   0,   0,   0,   0,   0,   0,   0,\n",
       "          0,   0,   0],\n",
       "       [ 17, 115,   0,   0,   0,   0,   0,   0,   0,   0,   0,   0,   0,\n",
       "          0,   0,   0],\n",
       "       [204,   0,   0,   0,   0,   0,   0,   0,   0,   0,   0,   0,   0,\n",
       "          0,   0,   0]])"
      ]
     },
     "execution_count": 17,
     "metadata": {},
     "output_type": "execute_result"
    }
   ],
   "source": [
    "padded_doc[:5]"
   ]
  },
  {
   "cell_type": "code",
   "execution_count": 18,
   "metadata": {
    "colab": {
     "base_uri": "https://localhost:8080/",
     "height": 34
    },
    "colab_type": "code",
    "id": "3eaSIDi0dNf1",
    "outputId": "4ab6b6dd-ffa4-4061-9e9d-7a01decfa837"
   },
   "outputs": [
    {
     "name": "stdout",
     "output_type": "stream",
     "text": [
      "Shape of padded docs =  (750, 16)\n"
     ]
    }
   ],
   "source": [
    "print(\"Shape of padded docs = \",padded_doc.shape)"
   ]
  },
  {
   "cell_type": "code",
   "execution_count": 19,
   "metadata": {
    "colab": {},
    "colab_type": "code",
    "id": "X0rXzenSpgFR"
   },
   "outputs": [],
   "source": [
    "#tokenizer with filter changed\n",
    "output_tokenizer = create_tokenizer(unique_intent, filters = '!\"#$%&()*+,-/:;<=>?@[\\]^`{|}~')\n"
   ]
  },
  {
   "cell_type": "code",
   "execution_count": 20,
   "metadata": {
    "colab": {
     "base_uri": "https://localhost:8080/",
     "height": 374
    },
    "colab_type": "code",
    "id": "yNHQtkszskxr",
    "outputId": "f5babc01-89e3-4392-e8e6-c9f257de3d07"
   },
   "outputs": [
    {
     "data": {
      "text/plain": [
       "{'tạm_biệt': 1,\n",
       " 'chào_hỏi': 2,\n",
       " 'nơi_nộp_hồ_sơ': 3,\n",
       " 'thời_gian_trả_kết_quả': 4,\n",
       " 'trình_tự': 5,\n",
       " 'đối_tượng_xin_cấp_hộ_chiếu': 6,\n",
       " 'lệ_phí': 7,\n",
       " 'thời_gian_giải_quyết_hộ_chiếu': 8,\n",
       " 'nơi_nhận_hộ_chiếu': 9,\n",
       " 'chuẩn_bị_hồ_sơ': 10,\n",
       " 'chức_năng_của_bot': 11,\n",
       " 'cảm_ơn': 12,\n",
       " 'tên_bot': 13,\n",
       " 'thời_gian_tiếp_nhận_hồ_sơ': 14,\n",
       " 'các_loại_hộ_chiếu': 15}"
      ]
     },
     "execution_count": 20,
     "metadata": {},
     "output_type": "execute_result"
    }
   ],
   "source": [
    "output_tokenizer.word_index"
   ]
  },
  {
   "cell_type": "code",
   "execution_count": 21,
   "metadata": {
    "colab": {},
    "colab_type": "code",
    "id": "7OOx9qdBto1-"
   },
   "outputs": [],
   "source": [
    "encoded_output = encoding_doc(output_tokenizer, intent)"
   ]
  },
  {
   "cell_type": "code",
   "execution_count": 22,
   "metadata": {
    "colab": {},
    "colab_type": "code",
    "id": "0_5Lv5PiyG-z"
   },
   "outputs": [],
   "source": [
    "encoded_output = np.array(encoded_output).reshape(len(encoded_output), 1)"
   ]
  },
  {
   "cell_type": "code",
   "execution_count": 23,
   "metadata": {
    "colab": {
     "base_uri": "https://localhost:8080/",
     "height": 34
    },
    "colab_type": "code",
    "id": "dpM86WrVQlx5",
    "outputId": "71ff52a6-b3d0-4b5c-850d-5dc0a56c8aa9"
   },
   "outputs": [
    {
     "data": {
      "text/plain": [
       "(750, 1)"
      ]
     },
     "execution_count": 23,
     "metadata": {},
     "output_type": "execute_result"
    }
   ],
   "source": [
    "encoded_output.shape"
   ]
  },
  {
   "cell_type": "code",
   "execution_count": 24,
   "metadata": {
    "colab": {},
    "colab_type": "code",
    "id": "rD3QN-RPzfet"
   },
   "outputs": [],
   "source": [
    "def one_hot(encode):\n",
    "    o = OneHotEncoder(sparse = False)\n",
    "    return(o.fit_transform(encode))"
   ]
  },
  {
   "cell_type": "code",
   "execution_count": 25,
   "metadata": {
    "colab": {},
    "colab_type": "code",
    "id": "Z6wP_Xed7RNR"
   },
   "outputs": [
    {
     "name": "stderr",
     "output_type": "stream",
     "text": [
      "C:\\Users\\Dell\\Anaconda3\\envs\\py36\\lib\\site-packages\\sklearn\\preprocessing\\_encoders.py:371: FutureWarning: The handling of integer data will change in version 0.22. Currently, the categories are determined based on the range [0, max(values)], while in the future they will be determined based on the unique values.\n",
      "If you want the future behaviour and silence this warning, you can specify \"categories='auto'\".\n",
      "In case you used a LabelEncoder before this OneHotEncoder to convert the categories to integers, then you can now use the OneHotEncoder directly.\n",
      "  warnings.warn(msg, FutureWarning)\n"
     ]
    }
   ],
   "source": [
    "output_one_hot = one_hot(encoded_output)"
   ]
  },
  {
   "cell_type": "code",
   "execution_count": 26,
   "metadata": {
    "colab": {
     "base_uri": "https://localhost:8080/",
     "height": 34
    },
    "colab_type": "code",
    "id": "A6HVslLTHgOM",
    "outputId": "752962df-02d8-409b-fb8f-adb06227161d"
   },
   "outputs": [
    {
     "data": {
      "text/plain": [
       "(750, 15)"
      ]
     },
     "execution_count": 26,
     "metadata": {},
     "output_type": "execute_result"
    }
   ],
   "source": [
    "output_one_hot.shape"
   ]
  },
  {
   "cell_type": "code",
   "execution_count": 27,
   "metadata": {
    "colab": {},
    "colab_type": "code",
    "id": "EqABUESD7xi9"
   },
   "outputs": [],
   "source": [
    "from sklearn.model_selection import train_test_split"
   ]
  },
  {
   "cell_type": "code",
   "execution_count": 28,
   "metadata": {
    "colab": {},
    "colab_type": "code",
    "id": "h8P4HTz6A4E-"
   },
   "outputs": [],
   "source": [
    "# print(len(padded_doc))\n",
    "# print(len(output_one_hot))\n",
    "train_X, val_X, train_Y, val_Y = train_test_split(padded_doc, output_one_hot, shuffle = True, test_size = 0.2)\n",
    "train_X, batch_X, train_Y, batch_Y = train_test_split(train_X, train_Y, shuffle = True, test_size = 0.2)"
   ]
  },
  {
   "cell_type": "code",
   "execution_count": 30,
   "metadata": {
    "colab": {
     "base_uri": "https://localhost:8080/",
     "height": 51
    },
    "colab_type": "code",
    "id": "7E0uhC2OCtTx",
    "outputId": "6ce0e215-aa3f-43f1-ba5a-0b584b25a35c"
   },
   "outputs": [
    {
     "name": "stdout",
     "output_type": "stream",
     "text": [
      "Shape of train_X = (480, 16) and train_Y = (480, 15)\n",
      "Shape of val_X = (150, 16) and val_Y = (150, 15)\n",
      "Shape of batch_X = (120, 16) and batch_Y = (120, 15)\n"
     ]
    }
   ],
   "source": [
    "print(\"Shape of train_X = %s and train_Y = %s\" % (train_X.shape, train_Y.shape))\n",
    "print(\"Shape of val_X = %s and val_Y = %s\" % (val_X.shape, val_Y.shape))\n",
    "print(\"Shape of batch_X = %s and batch_Y = %s\" % (batch_X.shape, batch_Y.shape))"
   ]
  },
  {
   "cell_type": "code",
   "execution_count": 31,
   "metadata": {
    "colab": {},
    "colab_type": "code",
    "id": "e5BU_x74DNEb"
   },
   "outputs": [],
   "source": [
    "def create_model(vocab_size, max_length):\n",
    "    model = Sequential()\n",
    "    model.add(Embedding(vocab_size, 128, input_length = max_length, trainable = False))\n",
    "    model.add(Bidirectional(LSTM(128)))\n",
    "    #   model.add(LSTM(128))\n",
    "    model.add(Dense(32, activation = \"relu\"))\n",
    "    model.add(Dropout(0.5))\n",
    "    model.add(Dense(15, activation = \"softmax\"))\n",
    "\n",
    "    return model"
   ]
  },
  {
   "cell_type": "code",
   "execution_count": 32,
   "metadata": {
    "colab": {
     "base_uri": "https://localhost:8080/",
     "height": 306
    },
    "colab_type": "code",
    "id": "f-NvE0P7MFCe",
    "outputId": "8f07056b-579e-4c15-e1af-bdfa8f681e79",
    "scrolled": true
   },
   "outputs": [
    {
     "name": "stdout",
     "output_type": "stream",
     "text": [
      "_________________________________________________________________\n",
      "Layer (type)                 Output Shape              Param #   \n",
      "=================================================================\n",
      "embedding_1 (Embedding)      (None, 16, 128)           40704     \n",
      "_________________________________________________________________\n",
      "bidirectional_1 (Bidirection (None, 256)               263168    \n",
      "_________________________________________________________________\n",
      "dense_1 (Dense)              (None, 32)                8224      \n",
      "_________________________________________________________________\n",
      "dropout_1 (Dropout)          (None, 32)                0         \n",
      "_________________________________________________________________\n",
      "dense_2 (Dense)              (None, 15)                495       \n",
      "=================================================================\n",
      "Total params: 312,591\n",
      "Trainable params: 271,887\n",
      "Non-trainable params: 40,704\n",
      "_________________________________________________________________\n"
     ]
    }
   ],
   "source": [
    "model = create_model(vocab_size, max_length)\n",
    "\n",
    "model.compile(loss = \"categorical_crossentropy\", optimizer = \"adam\", metrics = [\"accuracy\"])\n",
    "model.summary()"
   ]
  },
  {
   "cell_type": "code",
   "execution_count": 42,
   "metadata": {
    "colab": {
     "base_uri": "https://localhost:8080/",
     "height": 6834
    },
    "colab_type": "code",
    "id": "_r-dxm2sMQ-d",
    "outputId": "3c37b4f8-fc4e-4c82-ab46-2aa1d8b47ffd"
   },
   "outputs": [
    {
     "name": "stdout",
     "output_type": "stream",
     "text": [
      "Train on 480 samples, validate on 120 samples\n",
      "Epoch 1/300\n",
      "480/480 [==============================] - ETA: 36s - loss: 0.3438 - acc: 0.93 - ETA: 17s - loss: 0.4871 - acc: 0.82 - ETA: 11s - loss: 0.4801 - acc: 0.80 - ETA: 8s - loss: 0.5024 - acc: 0.7891 - ETA: 6s - loss: 0.5026 - acc: 0.806 - ETA: 4s - loss: 0.4745 - acc: 0.817 - ETA: 3s - loss: 0.4823 - acc: 0.812 - ETA: 2s - loss: 0.4993 - acc: 0.812 - ETA: 2s - loss: 0.4867 - acc: 0.809 - ETA: 1s - loss: 0.4623 - acc: 0.825 - ETA: 1s - loss: 0.4690 - acc: 0.823 - ETA: 0s - loss: 0.4657 - acc: 0.822 - ETA: 0s - loss: 0.4685 - acc: 0.819 - ETA: 0s - loss: 0.4798 - acc: 0.814 - 4s 9ms/step - loss: 0.4769 - acc: 0.8187 - val_loss: 0.5224 - val_acc: 0.8583\n",
      "\n",
      "Epoch 00001: val_loss improved from inf to 0.52238, saving model to model.h5\n",
      "Epoch 2/300\n",
      "480/480 [==============================] - ETA: 1s - loss: 0.4461 - acc: 0.843 - ETA: 1s - loss: 0.3573 - acc: 0.859 - ETA: 1s - loss: 0.3759 - acc: 0.843 - ETA: 1s - loss: 0.4139 - acc: 0.843 - ETA: 1s - loss: 0.4277 - acc: 0.843 - ETA: 0s - loss: 0.4996 - acc: 0.849 - ETA: 0s - loss: 0.5159 - acc: 0.852 - ETA: 0s - loss: 0.4751 - acc: 0.863 - ETA: 0s - loss: 0.4662 - acc: 0.864 - ETA: 0s - loss: 0.4583 - acc: 0.868 - ETA: 0s - loss: 0.4602 - acc: 0.869 - ETA: 0s - loss: 0.4561 - acc: 0.869 - ETA: 0s - loss: 0.4555 - acc: 0.872 - ETA: 0s - loss: 0.4517 - acc: 0.872 - 2s 4ms/step - loss: 0.4432 - acc: 0.8750 - val_loss: 0.5014 - val_acc: 0.8417\n",
      "\n",
      "Epoch 00002: val_loss improved from 0.52238 to 0.50136, saving model to model.h5\n",
      "Epoch 3/300\n",
      "480/480 [==============================] - ETA: 1s - loss: 0.3940 - acc: 0.875 - ETA: 1s - loss: 0.3836 - acc: 0.859 - ETA: 1s - loss: 0.3738 - acc: 0.864 - ETA: 1s - loss: 0.4098 - acc: 0.851 - ETA: 1s - loss: 0.4069 - acc: 0.856 - ETA: 1s - loss: 0.4299 - acc: 0.849 - ETA: 0s - loss: 0.4365 - acc: 0.848 - ETA: 0s - loss: 0.4320 - acc: 0.847 - ETA: 0s - loss: 0.4684 - acc: 0.833 - ETA: 0s - loss: 0.4510 - acc: 0.846 - ETA: 0s - loss: 0.4380 - acc: 0.849 - ETA: 0s - loss: 0.4369 - acc: 0.849 - ETA: 0s - loss: 0.4265 - acc: 0.855 - ETA: 0s - loss: 0.4176 - acc: 0.859 - 2s 4ms/step - loss: 0.4229 - acc: 0.8562 - val_loss: 0.4765 - val_acc: 0.8417\n",
      "\n",
      "Epoch 00003: val_loss improved from 0.50136 to 0.47648, saving model to model.h5\n",
      "Epoch 4/300\n",
      "480/480 [==============================] - ETA: 1s - loss: 0.4903 - acc: 0.906 - ETA: 1s - loss: 0.4256 - acc: 0.906 - ETA: 1s - loss: 0.3566 - acc: 0.916 - ETA: 1s - loss: 0.3723 - acc: 0.906 - ETA: 0s - loss: 0.3917 - acc: 0.900 - ETA: 0s - loss: 0.3816 - acc: 0.901 - ETA: 0s - loss: 0.3474 - acc: 0.915 - ETA: 0s - loss: 0.3452 - acc: 0.914 - ETA: 0s - loss: 0.3471 - acc: 0.909 - ETA: 0s - loss: 0.3365 - acc: 0.909 - ETA: 0s - loss: 0.3351 - acc: 0.906 - ETA: 0s - loss: 0.3457 - acc: 0.901 - ETA: 0s - loss: 0.3600 - acc: 0.896 - ETA: 0s - loss: 0.3577 - acc: 0.890 - 1s 3ms/step - loss: 0.3578 - acc: 0.8896 - val_loss: 0.4944 - val_acc: 0.8417\n",
      "\n",
      "Epoch 00004: val_loss did not improve from 0.47648\n",
      "Epoch 5/300\n",
      "480/480 [==============================] - ETA: 1s - loss: 0.4156 - acc: 0.875 - ETA: 1s - loss: 0.3279 - acc: 0.890 - ETA: 0s - loss: 0.3772 - acc: 0.885 - ETA: 0s - loss: 0.4355 - acc: 0.867 - ETA: 0s - loss: 0.4891 - acc: 0.831 - ETA: 0s - loss: 0.4670 - acc: 0.838 - ETA: 0s - loss: 0.4763 - acc: 0.834 - ETA: 0s - loss: 0.4525 - acc: 0.843 - ETA: 0s - loss: 0.4229 - acc: 0.857 - ETA: 0s - loss: 0.4185 - acc: 0.859 - ETA: 0s - loss: 0.4088 - acc: 0.863 - ETA: 0s - loss: 0.3961 - acc: 0.869 - ETA: 0s - loss: 0.3920 - acc: 0.867 - ETA: 0s - loss: 0.3829 - acc: 0.872 - 1s 2ms/step - loss: 0.3808 - acc: 0.8750 - val_loss: 0.5087 - val_acc: 0.8333\n",
      "\n",
      "Epoch 00005: val_loss did not improve from 0.47648\n",
      "Epoch 6/300\n",
      "480/480 [==============================] - ETA: 0s - loss: 0.1786 - acc: 1.000 - ETA: 0s - loss: 0.2169 - acc: 0.953 - ETA: 0s - loss: 0.1806 - acc: 0.958 - ETA: 0s - loss: 0.2449 - acc: 0.929 - ETA: 0s - loss: 0.2621 - acc: 0.925 - ETA: 0s - loss: 0.2817 - acc: 0.916 - ETA: 0s - loss: 0.2931 - acc: 0.915 - ETA: 0s - loss: 0.3169 - acc: 0.898 - ETA: 0s - loss: 0.3124 - acc: 0.899 - ETA: 0s - loss: 0.2979 - acc: 0.906 - ETA: 0s - loss: 0.2896 - acc: 0.909 - ETA: 0s - loss: 0.2969 - acc: 0.903 - ETA: 0s - loss: 0.2968 - acc: 0.906 - ETA: 0s - loss: 0.2923 - acc: 0.906 - 1s 2ms/step - loss: 0.2989 - acc: 0.9042 - val_loss: 0.4958 - val_acc: 0.8500\n",
      "\n",
      "Epoch 00006: val_loss did not improve from 0.47648\n",
      "Epoch 7/300\n",
      "480/480 [==============================] - ETA: 0s - loss: 0.3152 - acc: 0.906 - ETA: 0s - loss: 0.3017 - acc: 0.890 - ETA: 0s - loss: 0.2942 - acc: 0.906 - ETA: 0s - loss: 0.2718 - acc: 0.914 - ETA: 0s - loss: 0.2753 - acc: 0.912 - ETA: 0s - loss: 0.2824 - acc: 0.911 - ETA: 0s - loss: 0.2962 - acc: 0.901 - ETA: 0s - loss: 0.2936 - acc: 0.906 - ETA: 0s - loss: 0.2883 - acc: 0.909 - ETA: 0s - loss: 0.3087 - acc: 0.896 - ETA: 0s - loss: 0.3073 - acc: 0.894 - ETA: 0s - loss: 0.3122 - acc: 0.885 - ETA: 0s - loss: 0.3071 - acc: 0.884 - ETA: 0s - loss: 0.3025 - acc: 0.883 - 1s 2ms/step - loss: 0.3106 - acc: 0.8854 - val_loss: 0.4509 - val_acc: 0.8750\n",
      "\n",
      "Epoch 00007: val_loss improved from 0.47648 to 0.45087, saving model to model.h5\n",
      "Epoch 8/300\n",
      "480/480 [==============================] - ETA: 0s - loss: 0.2148 - acc: 0.906 - ETA: 0s - loss: 0.3502 - acc: 0.859 - ETA: 0s - loss: 0.3037 - acc: 0.895 - ETA: 0s - loss: 0.3014 - acc: 0.906 - ETA: 0s - loss: 0.3031 - acc: 0.893 - ETA: 0s - loss: 0.3320 - acc: 0.885 - ETA: 0s - loss: 0.3153 - acc: 0.892 - ETA: 0s - loss: 0.3130 - acc: 0.898 - ETA: 0s - loss: 0.3333 - acc: 0.885 - ETA: 0s - loss: 0.3253 - acc: 0.884 - ETA: 0s - loss: 0.3224 - acc: 0.886 - ETA: 0s - loss: 0.3202 - acc: 0.888 - ETA: 0s - loss: 0.3330 - acc: 0.887 - ETA: 0s - loss: 0.3748 - acc: 0.877 - 1s 2ms/step - loss: 0.3683 - acc: 0.8792 - val_loss: 0.5852 - val_acc: 0.8583\n",
      "\n",
      "Epoch 00008: val_loss did not improve from 0.45087\n",
      "Epoch 9/300\n",
      "480/480 [==============================] - ETA: 0s - loss: 0.4707 - acc: 0.875 - ETA: 0s - loss: 0.4726 - acc: 0.843 - ETA: 0s - loss: 0.4877 - acc: 0.833 - ETA: 0s - loss: 0.4699 - acc: 0.843 - ETA: 0s - loss: 0.4264 - acc: 0.868 - ETA: 0s - loss: 0.4202 - acc: 0.859 - ETA: 0s - loss: 0.3802 - acc: 0.875 - ETA: 0s - loss: 0.3853 - acc: 0.871 - ETA: 0s - loss: 0.3729 - acc: 0.871 - ETA: 0s - loss: 0.3653 - acc: 0.875 - ETA: 0s - loss: 0.3574 - acc: 0.880 - ETA: 0s - loss: 0.3572 - acc: 0.880 - ETA: 0s - loss: 0.3563 - acc: 0.879 - ETA: 0s - loss: 0.3615 - acc: 0.879 - 1s 2ms/step - loss: 0.3716 - acc: 0.8750 - val_loss: 0.6581 - val_acc: 0.8333\n",
      "\n",
      "Epoch 00009: val_loss did not improve from 0.45087\n",
      "Epoch 10/300\n",
      "480/480 [==============================] - ETA: 0s - loss: 0.3382 - acc: 0.875 - ETA: 0s - loss: 0.2783 - acc: 0.890 - ETA: 0s - loss: 0.3028 - acc: 0.885 - ETA: 0s - loss: 0.2966 - acc: 0.898 - ETA: 0s - loss: 0.3124 - acc: 0.906 - ETA: 0s - loss: 0.3148 - acc: 0.901 - ETA: 0s - loss: 0.2979 - acc: 0.910 - ETA: 0s - loss: 0.3179 - acc: 0.890 - ETA: 0s - loss: 0.3064 - acc: 0.899 - ETA: 0s - loss: 0.3071 - acc: 0.900 - ETA: 0s - loss: 0.3010 - acc: 0.900 - ETA: 0s - loss: 0.2998 - acc: 0.903 - ETA: 0s - loss: 0.2970 - acc: 0.901 - ETA: 0s - loss: 0.2870 - acc: 0.906 - 1s 2ms/step - loss: 0.2975 - acc: 0.9000 - val_loss: 0.5381 - val_acc: 0.8417\n",
      "\n",
      "Epoch 00010: val_loss did not improve from 0.45087\n",
      "Epoch 11/300\n",
      "480/480 [==============================] - ETA: 0s - loss: 0.2956 - acc: 0.906 - ETA: 0s - loss: 0.3662 - acc: 0.843 - ETA: 0s - loss: 0.3852 - acc: 0.875 - ETA: 0s - loss: 0.3868 - acc: 0.859 - ETA: 0s - loss: 0.4041 - acc: 0.837 - ETA: 0s - loss: 0.3853 - acc: 0.843 - ETA: 0s - loss: 0.3906 - acc: 0.852 - ETA: 0s - loss: 0.3925 - acc: 0.855 - ETA: 0s - loss: 0.3667 - acc: 0.864 - ETA: 0s - loss: 0.3660 - acc: 0.862 - ETA: 0s - loss: 0.3927 - acc: 0.858 - ETA: 0s - loss: 0.3965 - acc: 0.862 - ETA: 0s - loss: 0.4121 - acc: 0.865 - ETA: 0s - loss: 0.4415 - acc: 0.863 - 1s 2ms/step - loss: 0.4304 - acc: 0.8708 - val_loss: 0.6243 - val_acc: 0.8333\n",
      "\n",
      "Epoch 00011: val_loss did not improve from 0.45087\n",
      "Epoch 12/300\n"
     ]
    },
    {
     "name": "stdout",
     "output_type": "stream",
     "text": [
      "480/480 [==============================] - ETA: 0s - loss: 0.2497 - acc: 0.906 - ETA: 0s - loss: 0.3966 - acc: 0.875 - ETA: 0s - loss: 0.3559 - acc: 0.885 - ETA: 0s - loss: 0.3755 - acc: 0.867 - ETA: 0s - loss: 0.3815 - acc: 0.862 - ETA: 0s - loss: 0.4257 - acc: 0.849 - ETA: 0s - loss: 0.4232 - acc: 0.848 - ETA: 0s - loss: 0.4061 - acc: 0.851 - ETA: 0s - loss: 0.3937 - acc: 0.861 - ETA: 0s - loss: 0.3811 - acc: 0.865 - ETA: 0s - loss: 0.3824 - acc: 0.863 - ETA: 0s - loss: 0.3891 - acc: 0.854 - ETA: 0s - loss: 0.3959 - acc: 0.853 - ETA: 0s - loss: 0.4046 - acc: 0.850 - 1s 2ms/step - loss: 0.3961 - acc: 0.8562 - val_loss: 0.5647 - val_acc: 0.8417\n",
      "\n",
      "Epoch 00012: val_loss did not improve from 0.45087\n",
      "Epoch 13/300\n",
      "480/480 [==============================] - ETA: 0s - loss: 0.2782 - acc: 0.906 - ETA: 0s - loss: 0.2896 - acc: 0.921 - ETA: 0s - loss: 0.3431 - acc: 0.885 - ETA: 0s - loss: 0.3078 - acc: 0.898 - ETA: 0s - loss: 0.2989 - acc: 0.900 - ETA: 0s - loss: 0.3271 - acc: 0.885 - ETA: 0s - loss: 0.3234 - acc: 0.888 - ETA: 0s - loss: 0.3305 - acc: 0.882 - ETA: 0s - loss: 0.3379 - acc: 0.885 - ETA: 0s - loss: 0.3393 - acc: 0.881 - ETA: 0s - loss: 0.3484 - acc: 0.875 - ETA: 0s - loss: 0.3584 - acc: 0.869 - ETA: 0s - loss: 0.3650 - acc: 0.863 - ETA: 0s - loss: 0.3482 - acc: 0.868 - 1s 2ms/step - loss: 0.3600 - acc: 0.8667 - val_loss: 0.6920 - val_acc: 0.8250\n",
      "\n",
      "Epoch 00013: val_loss did not improve from 0.45087\n",
      "Epoch 14/300\n",
      "480/480 [==============================] - ETA: 0s - loss: 0.3989 - acc: 0.843 - ETA: 0s - loss: 0.3275 - acc: 0.859 - ETA: 0s - loss: 0.2809 - acc: 0.895 - ETA: 0s - loss: 0.3414 - acc: 0.867 - ETA: 0s - loss: 0.3217 - acc: 0.868 - ETA: 0s - loss: 0.3268 - acc: 0.869 - ETA: 0s - loss: 0.3272 - acc: 0.875 - ETA: 0s - loss: 0.3261 - acc: 0.878 - ETA: 0s - loss: 0.3084 - acc: 0.885 - ETA: 0s - loss: 0.3244 - acc: 0.887 - ETA: 0s - loss: 0.3276 - acc: 0.880 - ETA: 0s - loss: 0.3230 - acc: 0.882 - ETA: 0s - loss: 0.3350 - acc: 0.872 - ETA: 0s - loss: 0.3341 - acc: 0.875 - 1s 2ms/step - loss: 0.3327 - acc: 0.8771 - val_loss: 0.5686 - val_acc: 0.8250\n",
      "\n",
      "Epoch 00014: val_loss did not improve from 0.45087\n",
      "Epoch 15/300\n",
      "480/480 [==============================] - ETA: 0s - loss: 0.2970 - acc: 0.875 - ETA: 0s - loss: 0.3119 - acc: 0.875 - ETA: 0s - loss: 0.2957 - acc: 0.895 - ETA: 0s - loss: 0.2990 - acc: 0.906 - ETA: 0s - loss: 0.3347 - acc: 0.875 - ETA: 0s - loss: 0.3543 - acc: 0.869 - ETA: 0s - loss: 0.3578 - acc: 0.866 - ETA: 0s - loss: 0.3595 - acc: 0.859 - ETA: 0s - loss: 0.3672 - acc: 0.861 - ETA: 0s - loss: 0.3452 - acc: 0.871 - ETA: 0s - loss: 0.3312 - acc: 0.875 - ETA: 0s - loss: 0.3194 - acc: 0.882 - ETA: 0s - loss: 0.3188 - acc: 0.882 - ETA: 0s - loss: 0.3211 - acc: 0.879 - 1s 2ms/step - loss: 0.3172 - acc: 0.8812 - val_loss: 0.6000 - val_acc: 0.8167\n",
      "\n",
      "Epoch 00015: val_loss did not improve from 0.45087\n",
      "Epoch 16/300\n",
      "480/480 [==============================] - ETA: 0s - loss: 0.3301 - acc: 0.843 - ETA: 0s - loss: 0.2750 - acc: 0.890 - ETA: 0s - loss: 0.2402 - acc: 0.916 - ETA: 0s - loss: 0.2164 - acc: 0.929 - ETA: 0s - loss: 0.2219 - acc: 0.931 - ETA: 0s - loss: 0.2190 - acc: 0.921 - ETA: 0s - loss: 0.2116 - acc: 0.928 - ETA: 0s - loss: 0.2090 - acc: 0.929 - ETA: 0s - loss: 0.1967 - acc: 0.937 - ETA: 0s - loss: 0.2076 - acc: 0.928 - ETA: 0s - loss: 0.2199 - acc: 0.923 - ETA: 0s - loss: 0.2307 - acc: 0.924 - ETA: 0s - loss: 0.2378 - acc: 0.915 - ETA: 0s - loss: 0.2479 - acc: 0.912 - 1s 2ms/step - loss: 0.2585 - acc: 0.9083 - val_loss: 0.5997 - val_acc: 0.8500\n",
      "\n",
      "Epoch 00016: val_loss did not improve from 0.45087\n",
      "Epoch 17/300\n",
      "480/480 [==============================] - ETA: 0s - loss: 0.5765 - acc: 0.843 - ETA: 0s - loss: 0.3956 - acc: 0.890 - ETA: 0s - loss: 0.3411 - acc: 0.906 - ETA: 0s - loss: 0.3238 - acc: 0.898 - ETA: 0s - loss: 0.3056 - acc: 0.900 - ETA: 0s - loss: 0.3173 - acc: 0.885 - ETA: 0s - loss: 0.3302 - acc: 0.879 - ETA: 0s - loss: 0.3184 - acc: 0.886 - ETA: 0s - loss: 0.3295 - acc: 0.888 - ETA: 0s - loss: 0.3402 - acc: 0.878 - ETA: 0s - loss: 0.3333 - acc: 0.883 - ETA: 0s - loss: 0.3484 - acc: 0.877 - ETA: 0s - loss: 0.3424 - acc: 0.882 - ETA: 0s - loss: 0.3465 - acc: 0.879 - 1s 2ms/step - loss: 0.3396 - acc: 0.8833 - val_loss: 0.5754 - val_acc: 0.8250\n",
      "\n",
      "Epoch 00017: val_loss did not improve from 0.45087\n",
      "Epoch 18/300\n",
      "480/480 [==============================] - ETA: 0s - loss: 0.4247 - acc: 0.812 - ETA: 0s - loss: 0.3381 - acc: 0.859 - ETA: 0s - loss: 0.3718 - acc: 0.875 - ETA: 0s - loss: 0.3542 - acc: 0.875 - ETA: 0s - loss: 0.3488 - acc: 0.875 - ETA: 0s - loss: 0.3425 - acc: 0.880 - ETA: 0s - loss: 0.3260 - acc: 0.879 - ETA: 0s - loss: 0.3343 - acc: 0.882 - ETA: 0s - loss: 0.3271 - acc: 0.885 - ETA: 0s - loss: 0.3274 - acc: 0.881 - ETA: 0s - loss: 0.3319 - acc: 0.880 - ETA: 0s - loss: 0.3427 - acc: 0.875 - ETA: 0s - loss: 0.3426 - acc: 0.872 - ETA: 0s - loss: 0.3432 - acc: 0.866 - 1s 2ms/step - loss: 0.3416 - acc: 0.8688 - val_loss: 0.5969 - val_acc: 0.8333\n",
      "\n",
      "Epoch 00018: val_loss did not improve from 0.45087\n",
      "Epoch 19/300\n",
      "480/480 [==============================] - ETA: 0s - loss: 0.3488 - acc: 0.875 - ETA: 0s - loss: 0.2500 - acc: 0.921 - ETA: 0s - loss: 0.3180 - acc: 0.895 - ETA: 0s - loss: 0.3200 - acc: 0.898 - ETA: 0s - loss: 0.4463 - acc: 0.868 - ETA: 0s - loss: 0.4294 - acc: 0.864 - ETA: 0s - loss: 0.4173 - acc: 0.866 - ETA: 0s - loss: 0.4223 - acc: 0.859 - ETA: 0s - loss: 0.4062 - acc: 0.864 - ETA: 0s - loss: 0.3823 - acc: 0.871 - ETA: 0s - loss: 0.3977 - acc: 0.860 - ETA: 0s - loss: 0.3781 - acc: 0.869 - ETA: 0s - loss: 0.3806 - acc: 0.865 - ETA: 0s - loss: 0.3700 - acc: 0.870 - 1s 2ms/step - loss: 0.3675 - acc: 0.8729 - val_loss: 0.6143 - val_acc: 0.8417\n",
      "\n",
      "Epoch 00019: val_loss did not improve from 0.45087\n",
      "Epoch 20/300\n",
      "480/480 [==============================] - ETA: 0s - loss: 0.4309 - acc: 0.781 - ETA: 0s - loss: 0.3332 - acc: 0.859 - ETA: 0s - loss: 0.3292 - acc: 0.864 - ETA: 0s - loss: 0.3499 - acc: 0.867 - ETA: 0s - loss: 0.3395 - acc: 0.875 - ETA: 0s - loss: 0.3193 - acc: 0.880 - ETA: 0s - loss: 0.3192 - acc: 0.883 - ETA: 0s - loss: 0.2951 - acc: 0.894 - ETA: 0s - loss: 0.3073 - acc: 0.885 - ETA: 0s - loss: 0.3118 - acc: 0.884 - ETA: 0s - loss: 0.3032 - acc: 0.889 - ETA: 0s - loss: 0.3162 - acc: 0.888 - ETA: 0s - loss: 0.3135 - acc: 0.887 - ETA: 0s - loss: 0.3147 - acc: 0.888 - 1s 2ms/step - loss: 0.3113 - acc: 0.8917 - val_loss: 0.6902 - val_acc: 0.8083\n",
      "\n",
      "Epoch 00020: val_loss did not improve from 0.45087\n",
      "Epoch 21/300\n",
      "480/480 [==============================] - ETA: 0s - loss: 0.2996 - acc: 0.875 - ETA: 0s - loss: 0.3178 - acc: 0.875 - ETA: 0s - loss: 0.3343 - acc: 0.875 - ETA: 0s - loss: 0.3078 - acc: 0.898 - ETA: 0s - loss: 0.3131 - acc: 0.893 - ETA: 0s - loss: 0.3116 - acc: 0.901 - ETA: 0s - loss: 0.2963 - acc: 0.906 - ETA: 0s - loss: 0.2825 - acc: 0.914 - ETA: 0s - loss: 0.2679 - acc: 0.916 - ETA: 0s - loss: 0.2640 - acc: 0.918 - ETA: 0s - loss: 0.2574 - acc: 0.920 - ETA: 0s - loss: 0.2650 - acc: 0.919 - ETA: 0s - loss: 0.2492 - acc: 0.925 - ETA: 0s - loss: 0.2413 - acc: 0.930 - 1s 2ms/step - loss: 0.2344 - acc: 0.9333 - val_loss: 0.5728 - val_acc: 0.8500\n",
      "\n",
      "Epoch 00021: val_loss did not improve from 0.45087\n",
      "Epoch 22/300\n",
      "480/480 [==============================] - ETA: 0s - loss: 0.2438 - acc: 0.906 - ETA: 0s - loss: 0.2428 - acc: 0.906 - ETA: 0s - loss: 0.2523 - acc: 0.906 - ETA: 0s - loss: 0.2145 - acc: 0.921 - ETA: 0s - loss: 0.2166 - acc: 0.925 - ETA: 0s - loss: 0.2234 - acc: 0.916 - ETA: 0s - loss: 0.2220 - acc: 0.924 - ETA: 0s - loss: 0.2589 - acc: 0.910 - ETA: 0s - loss: 0.2716 - acc: 0.902 - ETA: 0s - loss: 0.2615 - acc: 0.912 - ETA: 0s - loss: 0.2571 - acc: 0.911 - ETA: 0s - loss: 0.2483 - acc: 0.911 - ETA: 0s - loss: 0.2463 - acc: 0.911 - ETA: 0s - loss: 0.2568 - acc: 0.908 - 1s 2ms/step - loss: 0.2614 - acc: 0.9042 - val_loss: 0.5509 - val_acc: 0.8417\n",
      "\n",
      "Epoch 00022: val_loss did not improve from 0.45087\n",
      "Epoch 23/300\n"
     ]
    },
    {
     "name": "stdout",
     "output_type": "stream",
     "text": [
      "480/480 [==============================] - ETA: 0s - loss: 0.2630 - acc: 0.843 - ETA: 0s - loss: 0.2500 - acc: 0.859 - ETA: 0s - loss: 0.2560 - acc: 0.875 - ETA: 0s - loss: 0.2369 - acc: 0.890 - ETA: 0s - loss: 0.2133 - acc: 0.906 - ETA: 0s - loss: 0.2258 - acc: 0.901 - ETA: 0s - loss: 0.2600 - acc: 0.897 - ETA: 0s - loss: 0.2621 - acc: 0.898 - ETA: 0s - loss: 0.2650 - acc: 0.899 - ETA: 0s - loss: 0.2520 - acc: 0.906 - ETA: 0s - loss: 0.2411 - acc: 0.911 - ETA: 0s - loss: 0.2393 - acc: 0.911 - ETA: 0s - loss: 0.2619 - acc: 0.903 - ETA: 0s - loss: 0.2717 - acc: 0.904 - 1s 2ms/step - loss: 0.2681 - acc: 0.9083 - val_loss: 0.5655 - val_acc: 0.8500\n",
      "\n",
      "Epoch 00023: val_loss did not improve from 0.45087\n",
      "Epoch 24/300\n",
      "480/480 [==============================] - ETA: 0s - loss: 0.1435 - acc: 0.968 - ETA: 0s - loss: 0.1315 - acc: 0.953 - ETA: 0s - loss: 0.2331 - acc: 0.916 - ETA: 0s - loss: 0.2417 - acc: 0.906 - ETA: 0s - loss: 0.2884 - acc: 0.887 - ETA: 0s - loss: 0.2813 - acc: 0.895 - ETA: 0s - loss: 0.2944 - acc: 0.888 - ETA: 0s - loss: 0.2964 - acc: 0.890 - ETA: 0s - loss: 0.2976 - acc: 0.888 - ETA: 0s - loss: 0.2939 - acc: 0.887 - ETA: 0s - loss: 0.2821 - acc: 0.897 - ETA: 0s - loss: 0.2894 - acc: 0.895 - ETA: 0s - loss: 0.2936 - acc: 0.896 - ETA: 0s - loss: 0.2825 - acc: 0.901 - 1s 2ms/step - loss: 0.2879 - acc: 0.9021 - val_loss: 0.6398 - val_acc: 0.8167\n",
      "\n",
      "Epoch 00024: val_loss did not improve from 0.45087\n",
      "Epoch 25/300\n",
      "480/480 [==============================] - ETA: 0s - loss: 0.2561 - acc: 0.937 - ETA: 0s - loss: 0.2458 - acc: 0.906 - ETA: 0s - loss: 0.2412 - acc: 0.895 - ETA: 0s - loss: 0.2506 - acc: 0.882 - ETA: 0s - loss: 0.2404 - acc: 0.893 - ETA: 0s - loss: 0.2310 - acc: 0.890 - ETA: 0s - loss: 0.2360 - acc: 0.897 - ETA: 0s - loss: 0.2316 - acc: 0.894 - ETA: 0s - loss: 0.2258 - acc: 0.899 - ETA: 0s - loss: 0.2339 - acc: 0.903 - ETA: 0s - loss: 0.2316 - acc: 0.900 - ETA: 0s - loss: 0.2435 - acc: 0.898 - ETA: 0s - loss: 0.2405 - acc: 0.901 - ETA: 0s - loss: 0.2451 - acc: 0.897 - 1s 2ms/step - loss: 0.2360 - acc: 0.9042 - val_loss: 0.5121 - val_acc: 0.8417\n",
      "\n",
      "Epoch 00025: val_loss did not improve from 0.45087\n",
      "Epoch 26/300\n",
      "480/480 [==============================] - ETA: 0s - loss: 0.1614 - acc: 1.000 - ETA: 0s - loss: 0.1610 - acc: 1.000 - ETA: 0s - loss: 0.2127 - acc: 0.947 - ETA: 0s - loss: 0.2558 - acc: 0.914 - ETA: 0s - loss: 0.2800 - acc: 0.887 - ETA: 0s - loss: 0.2781 - acc: 0.885 - ETA: 0s - loss: 0.2987 - acc: 0.883 - ETA: 0s - loss: 0.2684 - acc: 0.898 - ETA: 0s - loss: 0.2560 - acc: 0.909 - ETA: 0s - loss: 0.2493 - acc: 0.912 - ETA: 0s - loss: 0.2510 - acc: 0.911 - ETA: 0s - loss: 0.2469 - acc: 0.911 - ETA: 0s - loss: 0.2480 - acc: 0.908 - ETA: 0s - loss: 0.2477 - acc: 0.908 - 1s 2ms/step - loss: 0.2460 - acc: 0.9083 - val_loss: 0.5401 - val_acc: 0.8500\n",
      "\n",
      "Epoch 00026: val_loss did not improve from 0.45087\n",
      "Epoch 27/300\n",
      "480/480 [==============================] - ETA: 0s - loss: 0.6026 - acc: 0.781 - ETA: 0s - loss: 0.4962 - acc: 0.796 - ETA: 0s - loss: 0.4778 - acc: 0.802 - ETA: 0s - loss: 0.3907 - acc: 0.843 - ETA: 0s - loss: 0.3466 - acc: 0.868 - ETA: 0s - loss: 0.3569 - acc: 0.864 - ETA: 0s - loss: 0.3265 - acc: 0.879 - ETA: 0s - loss: 0.2949 - acc: 0.894 - ETA: 0s - loss: 0.2936 - acc: 0.892 - ETA: 0s - loss: 0.2876 - acc: 0.893 - ETA: 0s - loss: 0.2881 - acc: 0.892 - ETA: 0s - loss: 0.2956 - acc: 0.888 - ETA: 0s - loss: 0.3052 - acc: 0.882 - ETA: 0s - loss: 0.2964 - acc: 0.886 - 1s 2ms/step - loss: 0.2979 - acc: 0.8854 - val_loss: 0.7379 - val_acc: 0.8250\n",
      "\n",
      "Epoch 00027: val_loss did not improve from 0.45087\n",
      "Epoch 28/300\n",
      "480/480 [==============================] - ETA: 0s - loss: 0.4175 - acc: 0.812 - ETA: 0s - loss: 0.3800 - acc: 0.875 - ETA: 0s - loss: 0.2938 - acc: 0.895 - ETA: 0s - loss: 0.2784 - acc: 0.914 - ETA: 0s - loss: 0.2687 - acc: 0.912 - ETA: 0s - loss: 0.2684 - acc: 0.911 - ETA: 0s - loss: 0.2641 - acc: 0.910 - ETA: 0s - loss: 0.2478 - acc: 0.921 - ETA: 0s - loss: 0.2487 - acc: 0.913 - ETA: 0s - loss: 0.2422 - acc: 0.915 - ETA: 0s - loss: 0.2398 - acc: 0.917 - ETA: 0s - loss: 0.2311 - acc: 0.916 - ETA: 0s - loss: 0.2433 - acc: 0.913 - ETA: 0s - loss: 0.2551 - acc: 0.910 - 1s 2ms/step - loss: 0.2682 - acc: 0.9104 - val_loss: 0.4932 - val_acc: 0.8500\n",
      "\n",
      "Epoch 00028: val_loss did not improve from 0.45087\n",
      "Epoch 29/300\n",
      "480/480 [==============================] - ETA: 0s - loss: 0.1253 - acc: 0.968 - ETA: 0s - loss: 0.1387 - acc: 0.984 - ETA: 0s - loss: 0.1949 - acc: 0.947 - ETA: 0s - loss: 0.2747 - acc: 0.921 - ETA: 0s - loss: 0.3091 - acc: 0.912 - ETA: 0s - loss: 0.3366 - acc: 0.901 - ETA: 0s - loss: 0.3205 - acc: 0.906 - ETA: 0s - loss: 0.3407 - acc: 0.894 - ETA: 0s - loss: 0.3478 - acc: 0.888 - ETA: 0s - loss: 0.3562 - acc: 0.884 - ETA: 0s - loss: 0.3579 - acc: 0.883 - ETA: 0s - loss: 0.3701 - acc: 0.875 - ETA: 0s - loss: 0.3568 - acc: 0.877 - ETA: 0s - loss: 0.3741 - acc: 0.875 - 1s 2ms/step - loss: 0.3995 - acc: 0.8688 - val_loss: 0.6017 - val_acc: 0.8417\n",
      "\n",
      "Epoch 00029: val_loss did not improve from 0.45087\n",
      "Epoch 30/300\n",
      "480/480 [==============================] - ETA: 1s - loss: 0.5704 - acc: 0.812 - ETA: 0s - loss: 0.6044 - acc: 0.796 - ETA: 0s - loss: 0.4649 - acc: 0.822 - ETA: 0s - loss: 0.5722 - acc: 0.804 - ETA: 0s - loss: 0.5071 - acc: 0.831 - ETA: 0s - loss: 0.4549 - acc: 0.854 - ETA: 0s - loss: 0.4665 - acc: 0.852 - ETA: 0s - loss: 0.4286 - acc: 0.863 - ETA: 0s - loss: 0.4139 - acc: 0.871 - ETA: 0s - loss: 0.4203 - acc: 0.871 - ETA: 0s - loss: 0.4045 - acc: 0.877 - ETA: 0s - loss: 0.3940 - acc: 0.882 - ETA: 0s - loss: 0.3757 - acc: 0.887 - ETA: 0s - loss: 0.3895 - acc: 0.883 - 1s 2ms/step - loss: 0.3944 - acc: 0.8792 - val_loss: 0.7007 - val_acc: 0.8333\n",
      "\n",
      "Epoch 00030: val_loss did not improve from 0.45087\n",
      "Epoch 31/300\n",
      "480/480 [==============================] - ETA: 0s - loss: 0.3482 - acc: 0.937 - ETA: 0s - loss: 0.3950 - acc: 0.906 - ETA: 0s - loss: 0.4716 - acc: 0.864 - ETA: 0s - loss: 0.4144 - acc: 0.882 - ETA: 0s - loss: 0.4113 - acc: 0.881 - ETA: 0s - loss: 0.3984 - acc: 0.880 - ETA: 0s - loss: 0.3714 - acc: 0.888 - ETA: 0s - loss: 0.3528 - acc: 0.894 - ETA: 0s - loss: 0.3547 - acc: 0.888 - ETA: 0s - loss: 0.3631 - acc: 0.884 - ETA: 0s - loss: 0.3708 - acc: 0.880 - ETA: 0s - loss: 0.3533 - acc: 0.888 - ETA: 0s - loss: 0.3629 - acc: 0.884 - ETA: 0s - loss: 0.3665 - acc: 0.875 - 1s 2ms/step - loss: 0.3634 - acc: 0.8792 - val_loss: 0.5366 - val_acc: 0.8500\n",
      "\n",
      "Epoch 00031: val_loss did not improve from 0.45087\n",
      "Epoch 32/300\n",
      "480/480 [==============================] - ETA: 0s - loss: 0.3043 - acc: 0.906 - ETA: 0s - loss: 0.3324 - acc: 0.906 - ETA: 0s - loss: 0.2959 - acc: 0.916 - ETA: 0s - loss: 0.2938 - acc: 0.898 - ETA: 0s - loss: 0.2832 - acc: 0.900 - ETA: 0s - loss: 0.2579 - acc: 0.911 - ETA: 0s - loss: 0.2544 - acc: 0.915 - ETA: 0s - loss: 0.2753 - acc: 0.906 - ETA: 0s - loss: 0.2723 - acc: 0.906 - ETA: 0s - loss: 0.2597 - acc: 0.909 - ETA: 0s - loss: 0.2541 - acc: 0.911 - ETA: 0s - loss: 0.2696 - acc: 0.906 - ETA: 0s - loss: 0.2682 - acc: 0.906 - ETA: 0s - loss: 0.2747 - acc: 0.904 - 1s 2ms/step - loss: 0.2708 - acc: 0.9062 - val_loss: 0.5756 - val_acc: 0.8667\n",
      "\n",
      "Epoch 00032: val_loss did not improve from 0.45087\n",
      "Epoch 33/300\n",
      "480/480 [==============================] - ETA: 0s - loss: 0.2046 - acc: 0.937 - ETA: 0s - loss: 0.3207 - acc: 0.906 - ETA: 0s - loss: 0.3087 - acc: 0.895 - ETA: 0s - loss: 0.3204 - acc: 0.875 - ETA: 0s - loss: 0.3055 - acc: 0.881 - ETA: 0s - loss: 0.2981 - acc: 0.895 - ETA: 0s - loss: 0.2821 - acc: 0.906 - ETA: 0s - loss: 0.2751 - acc: 0.910 - ETA: 0s - loss: 0.2862 - acc: 0.902 - ETA: 0s - loss: 0.3231 - acc: 0.900 - ETA: 0s - loss: 0.3127 - acc: 0.903 - ETA: 0s - loss: 0.3050 - acc: 0.908 - ETA: 0s - loss: 0.2985 - acc: 0.911 - ETA: 0s - loss: 0.2935 - acc: 0.912 - 1s 2ms/step - loss: 0.2896 - acc: 0.9146 - val_loss: 0.6190 - val_acc: 0.8500\n",
      "\n",
      "Epoch 00033: val_loss did not improve from 0.45087\n",
      "Epoch 34/300\n"
     ]
    },
    {
     "name": "stdout",
     "output_type": "stream",
     "text": [
      "480/480 [==============================] - ETA: 1s - loss: 0.2132 - acc: 0.906 - ETA: 0s - loss: 0.2671 - acc: 0.875 - ETA: 0s - loss: 0.2517 - acc: 0.875 - ETA: 0s - loss: 0.2417 - acc: 0.882 - ETA: 0s - loss: 0.2044 - acc: 0.900 - ETA: 0s - loss: 0.2138 - acc: 0.901 - ETA: 0s - loss: 0.2156 - acc: 0.901 - ETA: 0s - loss: 0.2209 - acc: 0.898 - ETA: 0s - loss: 0.2257 - acc: 0.895 - ETA: 0s - loss: 0.2266 - acc: 0.903 - ETA: 0s - loss: 0.2171 - acc: 0.906 - ETA: 0s - loss: 0.2190 - acc: 0.903 - ETA: 0s - loss: 0.2252 - acc: 0.901 - ETA: 0s - loss: 0.2234 - acc: 0.904 - 1s 2ms/step - loss: 0.2246 - acc: 0.9062 - val_loss: 0.4778 - val_acc: 0.8667\n",
      "\n",
      "Epoch 00034: val_loss did not improve from 0.45087\n",
      "Epoch 35/300\n",
      "480/480 [==============================] - ETA: 0s - loss: 0.1775 - acc: 0.937 - ETA: 0s - loss: 0.2499 - acc: 0.921 - ETA: 0s - loss: 0.2198 - acc: 0.927 - ETA: 0s - loss: 0.2116 - acc: 0.929 - ETA: 0s - loss: 0.2067 - acc: 0.937 - ETA: 0s - loss: 0.2147 - acc: 0.937 - ETA: 0s - loss: 0.1981 - acc: 0.946 - ETA: 0s - loss: 0.1798 - acc: 0.953 - ETA: 0s - loss: 0.1982 - acc: 0.947 - ETA: 0s - loss: 0.2113 - acc: 0.937 - ETA: 0s - loss: 0.2042 - acc: 0.943 - ETA: 0s - loss: 0.2052 - acc: 0.937 - ETA: 0s - loss: 0.2022 - acc: 0.935 - ETA: 0s - loss: 0.2100 - acc: 0.933 - 1s 2ms/step - loss: 0.2127 - acc: 0.9292 - val_loss: 0.4501 - val_acc: 0.8750\n",
      "\n",
      "Epoch 00035: val_loss improved from 0.45087 to 0.45011, saving model to model.h5\n",
      "Epoch 36/300\n",
      "480/480 [==============================] - ETA: 0s - loss: 0.1452 - acc: 0.937 - ETA: 0s - loss: 0.1582 - acc: 0.937 - ETA: 0s - loss: 0.1784 - acc: 0.927 - ETA: 0s - loss: 0.1918 - acc: 0.937 - ETA: 0s - loss: 0.1673 - acc: 0.950 - ETA: 0s - loss: 0.1532 - acc: 0.953 - ETA: 0s - loss: 0.1545 - acc: 0.950 - ETA: 0s - loss: 0.1519 - acc: 0.949 - ETA: 0s - loss: 0.1679 - acc: 0.947 - ETA: 0s - loss: 0.1756 - acc: 0.946 - ETA: 0s - loss: 0.1952 - acc: 0.934 - ETA: 0s - loss: 0.1976 - acc: 0.932 - ETA: 0s - loss: 0.1917 - acc: 0.935 - ETA: 0s - loss: 0.1812 - acc: 0.939 - 1s 2ms/step - loss: 0.1835 - acc: 0.9396 - val_loss: 0.5186 - val_acc: 0.8667\n",
      "\n",
      "Epoch 00036: val_loss did not improve from 0.45011\n",
      "Epoch 37/300\n",
      "480/480 [==============================] - ETA: 0s - loss: 0.1036 - acc: 0.968 - ETA: 0s - loss: 0.1258 - acc: 0.953 - ETA: 0s - loss: 0.1783 - acc: 0.937 - ETA: 0s - loss: 0.1792 - acc: 0.945 - ETA: 0s - loss: 0.1978 - acc: 0.937 - ETA: 0s - loss: 0.1945 - acc: 0.937 - ETA: 0s - loss: 0.1954 - acc: 0.933 - ETA: 0s - loss: 0.1863 - acc: 0.937 - ETA: 0s - loss: 0.1885 - acc: 0.937 - ETA: 0s - loss: 0.1906 - acc: 0.931 - ETA: 0s - loss: 0.1875 - acc: 0.934 - ETA: 0s - loss: 0.1798 - acc: 0.937 - ETA: 0s - loss: 0.1772 - acc: 0.937 - ETA: 0s - loss: 0.1907 - acc: 0.928 - 1s 2ms/step - loss: 0.1859 - acc: 0.9313 - val_loss: 0.4994 - val_acc: 0.8750\n",
      "\n",
      "Epoch 00037: val_loss did not improve from 0.45011\n",
      "Epoch 38/300\n",
      "480/480 [==============================] - ETA: 0s - loss: 0.2367 - acc: 0.937 - ETA: 0s - loss: 0.2186 - acc: 0.921 - ETA: 0s - loss: 0.2182 - acc: 0.927 - ETA: 0s - loss: 0.2122 - acc: 0.929 - ETA: 0s - loss: 0.1931 - acc: 0.931 - ETA: 0s - loss: 0.2020 - acc: 0.921 - ETA: 0s - loss: 0.1983 - acc: 0.924 - ETA: 0s - loss: 0.1913 - acc: 0.929 - ETA: 0s - loss: 0.1933 - acc: 0.927 - ETA: 0s - loss: 0.1867 - acc: 0.928 - ETA: 0s - loss: 0.1892 - acc: 0.929 - ETA: 0s - loss: 0.1829 - acc: 0.932 - ETA: 0s - loss: 0.1815 - acc: 0.932 - ETA: 0s - loss: 0.1784 - acc: 0.935 - 1s 2ms/step - loss: 0.1827 - acc: 0.9333 - val_loss: 0.5050 - val_acc: 0.8750\n",
      "\n",
      "Epoch 00038: val_loss did not improve from 0.45011\n",
      "Epoch 39/300\n",
      "480/480 [==============================] - ETA: 0s - loss: 0.0925 - acc: 0.968 - ETA: 0s - loss: 0.0865 - acc: 0.968 - ETA: 0s - loss: 0.1185 - acc: 0.958 - ETA: 0s - loss: 0.1305 - acc: 0.953 - ETA: 0s - loss: 0.1442 - acc: 0.943 - ETA: 0s - loss: 0.1455 - acc: 0.942 - ETA: 0s - loss: 0.1389 - acc: 0.946 - ETA: 0s - loss: 0.1469 - acc: 0.949 - ETA: 0s - loss: 0.1546 - acc: 0.941 - ETA: 0s - loss: 0.1523 - acc: 0.943 - ETA: 0s - loss: 0.1448 - acc: 0.946 - ETA: 0s - loss: 0.1487 - acc: 0.947 - ETA: 0s - loss: 0.1478 - acc: 0.947 - ETA: 0s - loss: 0.1472 - acc: 0.946 - 1s 2ms/step - loss: 0.1563 - acc: 0.9458 - val_loss: 0.5395 - val_acc: 0.8750\n",
      "\n",
      "Epoch 00039: val_loss did not improve from 0.45011\n",
      "Epoch 40/300\n",
      "480/480 [==============================] - ETA: 0s - loss: 0.1917 - acc: 0.937 - ETA: 0s - loss: 0.1402 - acc: 0.953 - ETA: 0s - loss: 0.1591 - acc: 0.947 - ETA: 0s - loss: 0.1928 - acc: 0.929 - ETA: 0s - loss: 0.2256 - acc: 0.912 - ETA: 0s - loss: 0.2153 - acc: 0.911 - ETA: 0s - loss: 0.2028 - acc: 0.919 - ETA: 0s - loss: 0.1996 - acc: 0.921 - ETA: 0s - loss: 0.2006 - acc: 0.916 - ETA: 0s - loss: 0.2092 - acc: 0.915 - ETA: 0s - loss: 0.1999 - acc: 0.920 - ETA: 0s - loss: 0.1964 - acc: 0.921 - ETA: 0s - loss: 0.1958 - acc: 0.920 - ETA: 0s - loss: 0.1902 - acc: 0.924 - 1s 2ms/step - loss: 0.1891 - acc: 0.9250 - val_loss: 0.5770 - val_acc: 0.8500\n",
      "\n",
      "Epoch 00040: val_loss did not improve from 0.45011\n",
      "Epoch 41/300\n",
      "480/480 [==============================] - ETA: 0s - loss: 0.0849 - acc: 1.000 - ETA: 0s - loss: 0.0580 - acc: 1.000 - ETA: 0s - loss: 0.1263 - acc: 0.958 - ETA: 0s - loss: 0.1284 - acc: 0.953 - ETA: 0s - loss: 0.1346 - acc: 0.950 - ETA: 0s - loss: 0.1325 - acc: 0.947 - ETA: 0s - loss: 0.1345 - acc: 0.950 - ETA: 0s - loss: 0.1389 - acc: 0.945 - ETA: 0s - loss: 0.1522 - acc: 0.937 - ETA: 0s - loss: 0.1452 - acc: 0.943 - ETA: 0s - loss: 0.1394 - acc: 0.946 - ETA: 0s - loss: 0.1496 - acc: 0.940 - ETA: 0s - loss: 0.1463 - acc: 0.942 - ETA: 0s - loss: 0.1448 - acc: 0.942 - 1s 2ms/step - loss: 0.1426 - acc: 0.9437 - val_loss: 0.4835 - val_acc: 0.8833\n",
      "\n",
      "Epoch 00041: val_loss did not improve from 0.45011\n",
      "Epoch 42/300\n",
      "480/480 [==============================] - ETA: 0s - loss: 0.0987 - acc: 0.968 - ETA: 0s - loss: 0.1145 - acc: 0.953 - ETA: 0s - loss: 0.1059 - acc: 0.958 - ETA: 0s - loss: 0.0936 - acc: 0.968 - ETA: 0s - loss: 0.0926 - acc: 0.968 - ETA: 0s - loss: 0.0875 - acc: 0.974 - ETA: 0s - loss: 0.1253 - acc: 0.959 - ETA: 0s - loss: 0.1167 - acc: 0.964 - ETA: 0s - loss: 0.1261 - acc: 0.965 - ETA: 0s - loss: 0.1430 - acc: 0.956 - ETA: 0s - loss: 0.1445 - acc: 0.957 - ETA: 0s - loss: 0.1385 - acc: 0.960 - ETA: 0s - loss: 0.1369 - acc: 0.961 - ETA: 0s - loss: 0.1438 - acc: 0.957 - 1s 2ms/step - loss: 0.1461 - acc: 0.9542 - val_loss: 0.5292 - val_acc: 0.8750\n",
      "\n",
      "Epoch 00042: val_loss did not improve from 0.45011\n",
      "Epoch 43/300\n",
      "480/480 [==============================] - ETA: 0s - loss: 0.1095 - acc: 0.937 - ETA: 0s - loss: 0.1601 - acc: 0.921 - ETA: 0s - loss: 0.1841 - acc: 0.937 - ETA: 0s - loss: 0.1571 - acc: 0.953 - ETA: 0s - loss: 0.1972 - acc: 0.937 - ETA: 0s - loss: 0.2057 - acc: 0.927 - ETA: 0s - loss: 0.1971 - acc: 0.928 - ETA: 0s - loss: 0.2224 - acc: 0.918 - ETA: 0s - loss: 0.2173 - acc: 0.913 - ETA: 0s - loss: 0.2317 - acc: 0.906 - ETA: 0s - loss: 0.2214 - acc: 0.914 - ETA: 0s - loss: 0.2174 - acc: 0.916 - ETA: 0s - loss: 0.2105 - acc: 0.920 - ETA: 0s - loss: 0.2022 - acc: 0.926 - 1s 2ms/step - loss: 0.1991 - acc: 0.9271 - val_loss: 0.5207 - val_acc: 0.8667\n",
      "\n",
      "Epoch 00043: val_loss did not improve from 0.45011\n",
      "Epoch 44/300\n",
      "480/480 [==============================] - ETA: 0s - loss: 0.2157 - acc: 0.937 - ETA: 0s - loss: 0.1675 - acc: 0.953 - ETA: 0s - loss: 0.1930 - acc: 0.958 - ETA: 0s - loss: 0.1927 - acc: 0.945 - ETA: 0s - loss: 0.1739 - acc: 0.950 - ETA: 0s - loss: 0.1564 - acc: 0.958 - ETA: 0s - loss: 0.1498 - acc: 0.959 - ETA: 0s - loss: 0.1576 - acc: 0.953 - ETA: 0s - loss: 0.1543 - acc: 0.951 - ETA: 0s - loss: 0.1479 - acc: 0.953 - ETA: 0s - loss: 0.1482 - acc: 0.954 - ETA: 0s - loss: 0.1518 - acc: 0.953 - ETA: 0s - loss: 0.1511 - acc: 0.954 - ETA: 0s - loss: 0.1546 - acc: 0.950 - 1s 2ms/step - loss: 0.1481 - acc: 0.9542 - val_loss: 0.5257 - val_acc: 0.8833\n",
      "\n",
      "Epoch 00044: val_loss did not improve from 0.45011\n",
      "Epoch 45/300\n"
     ]
    },
    {
     "name": "stdout",
     "output_type": "stream",
     "text": [
      "480/480 [==============================] - ETA: 0s - loss: 0.1783 - acc: 0.937 - ETA: 0s - loss: 0.1594 - acc: 0.937 - ETA: 0s - loss: 0.1407 - acc: 0.947 - ETA: 0s - loss: 0.1390 - acc: 0.953 - ETA: 0s - loss: 0.1633 - acc: 0.937 - ETA: 0s - loss: 0.1569 - acc: 0.942 - ETA: 0s - loss: 0.1611 - acc: 0.942 - ETA: 0s - loss: 0.1700 - acc: 0.933 - ETA: 0s - loss: 0.1694 - acc: 0.934 - ETA: 0s - loss: 0.1644 - acc: 0.937 - ETA: 0s - loss: 0.1605 - acc: 0.943 - ETA: 0s - loss: 0.1568 - acc: 0.940 - ETA: 0s - loss: 0.1519 - acc: 0.942 - ETA: 0s - loss: 0.1466 - acc: 0.946 - 1s 2ms/step - loss: 0.1477 - acc: 0.9458 - val_loss: 0.4570 - val_acc: 0.8833\n",
      "\n",
      "Epoch 00045: val_loss did not improve from 0.45011\n",
      "Epoch 46/300\n",
      "480/480 [==============================] - ETA: 0s - loss: 0.0788 - acc: 1.000 - ETA: 0s - loss: 0.0858 - acc: 0.968 - ETA: 0s - loss: 0.0835 - acc: 0.968 - ETA: 0s - loss: 0.0843 - acc: 0.976 - ETA: 0s - loss: 0.0928 - acc: 0.975 - ETA: 0s - loss: 0.1060 - acc: 0.968 - ETA: 0s - loss: 0.1071 - acc: 0.968 - ETA: 0s - loss: 0.1128 - acc: 0.960 - ETA: 0s - loss: 0.1348 - acc: 0.947 - ETA: 0s - loss: 0.1374 - acc: 0.950 - ETA: 0s - loss: 0.1439 - acc: 0.948 - ETA: 0s - loss: 0.1432 - acc: 0.947 - ETA: 0s - loss: 0.1359 - acc: 0.951 - ETA: 0s - loss: 0.1449 - acc: 0.948 - 1s 3ms/step - loss: 0.1434 - acc: 0.9500 - val_loss: 0.5017 - val_acc: 0.8750\n",
      "\n",
      "Epoch 00046: val_loss did not improve from 0.45011\n",
      "Epoch 47/300\n",
      "480/480 [==============================] - ETA: 1s - loss: 0.2004 - acc: 0.906 - ETA: 1s - loss: 0.1480 - acc: 0.953 - ETA: 1s - loss: 0.1590 - acc: 0.947 - ETA: 0s - loss: 0.1336 - acc: 0.960 - ETA: 0s - loss: 0.1417 - acc: 0.950 - ETA: 0s - loss: 0.1262 - acc: 0.958 - ETA: 0s - loss: 0.1132 - acc: 0.964 - ETA: 0s - loss: 0.1213 - acc: 0.960 - ETA: 0s - loss: 0.1539 - acc: 0.954 - ETA: 0s - loss: 0.1499 - acc: 0.956 - ETA: 0s - loss: 0.1571 - acc: 0.948 - ETA: 0s - loss: 0.1611 - acc: 0.942 - ETA: 0s - loss: 0.1582 - acc: 0.944 - ETA: 0s - loss: 0.1572 - acc: 0.944 - 1s 3ms/step - loss: 0.1524 - acc: 0.9479 - val_loss: 0.5637 - val_acc: 0.8750\n",
      "\n",
      "Epoch 00047: val_loss did not improve from 0.45011\n",
      "Epoch 48/300\n",
      "480/480 [==============================] - ETA: 1s - loss: 0.2598 - acc: 0.906 - ETA: 0s - loss: 0.1514 - acc: 0.953 - ETA: 0s - loss: 0.1681 - acc: 0.947 - ETA: 0s - loss: 0.1338 - acc: 0.960 - ETA: 0s - loss: 0.1265 - acc: 0.962 - ETA: 0s - loss: 0.1327 - acc: 0.958 - ETA: 0s - loss: 0.1370 - acc: 0.950 - ETA: 0s - loss: 0.1297 - acc: 0.953 - ETA: 0s - loss: 0.1328 - acc: 0.947 - ETA: 0s - loss: 0.1391 - acc: 0.943 - ETA: 0s - loss: 0.1338 - acc: 0.946 - ETA: 0s - loss: 0.1407 - acc: 0.945 - ETA: 0s - loss: 0.1375 - acc: 0.944 - ETA: 0s - loss: 0.1357 - acc: 0.946 - 1s 3ms/step - loss: 0.1352 - acc: 0.9479 - val_loss: 0.5382 - val_acc: 0.8833\n",
      "\n",
      "Epoch 00048: val_loss did not improve from 0.45011\n",
      "Epoch 49/300\n",
      "480/480 [==============================] - ETA: 0s - loss: 0.0760 - acc: 0.968 - ETA: 0s - loss: 0.1206 - acc: 0.953 - ETA: 0s - loss: 0.1565 - acc: 0.927 - ETA: 0s - loss: 0.1566 - acc: 0.937 - ETA: 0s - loss: 0.1397 - acc: 0.943 - ETA: 0s - loss: 0.1644 - acc: 0.932 - ETA: 0s - loss: 0.1670 - acc: 0.933 - ETA: 0s - loss: 0.1680 - acc: 0.929 - ETA: 0s - loss: 0.1764 - acc: 0.927 - ETA: 0s - loss: 0.1718 - acc: 0.928 - ETA: 0s - loss: 0.1804 - acc: 0.926 - ETA: 0s - loss: 0.1759 - acc: 0.927 - ETA: 0s - loss: 0.1835 - acc: 0.923 - ETA: 0s - loss: 0.1814 - acc: 0.924 - 1s 3ms/step - loss: 0.1771 - acc: 0.9271 - val_loss: 0.5454 - val_acc: 0.8667\n",
      "\n",
      "Epoch 00049: val_loss did not improve from 0.45011\n",
      "Epoch 50/300\n",
      "480/480 [==============================] - ETA: 1s - loss: 0.2056 - acc: 0.906 - ETA: 1s - loss: 0.1772 - acc: 0.937 - ETA: 1s - loss: 0.1766 - acc: 0.927 - ETA: 0s - loss: 0.1455 - acc: 0.945 - ETA: 0s - loss: 0.1316 - acc: 0.956 - ETA: 0s - loss: 0.1501 - acc: 0.942 - ETA: 0s - loss: 0.1449 - acc: 0.942 - ETA: 0s - loss: 0.1417 - acc: 0.945 - ETA: 0s - loss: 0.1344 - acc: 0.951 - ETA: 0s - loss: 0.1248 - acc: 0.956 - ETA: 0s - loss: 0.1305 - acc: 0.951 - ETA: 0s - loss: 0.1229 - acc: 0.955 - ETA: 0s - loss: 0.1328 - acc: 0.949 - ETA: 0s - loss: 0.1332 - acc: 0.950 - 1s 3ms/step - loss: 0.1288 - acc: 0.9542 - val_loss: 0.5522 - val_acc: 0.8750\n",
      "\n",
      "Epoch 00050: val_loss did not improve from 0.45011\n",
      "Epoch 51/300\n",
      "480/480 [==============================] - ETA: 1s - loss: 0.1178 - acc: 1.000 - ETA: 1s - loss: 0.0900 - acc: 1.000 - ETA: 1s - loss: 0.0925 - acc: 1.000 - ETA: 0s - loss: 0.1102 - acc: 0.992 - ETA: 0s - loss: 0.1008 - acc: 0.993 - ETA: 0s - loss: 0.1206 - acc: 0.968 - ETA: 0s - loss: 0.1304 - acc: 0.955 - ETA: 0s - loss: 0.1304 - acc: 0.960 - ETA: 0s - loss: 0.1354 - acc: 0.958 - ETA: 0s - loss: 0.1351 - acc: 0.956 - ETA: 0s - loss: 0.1302 - acc: 0.957 - ETA: 0s - loss: 0.1344 - acc: 0.953 - ETA: 0s - loss: 0.1360 - acc: 0.951 - ETA: 0s - loss: 0.1397 - acc: 0.948 - 1s 3ms/step - loss: 0.1351 - acc: 0.9521 - val_loss: 0.5806 - val_acc: 0.8667\n",
      "\n",
      "Epoch 00051: val_loss did not improve from 0.45011\n",
      "Epoch 52/300\n",
      "480/480 [==============================] - ETA: 0s - loss: 0.0911 - acc: 0.968 - ETA: 0s - loss: 0.1177 - acc: 0.968 - ETA: 0s - loss: 0.1072 - acc: 0.968 - ETA: 0s - loss: 0.1276 - acc: 0.953 - ETA: 0s - loss: 0.1664 - acc: 0.943 - ETA: 0s - loss: 0.1523 - acc: 0.947 - ETA: 0s - loss: 0.1604 - acc: 0.942 - ETA: 0s - loss: 0.1565 - acc: 0.941 - ETA: 0s - loss: 0.1525 - acc: 0.941 - ETA: 0s - loss: 0.1505 - acc: 0.940 - ETA: 0s - loss: 0.1496 - acc: 0.943 - ETA: 0s - loss: 0.1546 - acc: 0.940 - ETA: 0s - loss: 0.1499 - acc: 0.944 - ETA: 0s - loss: 0.1552 - acc: 0.939 - 1s 3ms/step - loss: 0.1540 - acc: 0.9375 - val_loss: 0.5758 - val_acc: 0.8500\n",
      "\n",
      "Epoch 00052: val_loss did not improve from 0.45011\n",
      "Epoch 53/300\n",
      "480/480 [==============================] - ETA: 0s - loss: 0.0403 - acc: 1.000 - ETA: 0s - loss: 0.0804 - acc: 0.968 - ETA: 0s - loss: 0.0888 - acc: 0.958 - ETA: 0s - loss: 0.1194 - acc: 0.945 - ETA: 0s - loss: 0.1055 - acc: 0.956 - ETA: 0s - loss: 0.1050 - acc: 0.958 - ETA: 0s - loss: 0.1159 - acc: 0.950 - ETA: 0s - loss: 0.1098 - acc: 0.953 - ETA: 0s - loss: 0.1118 - acc: 0.951 - ETA: 0s - loss: 0.1245 - acc: 0.946 - ETA: 0s - loss: 0.1251 - acc: 0.948 - ETA: 0s - loss: 0.1261 - acc: 0.947 - ETA: 0s - loss: 0.1336 - acc: 0.947 - ETA: 0s - loss: 0.1380 - acc: 0.944 - 1s 2ms/step - loss: 0.1369 - acc: 0.9437 - val_loss: 0.5708 - val_acc: 0.8667\n",
      "\n",
      "Epoch 00053: val_loss did not improve from 0.45011\n",
      "Epoch 54/300\n",
      "480/480 [==============================] - ETA: 0s - loss: 0.1048 - acc: 0.968 - ETA: 0s - loss: 0.0975 - acc: 0.968 - ETA: 0s - loss: 0.1460 - acc: 0.947 - ETA: 0s - loss: 0.1399 - acc: 0.953 - ETA: 0s - loss: 0.1538 - acc: 0.950 - ETA: 0s - loss: 0.1532 - acc: 0.942 - ETA: 0s - loss: 0.1444 - acc: 0.946 - ETA: 0s - loss: 0.1385 - acc: 0.945 - ETA: 0s - loss: 0.1353 - acc: 0.947 - ETA: 0s - loss: 0.1338 - acc: 0.950 - ETA: 0s - loss: 0.1323 - acc: 0.948 - ETA: 0s - loss: 0.1303 - acc: 0.950 - ETA: 0s - loss: 0.1379 - acc: 0.949 - ETA: 0s - loss: 0.1416 - acc: 0.948 - 1s 2ms/step - loss: 0.1465 - acc: 0.9437 - val_loss: 0.6102 - val_acc: 0.8583\n",
      "\n",
      "Epoch 00054: val_loss did not improve from 0.45011\n",
      "Epoch 55/300\n",
      "480/480 [==============================] - ETA: 0s - loss: 0.1907 - acc: 0.937 - ETA: 0s - loss: 0.1335 - acc: 0.968 - ETA: 0s - loss: 0.2104 - acc: 0.927 - ETA: 0s - loss: 0.1855 - acc: 0.945 - ETA: 0s - loss: 0.1793 - acc: 0.937 - ETA: 0s - loss: 0.1611 - acc: 0.942 - ETA: 0s - loss: 0.1842 - acc: 0.933 - ETA: 0s - loss: 0.1834 - acc: 0.929 - ETA: 0s - loss: 0.1750 - acc: 0.930 - ETA: 0s - loss: 0.1819 - acc: 0.931 - ETA: 0s - loss: 0.1715 - acc: 0.937 - ETA: 0s - loss: 0.1992 - acc: 0.932 - ETA: 0s - loss: 0.2050 - acc: 0.932 - ETA: 0s - loss: 0.2021 - acc: 0.933 - 1s 2ms/step - loss: 0.1937 - acc: 0.9354 - val_loss: 0.7878 - val_acc: 0.8333\n",
      "\n",
      "Epoch 00055: val_loss did not improve from 0.45011\n",
      "Epoch 56/300\n"
     ]
    },
    {
     "name": "stdout",
     "output_type": "stream",
     "text": [
      "480/480 [==============================] - ETA: 0s - loss: 0.1177 - acc: 1.000 - ETA: 0s - loss: 0.1678 - acc: 0.953 - ETA: 0s - loss: 0.1212 - acc: 0.968 - ETA: 0s - loss: 0.1524 - acc: 0.953 - ETA: 0s - loss: 0.1888 - acc: 0.943 - ETA: 0s - loss: 0.2042 - acc: 0.937 - ETA: 0s - loss: 0.1936 - acc: 0.942 - ETA: 0s - loss: 0.1939 - acc: 0.937 - ETA: 0s - loss: 0.1829 - acc: 0.941 - ETA: 0s - loss: 0.1783 - acc: 0.943 - ETA: 0s - loss: 0.2032 - acc: 0.946 - ETA: 0s - loss: 0.2161 - acc: 0.940 - ETA: 0s - loss: 0.2062 - acc: 0.944 - ETA: 0s - loss: 0.1973 - acc: 0.946 - 1s 2ms/step - loss: 0.1898 - acc: 0.9479 - val_loss: 0.9028 - val_acc: 0.8250\n",
      "\n",
      "Epoch 00056: val_loss did not improve from 0.45011\n",
      "Epoch 57/300\n",
      "480/480 [==============================] - ETA: 0s - loss: 0.1282 - acc: 0.937 - ETA: 0s - loss: 0.2070 - acc: 0.875 - ETA: 0s - loss: 0.2770 - acc: 0.885 - ETA: 0s - loss: 0.2716 - acc: 0.898 - ETA: 0s - loss: 0.3248 - acc: 0.887 - ETA: 0s - loss: 0.2991 - acc: 0.895 - ETA: 0s - loss: 0.2866 - acc: 0.897 - ETA: 0s - loss: 0.3069 - acc: 0.878 - ETA: 0s - loss: 0.2909 - acc: 0.888 - ETA: 0s - loss: 0.2896 - acc: 0.890 - ETA: 0s - loss: 0.2979 - acc: 0.880 - ETA: 0s - loss: 0.3226 - acc: 0.877 - ETA: 0s - loss: 0.3227 - acc: 0.882 - ETA: 0s - loss: 0.3267 - acc: 0.877 - 1s 2ms/step - loss: 0.3505 - acc: 0.8729 - val_loss: 0.7161 - val_acc: 0.8167\n",
      "\n",
      "Epoch 00057: val_loss did not improve from 0.45011\n",
      "Epoch 58/300\n",
      "480/480 [==============================] - ETA: 0s - loss: 0.2055 - acc: 0.906 - ETA: 0s - loss: 0.2774 - acc: 0.890 - ETA: 0s - loss: 0.2757 - acc: 0.885 - ETA: 0s - loss: 0.4077 - acc: 0.859 - ETA: 0s - loss: 0.3935 - acc: 0.862 - ETA: 0s - loss: 0.3528 - acc: 0.875 - ETA: 0s - loss: 0.3361 - acc: 0.879 - ETA: 0s - loss: 0.3388 - acc: 0.886 - ETA: 0s - loss: 0.3222 - acc: 0.895 - ETA: 0s - loss: 0.3633 - acc: 0.887 - ETA: 0s - loss: 0.3994 - acc: 0.883 - ETA: 0s - loss: 0.3812 - acc: 0.888 - ETA: 0s - loss: 0.3979 - acc: 0.887 - ETA: 0s - loss: 0.4025 - acc: 0.877 - 1s 2ms/step - loss: 0.3868 - acc: 0.8833 - val_loss: 0.6925 - val_acc: 0.8333\n",
      "\n",
      "Epoch 00058: val_loss did not improve from 0.45011\n",
      "Epoch 59/300\n",
      "480/480 [==============================] - ETA: 0s - loss: 0.2132 - acc: 0.906 - ETA: 0s - loss: 0.3376 - acc: 0.859 - ETA: 0s - loss: 0.2817 - acc: 0.885 - ETA: 0s - loss: 0.2794 - acc: 0.875 - ETA: 0s - loss: 0.2582 - acc: 0.887 - ETA: 0s - loss: 0.2465 - acc: 0.895 - ETA: 0s - loss: 0.2347 - acc: 0.906 - ETA: 0s - loss: 0.2381 - acc: 0.902 - ETA: 0s - loss: 0.2387 - acc: 0.906 - ETA: 0s - loss: 0.2687 - acc: 0.906 - ETA: 0s - loss: 0.2659 - acc: 0.909 - ETA: 0s - loss: 0.2963 - acc: 0.903 - ETA: 0s - loss: 0.2951 - acc: 0.903 - ETA: 0s - loss: 0.3025 - acc: 0.897 - 1s 2ms/step - loss: 0.2862 - acc: 0.9042 - val_loss: 0.7076 - val_acc: 0.8000\n",
      "\n",
      "Epoch 00059: val_loss did not improve from 0.45011\n",
      "Epoch 60/300\n",
      "480/480 [==============================] - ETA: 0s - loss: 0.1022 - acc: 0.937 - ETA: 0s - loss: 0.1782 - acc: 0.906 - ETA: 0s - loss: 0.1747 - acc: 0.927 - ETA: 0s - loss: 0.1894 - acc: 0.921 - ETA: 0s - loss: 0.1700 - acc: 0.931 - ETA: 0s - loss: 0.1819 - acc: 0.921 - ETA: 0s - loss: 0.1897 - acc: 0.924 - ETA: 0s - loss: 0.1982 - acc: 0.914 - ETA: 0s - loss: 0.2116 - acc: 0.906 - ETA: 0s - loss: 0.2216 - acc: 0.900 - ETA: 0s - loss: 0.2198 - acc: 0.906 - ETA: 0s - loss: 0.2147 - acc: 0.906 - ETA: 0s - loss: 0.2182 - acc: 0.906 - ETA: 0s - loss: 0.2237 - acc: 0.901 - 1s 2ms/step - loss: 0.2214 - acc: 0.9042 - val_loss: 0.5128 - val_acc: 0.8417\n",
      "\n",
      "Epoch 00060: val_loss did not improve from 0.45011\n",
      "Epoch 61/300\n",
      "480/480 [==============================] - ETA: 0s - loss: 0.2492 - acc: 0.843 - ETA: 0s - loss: 0.2420 - acc: 0.875 - ETA: 0s - loss: 0.2136 - acc: 0.895 - ETA: 0s - loss: 0.2203 - acc: 0.906 - ETA: 0s - loss: 0.2100 - acc: 0.918 - ETA: 0s - loss: 0.2213 - acc: 0.916 - ETA: 0s - loss: 0.2152 - acc: 0.919 - ETA: 0s - loss: 0.2108 - acc: 0.918 - ETA: 0s - loss: 0.1975 - acc: 0.927 - ETA: 0s - loss: 0.2066 - acc: 0.928 - ETA: 0s - loss: 0.2034 - acc: 0.929 - ETA: 0s - loss: 0.1999 - acc: 0.932 - ETA: 0s - loss: 0.2034 - acc: 0.930 - ETA: 0s - loss: 0.2033 - acc: 0.928 - 1s 2ms/step - loss: 0.1970 - acc: 0.9292 - val_loss: 0.4702 - val_acc: 0.8500\n",
      "\n",
      "Epoch 00061: val_loss did not improve from 0.45011\n",
      "Epoch 62/300\n",
      "480/480 [==============================] - ETA: 0s - loss: 0.2587 - acc: 0.906 - ETA: 1s - loss: 0.2006 - acc: 0.953 - ETA: 0s - loss: 0.1747 - acc: 0.958 - ETA: 0s - loss: 0.1585 - acc: 0.960 - ETA: 0s - loss: 0.1679 - acc: 0.950 - ETA: 0s - loss: 0.1899 - acc: 0.932 - ETA: 0s - loss: 0.1753 - acc: 0.937 - ETA: 0s - loss: 0.1717 - acc: 0.937 - ETA: 0s - loss: 0.1645 - acc: 0.941 - ETA: 0s - loss: 0.1728 - acc: 0.940 - ETA: 0s - loss: 0.1796 - acc: 0.940 - ETA: 0s - loss: 0.1972 - acc: 0.929 - ETA: 0s - loss: 0.1921 - acc: 0.930 - ETA: 0s - loss: 0.1960 - acc: 0.930 - 1s 2ms/step - loss: 0.1919 - acc: 0.9313 - val_loss: 0.5279 - val_acc: 0.8500\n",
      "\n",
      "Epoch 00062: val_loss did not improve from 0.45011\n",
      "Epoch 63/300\n",
      "480/480 [==============================] - ETA: 0s - loss: 0.0755 - acc: 0.968 - ETA: 0s - loss: 0.1158 - acc: 0.953 - ETA: 0s - loss: 0.1544 - acc: 0.927 - ETA: 0s - loss: 0.1485 - acc: 0.937 - ETA: 0s - loss: 0.1546 - acc: 0.943 - ETA: 0s - loss: 0.1533 - acc: 0.942 - ETA: 0s - loss: 0.1523 - acc: 0.942 - ETA: 0s - loss: 0.1398 - acc: 0.945 - ETA: 0s - loss: 0.1302 - acc: 0.951 - ETA: 0s - loss: 0.1318 - acc: 0.953 - ETA: 0s - loss: 0.1502 - acc: 0.948 - ETA: 0s - loss: 0.1472 - acc: 0.950 - ETA: 0s - loss: 0.1648 - acc: 0.942 - ETA: 0s - loss: 0.1646 - acc: 0.944 - 1s 2ms/step - loss: 0.1742 - acc: 0.9417 - val_loss: 0.5021 - val_acc: 0.8667\n",
      "\n",
      "Epoch 00063: val_loss did not improve from 0.45011\n",
      "Epoch 64/300\n",
      "480/480 [==============================] - ETA: 0s - loss: 0.2065 - acc: 0.937 - ETA: 0s - loss: 0.1883 - acc: 0.921 - ETA: 0s - loss: 0.1893 - acc: 0.927 - ETA: 0s - loss: 0.1777 - acc: 0.929 - ETA: 0s - loss: 0.2041 - acc: 0.918 - ETA: 0s - loss: 0.2120 - acc: 0.916 - ETA: 0s - loss: 0.2076 - acc: 0.924 - ETA: 0s - loss: 0.2274 - acc: 0.918 - ETA: 0s - loss: 0.2144 - acc: 0.923 - ETA: 0s - loss: 0.2117 - acc: 0.921 - ETA: 0s - loss: 0.1985 - acc: 0.929 - ETA: 0s - loss: 0.1922 - acc: 0.929 - ETA: 0s - loss: 0.1927 - acc: 0.927 - ETA: 0s - loss: 0.2044 - acc: 0.921 - 1s 2ms/step - loss: 0.1995 - acc: 0.9229 - val_loss: 0.5020 - val_acc: 0.8583\n",
      "\n",
      "Epoch 00064: val_loss did not improve from 0.45011\n",
      "Epoch 65/300\n",
      "480/480 [==============================] - ETA: 0s - loss: 0.3124 - acc: 0.906 - ETA: 0s - loss: 0.2604 - acc: 0.921 - ETA: 0s - loss: 0.2288 - acc: 0.927 - ETA: 0s - loss: 0.2072 - acc: 0.937 - ETA: 0s - loss: 0.1989 - acc: 0.931 - ETA: 0s - loss: 0.1843 - acc: 0.937 - ETA: 0s - loss: 0.1842 - acc: 0.937 - ETA: 0s - loss: 0.1766 - acc: 0.941 - ETA: 0s - loss: 0.1901 - acc: 0.934 - ETA: 0s - loss: 0.1844 - acc: 0.937 - ETA: 0s - loss: 0.1822 - acc: 0.940 - ETA: 0s - loss: 0.1772 - acc: 0.942 - ETA: 0s - loss: 0.1885 - acc: 0.932 - ETA: 0s - loss: 0.1860 - acc: 0.935 - 1s 2ms/step - loss: 0.1868 - acc: 0.9313 - val_loss: 0.8216 - val_acc: 0.8083\n",
      "\n",
      "Epoch 00065: val_loss did not improve from 0.45011\n",
      "Epoch 66/300\n",
      "480/480 [==============================] - ETA: 0s - loss: 0.1892 - acc: 0.968 - ETA: 0s - loss: 0.1832 - acc: 0.968 - ETA: 0s - loss: 0.1870 - acc: 0.947 - ETA: 0s - loss: 0.1796 - acc: 0.945 - ETA: 0s - loss: 0.1717 - acc: 0.950 - ETA: 0s - loss: 0.1571 - acc: 0.953 - ETA: 0s - loss: 0.1573 - acc: 0.950 - ETA: 0s - loss: 0.1519 - acc: 0.949 - ETA: 0s - loss: 0.1461 - acc: 0.951 - ETA: 0s - loss: 0.1556 - acc: 0.946 - ETA: 0s - loss: 0.1514 - acc: 0.948 - ETA: 0s - loss: 0.1535 - acc: 0.945 - ETA: 0s - loss: 0.1503 - acc: 0.944 - ETA: 0s - loss: 0.1491 - acc: 0.944 - 1s 2ms/step - loss: 0.1532 - acc: 0.9417 - val_loss: 0.6137 - val_acc: 0.8583\n",
      "\n",
      "Epoch 00066: val_loss did not improve from 0.45011\n",
      "Epoch 67/300\n"
     ]
    },
    {
     "name": "stdout",
     "output_type": "stream",
     "text": [
      "480/480 [==============================] - ETA: 0s - loss: 0.0966 - acc: 0.968 - ETA: 0s - loss: 0.1461 - acc: 0.937 - ETA: 0s - loss: 0.1227 - acc: 0.937 - ETA: 0s - loss: 0.1086 - acc: 0.953 - ETA: 0s - loss: 0.1402 - acc: 0.931 - ETA: 0s - loss: 0.1340 - acc: 0.937 - ETA: 0s - loss: 0.1434 - acc: 0.928 - ETA: 0s - loss: 0.1490 - acc: 0.925 - ETA: 0s - loss: 0.1411 - acc: 0.934 - ETA: 0s - loss: 0.1425 - acc: 0.934 - ETA: 0s - loss: 0.1338 - acc: 0.940 - ETA: 0s - loss: 0.1354 - acc: 0.940 - ETA: 0s - loss: 0.1302 - acc: 0.942 - ETA: 0s - loss: 0.1334 - acc: 0.942 - 1s 2ms/step - loss: 0.1395 - acc: 0.9396 - val_loss: 0.6716 - val_acc: 0.8500\n",
      "\n",
      "Epoch 00067: val_loss did not improve from 0.45011\n",
      "Epoch 68/300\n",
      "480/480 [==============================] - ETA: 0s - loss: 0.2658 - acc: 0.906 - ETA: 0s - loss: 0.1631 - acc: 0.953 - ETA: 0s - loss: 0.1718 - acc: 0.947 - ETA: 0s - loss: 0.1471 - acc: 0.945 - ETA: 0s - loss: 0.1262 - acc: 0.956 - ETA: 0s - loss: 0.1239 - acc: 0.953 - ETA: 0s - loss: 0.1314 - acc: 0.955 - ETA: 0s - loss: 0.1470 - acc: 0.941 - ETA: 0s - loss: 0.1369 - acc: 0.944 - ETA: 0s - loss: 0.1472 - acc: 0.937 - ETA: 0s - loss: 0.1456 - acc: 0.940 - ETA: 0s - loss: 0.1384 - acc: 0.942 - ETA: 0s - loss: 0.1466 - acc: 0.942 - ETA: 0s - loss: 0.1426 - acc: 0.944 - 1s 2ms/step - loss: 0.1377 - acc: 0.9479 - val_loss: 0.6524 - val_acc: 0.8500\n",
      "\n",
      "Epoch 00068: val_loss did not improve from 0.45011\n",
      "Epoch 69/300\n",
      "480/480 [==============================] - ETA: 0s - loss: 0.2629 - acc: 0.906 - ETA: 0s - loss: 0.2285 - acc: 0.921 - ETA: 0s - loss: 0.2085 - acc: 0.906 - ETA: 0s - loss: 0.1903 - acc: 0.914 - ETA: 0s - loss: 0.1860 - acc: 0.918 - ETA: 0s - loss: 0.1679 - acc: 0.932 - ETA: 0s - loss: 0.1686 - acc: 0.933 - ETA: 0s - loss: 0.1535 - acc: 0.941 - ETA: 0s - loss: 0.1478 - acc: 0.944 - ETA: 0s - loss: 0.1437 - acc: 0.946 - ETA: 0s - loss: 0.1377 - acc: 0.948 - ETA: 0s - loss: 0.1451 - acc: 0.947 - ETA: 0s - loss: 0.1434 - acc: 0.949 - ETA: 0s - loss: 0.1471 - acc: 0.948 - 1s 2ms/step - loss: 0.1394 - acc: 0.9521 - val_loss: 0.6531 - val_acc: 0.8500\n",
      "\n",
      "Epoch 00069: val_loss did not improve from 0.45011\n",
      "Epoch 70/300\n",
      "480/480 [==============================] - ETA: 0s - loss: 0.1166 - acc: 0.968 - ETA: 0s - loss: 0.1642 - acc: 0.953 - ETA: 0s - loss: 0.1872 - acc: 0.937 - ETA: 0s - loss: 0.1579 - acc: 0.945 - ETA: 0s - loss: 0.1680 - acc: 0.937 - ETA: 0s - loss: 0.1591 - acc: 0.942 - ETA: 0s - loss: 0.1498 - acc: 0.946 - ETA: 0s - loss: 0.1624 - acc: 0.937 - ETA: 0s - loss: 0.1659 - acc: 0.937 - ETA: 0s - loss: 0.1569 - acc: 0.943 - ETA: 0s - loss: 0.1539 - acc: 0.946 - ETA: 0s - loss: 0.1571 - acc: 0.945 - ETA: 0s - loss: 0.1545 - acc: 0.949 - ETA: 0s - loss: 0.1562 - acc: 0.948 - 1s 2ms/step - loss: 0.1534 - acc: 0.9500 - val_loss: 0.6796 - val_acc: 0.8250\n",
      "\n",
      "Epoch 00070: val_loss did not improve from 0.45011\n",
      "Epoch 71/300\n",
      "480/480 [==============================] - ETA: 0s - loss: 0.1416 - acc: 0.906 - ETA: 0s - loss: 0.1329 - acc: 0.937 - ETA: 0s - loss: 0.1411 - acc: 0.947 - ETA: 0s - loss: 0.1315 - acc: 0.953 - ETA: 0s - loss: 0.1264 - acc: 0.956 - ETA: 0s - loss: 0.1283 - acc: 0.953 - ETA: 0s - loss: 0.1306 - acc: 0.950 - ETA: 0s - loss: 0.1278 - acc: 0.957 - ETA: 0s - loss: 0.1238 - acc: 0.958 - ETA: 0s - loss: 0.1287 - acc: 0.953 - ETA: 0s - loss: 0.1348 - acc: 0.951 - ETA: 0s - loss: 0.1339 - acc: 0.950 - ETA: 0s - loss: 0.1319 - acc: 0.949 - ETA: 0s - loss: 0.1337 - acc: 0.948 - 1s 2ms/step - loss: 0.1366 - acc: 0.9500 - val_loss: 0.6217 - val_acc: 0.8417\n",
      "\n",
      "Epoch 00071: val_loss did not improve from 0.45011\n",
      "Epoch 72/300\n",
      "480/480 [==============================] - ETA: 0s - loss: 0.1166 - acc: 0.937 - ETA: 0s - loss: 0.0895 - acc: 0.953 - ETA: 0s - loss: 0.0920 - acc: 0.968 - ETA: 0s - loss: 0.1116 - acc: 0.953 - ETA: 0s - loss: 0.1077 - acc: 0.956 - ETA: 0s - loss: 0.1030 - acc: 0.958 - ETA: 0s - loss: 0.1160 - acc: 0.950 - ETA: 0s - loss: 0.1105 - acc: 0.953 - ETA: 0s - loss: 0.1090 - acc: 0.954 - ETA: 0s - loss: 0.1014 - acc: 0.959 - ETA: 0s - loss: 0.1008 - acc: 0.957 - ETA: 0s - loss: 0.1153 - acc: 0.950 - ETA: 0s - loss: 0.1157 - acc: 0.951 - ETA: 0s - loss: 0.1174 - acc: 0.950 - 1s 2ms/step - loss: 0.1245 - acc: 0.9479 - val_loss: 0.6125 - val_acc: 0.8500\n",
      "\n",
      "Epoch 00072: val_loss did not improve from 0.45011\n",
      "Epoch 73/300\n",
      "480/480 [==============================] - ETA: 0s - loss: 0.1548 - acc: 0.937 - ETA: 0s - loss: 0.1178 - acc: 0.953 - ETA: 0s - loss: 0.1087 - acc: 0.958 - ETA: 0s - loss: 0.1021 - acc: 0.960 - ETA: 0s - loss: 0.1177 - acc: 0.956 - ETA: 0s - loss: 0.1136 - acc: 0.958 - ETA: 0s - loss: 0.1172 - acc: 0.955 - ETA: 0s - loss: 0.1207 - acc: 0.953 - ETA: 0s - loss: 0.1220 - acc: 0.951 - ETA: 0s - loss: 0.1217 - acc: 0.950 - ETA: 0s - loss: 0.1226 - acc: 0.948 - ETA: 0s - loss: 0.1276 - acc: 0.942 - ETA: 0s - loss: 0.1275 - acc: 0.944 - ETA: 0s - loss: 0.1246 - acc: 0.948 - 1s 2ms/step - loss: 0.1295 - acc: 0.9458 - val_loss: 0.6352 - val_acc: 0.8417\n",
      "\n",
      "Epoch 00073: val_loss did not improve from 0.45011\n",
      "Epoch 74/300\n",
      "480/480 [==============================] - ETA: 0s - loss: 0.0820 - acc: 0.968 - ETA: 1s - loss: 0.0884 - acc: 0.984 - ETA: 0s - loss: 0.0705 - acc: 0.989 - ETA: 0s - loss: 0.0792 - acc: 0.976 - ETA: 0s - loss: 0.0735 - acc: 0.981 - ETA: 0s - loss: 0.0821 - acc: 0.979 - ETA: 0s - loss: 0.0900 - acc: 0.977 - ETA: 0s - loss: 0.0983 - acc: 0.972 - ETA: 0s - loss: 0.1113 - acc: 0.968 - ETA: 0s - loss: 0.1068 - acc: 0.968 - ETA: 0s - loss: 0.1100 - acc: 0.968 - ETA: 0s - loss: 0.1097 - acc: 0.968 - ETA: 0s - loss: 0.1216 - acc: 0.959 - ETA: 0s - loss: 0.1275 - acc: 0.955 - 1s 2ms/step - loss: 0.1269 - acc: 0.9563 - val_loss: 0.6152 - val_acc: 0.8500\n",
      "\n",
      "Epoch 00074: val_loss did not improve from 0.45011\n",
      "Epoch 75/300\n",
      "480/480 [==============================] - ETA: 0s - loss: 0.1524 - acc: 0.906 - ETA: 0s - loss: 0.1162 - acc: 0.937 - ETA: 0s - loss: 0.0934 - acc: 0.958 - ETA: 0s - loss: 0.1091 - acc: 0.945 - ETA: 0s - loss: 0.0954 - acc: 0.956 - ETA: 0s - loss: 0.0910 - acc: 0.963 - ETA: 0s - loss: 0.1071 - acc: 0.955 - ETA: 0s - loss: 0.1027 - acc: 0.957 - ETA: 0s - loss: 0.1045 - acc: 0.958 - ETA: 0s - loss: 0.1064 - acc: 0.959 - ETA: 0s - loss: 0.1114 - acc: 0.957 - ETA: 0s - loss: 0.1174 - acc: 0.955 - ETA: 0s - loss: 0.1149 - acc: 0.956 - ETA: 0s - loss: 0.1122 - acc: 0.957 - 1s 2ms/step - loss: 0.1077 - acc: 0.9583 - val_loss: 0.5889 - val_acc: 0.8500\n",
      "\n",
      "Epoch 00075: val_loss did not improve from 0.45011\n",
      "Epoch 76/300\n",
      "480/480 [==============================] - ETA: 0s - loss: 0.1556 - acc: 0.937 - ETA: 0s - loss: 0.1280 - acc: 0.953 - ETA: 0s - loss: 0.0988 - acc: 0.968 - ETA: 0s - loss: 0.1113 - acc: 0.960 - ETA: 0s - loss: 0.1178 - acc: 0.962 - ETA: 0s - loss: 0.1261 - acc: 0.963 - ETA: 0s - loss: 0.1172 - acc: 0.968 - ETA: 0s - loss: 0.1140 - acc: 0.968 - ETA: 0s - loss: 0.1093 - acc: 0.972 - ETA: 0s - loss: 0.1170 - acc: 0.968 - ETA: 0s - loss: 0.1149 - acc: 0.968 - ETA: 0s - loss: 0.1087 - acc: 0.971 - ETA: 0s - loss: 0.1047 - acc: 0.971 - ETA: 0s - loss: 0.1043 - acc: 0.968 - 1s 2ms/step - loss: 0.1083 - acc: 0.9646 - val_loss: 0.6877 - val_acc: 0.8333\n",
      "\n",
      "Epoch 00076: val_loss did not improve from 0.45011\n",
      "Epoch 77/300\n",
      "480/480 [==============================] - ETA: 0s - loss: 0.1481 - acc: 0.968 - ETA: 0s - loss: 0.1146 - acc: 0.953 - ETA: 0s - loss: 0.1373 - acc: 0.937 - ETA: 0s - loss: 0.1424 - acc: 0.929 - ETA: 0s - loss: 0.1330 - acc: 0.937 - ETA: 0s - loss: 0.1248 - acc: 0.942 - ETA: 0s - loss: 0.1154 - acc: 0.950 - ETA: 0s - loss: 0.1121 - acc: 0.953 - ETA: 0s - loss: 0.1075 - acc: 0.954 - ETA: 0s - loss: 0.1121 - acc: 0.953 - ETA: 0s - loss: 0.1083 - acc: 0.954 - ETA: 0s - loss: 0.1041 - acc: 0.955 - ETA: 0s - loss: 0.1032 - acc: 0.959 - ETA: 0s - loss: 0.1064 - acc: 0.957 - 1s 2ms/step - loss: 0.1040 - acc: 0.9583 - val_loss: 0.6356 - val_acc: 0.8500\n",
      "\n",
      "Epoch 00077: val_loss did not improve from 0.45011\n",
      "Epoch 78/300\n"
     ]
    },
    {
     "name": "stdout",
     "output_type": "stream",
     "text": [
      "480/480 [==============================] - ETA: 0s - loss: 0.0798 - acc: 0.968 - ETA: 0s - loss: 0.1189 - acc: 0.953 - ETA: 0s - loss: 0.1259 - acc: 0.947 - ETA: 0s - loss: 0.1448 - acc: 0.937 - ETA: 0s - loss: 0.1528 - acc: 0.937 - ETA: 0s - loss: 0.1536 - acc: 0.942 - ETA: 0s - loss: 0.1358 - acc: 0.950 - ETA: 0s - loss: 0.1242 - acc: 0.957 - ETA: 0s - loss: 0.1399 - acc: 0.947 - ETA: 0s - loss: 0.1375 - acc: 0.950 - ETA: 0s - loss: 0.1405 - acc: 0.946 - ETA: 0s - loss: 0.1385 - acc: 0.950 - ETA: 0s - loss: 0.1292 - acc: 0.954 - ETA: 0s - loss: 0.1277 - acc: 0.955 - 1s 2ms/step - loss: 0.1342 - acc: 0.9542 - val_loss: 0.6305 - val_acc: 0.8500\n",
      "\n",
      "Epoch 00078: val_loss did not improve from 0.45011\n",
      "Epoch 79/300\n",
      "480/480 [==============================] - ETA: 0s - loss: 0.1634 - acc: 0.906 - ETA: 0s - loss: 0.2117 - acc: 0.875 - ETA: 0s - loss: 0.1865 - acc: 0.895 - ETA: 0s - loss: 0.1493 - acc: 0.921 - ETA: 0s - loss: 0.1424 - acc: 0.931 - ETA: 0s - loss: 0.1411 - acc: 0.942 - ETA: 0s - loss: 0.1463 - acc: 0.942 - ETA: 0s - loss: 0.1373 - acc: 0.945 - ETA: 0s - loss: 0.1308 - acc: 0.947 - ETA: 0s - loss: 0.1393 - acc: 0.946 - ETA: 0s - loss: 0.1452 - acc: 0.946 - ETA: 0s - loss: 0.1469 - acc: 0.945 - ETA: 0s - loss: 0.1453 - acc: 0.944 - ETA: 0s - loss: 0.1495 - acc: 0.942 - 1s 2ms/step - loss: 0.1441 - acc: 0.9437 - val_loss: 0.6999 - val_acc: 0.8583\n",
      "\n",
      "Epoch 00079: val_loss did not improve from 0.45011\n",
      "Epoch 80/300\n",
      "480/480 [==============================] - ETA: 0s - loss: 0.1577 - acc: 0.937 - ETA: 0s - loss: 0.1181 - acc: 0.937 - ETA: 0s - loss: 0.1213 - acc: 0.937 - ETA: 0s - loss: 0.1047 - acc: 0.945 - ETA: 0s - loss: 0.1058 - acc: 0.950 - ETA: 0s - loss: 0.1063 - acc: 0.953 - ETA: 0s - loss: 0.0971 - acc: 0.959 - ETA: 0s - loss: 0.1108 - acc: 0.957 - ETA: 0s - loss: 0.1254 - acc: 0.947 - ETA: 0s - loss: 0.1188 - acc: 0.953 - ETA: 0s - loss: 0.1216 - acc: 0.954 - ETA: 0s - loss: 0.1170 - acc: 0.958 - ETA: 0s - loss: 0.1108 - acc: 0.961 - ETA: 0s - loss: 0.1149 - acc: 0.959 - 1s 2ms/step - loss: 0.1109 - acc: 0.9625 - val_loss: 0.6390 - val_acc: 0.8583\n",
      "\n",
      "Epoch 00080: val_loss did not improve from 0.45011\n",
      "Epoch 81/300\n",
      "480/480 [==============================] - ETA: 0s - loss: 0.2563 - acc: 0.843 - ETA: 0s - loss: 0.1571 - acc: 0.921 - ETA: 0s - loss: 0.1313 - acc: 0.937 - ETA: 0s - loss: 0.1410 - acc: 0.945 - ETA: 0s - loss: 0.1450 - acc: 0.937 - ETA: 0s - loss: 0.1334 - acc: 0.942 - ETA: 0s - loss: 0.1412 - acc: 0.937 - ETA: 0s - loss: 0.1375 - acc: 0.937 - ETA: 0s - loss: 0.1325 - acc: 0.941 - ETA: 0s - loss: 0.1311 - acc: 0.943 - ETA: 0s - loss: 0.1233 - acc: 0.948 - ETA: 0s - loss: 0.1325 - acc: 0.945 - ETA: 0s - loss: 0.1295 - acc: 0.947 - ETA: 0s - loss: 0.1246 - acc: 0.950 - 1s 2ms/step - loss: 0.1233 - acc: 0.9521 - val_loss: 0.5826 - val_acc: 0.8583\n",
      "\n",
      "Epoch 00081: val_loss did not improve from 0.45011\n",
      "Epoch 82/300\n",
      "480/480 [==============================] - ETA: 0s - loss: 0.0279 - acc: 1.000 - ETA: 0s - loss: 0.0633 - acc: 0.968 - ETA: 0s - loss: 0.0930 - acc: 0.947 - ETA: 0s - loss: 0.0826 - acc: 0.953 - ETA: 0s - loss: 0.0777 - acc: 0.962 - ETA: 0s - loss: 0.0829 - acc: 0.953 - ETA: 0s - loss: 0.0901 - acc: 0.950 - ETA: 0s - loss: 0.1059 - acc: 0.945 - ETA: 0s - loss: 0.1142 - acc: 0.941 - ETA: 0s - loss: 0.1088 - acc: 0.946 - ETA: 0s - loss: 0.1080 - acc: 0.946 - ETA: 0s - loss: 0.1057 - acc: 0.947 - ETA: 0s - loss: 0.1078 - acc: 0.949 - ETA: 0s - loss: 0.1082 - acc: 0.948 - 1s 2ms/step - loss: 0.1071 - acc: 0.9500 - val_loss: 0.5426 - val_acc: 0.8750\n",
      "\n",
      "Epoch 00082: val_loss did not improve from 0.45011\n",
      "Epoch 83/300\n",
      "480/480 [==============================] - ETA: 0s - loss: 0.1071 - acc: 0.968 - ETA: 0s - loss: 0.0828 - acc: 0.968 - ETA: 0s - loss: 0.0820 - acc: 0.968 - ETA: 0s - loss: 0.0785 - acc: 0.968 - ETA: 0s - loss: 0.0958 - acc: 0.962 - ETA: 0s - loss: 0.0945 - acc: 0.963 - ETA: 0s - loss: 0.0903 - acc: 0.968 - ETA: 0s - loss: 0.0911 - acc: 0.968 - ETA: 0s - loss: 0.0831 - acc: 0.972 - ETA: 0s - loss: 0.0786 - acc: 0.975 - ETA: 0s - loss: 0.0821 - acc: 0.974 - ETA: 0s - loss: 0.0918 - acc: 0.968 - ETA: 0s - loss: 0.0912 - acc: 0.968 - ETA: 0s - loss: 0.0920 - acc: 0.968 - 1s 2ms/step - loss: 0.0954 - acc: 0.9667 - val_loss: 0.5881 - val_acc: 0.8667\n",
      "\n",
      "Epoch 00083: val_loss did not improve from 0.45011\n",
      "Epoch 84/300\n",
      "480/480 [==============================] - ETA: 0s - loss: 0.0719 - acc: 1.000 - ETA: 0s - loss: 0.0592 - acc: 1.000 - ETA: 0s - loss: 0.0541 - acc: 1.000 - ETA: 0s - loss: 0.0641 - acc: 0.992 - ETA: 0s - loss: 0.0786 - acc: 0.981 - ETA: 0s - loss: 0.0849 - acc: 0.974 - ETA: 0s - loss: 0.0997 - acc: 0.968 - ETA: 0s - loss: 0.0924 - acc: 0.972 - ETA: 0s - loss: 0.1036 - acc: 0.961 - ETA: 0s - loss: 0.0975 - acc: 0.965 - ETA: 0s - loss: 0.1005 - acc: 0.965 - ETA: 0s - loss: 0.1075 - acc: 0.960 - ETA: 0s - loss: 0.1045 - acc: 0.963 - ETA: 0s - loss: 0.1116 - acc: 0.962 - 1s 2ms/step - loss: 0.1058 - acc: 0.9646 - val_loss: 0.6158 - val_acc: 0.8667\n",
      "\n",
      "Epoch 00084: val_loss did not improve from 0.45011\n",
      "Epoch 85/300\n",
      "480/480 [==============================] - ETA: 0s - loss: 0.0327 - acc: 1.000 - ETA: 0s - loss: 0.1435 - acc: 0.953 - ETA: 0s - loss: 0.1060 - acc: 0.968 - ETA: 0s - loss: 0.1150 - acc: 0.953 - ETA: 0s - loss: 0.1199 - acc: 0.950 - ETA: 0s - loss: 0.1334 - acc: 0.942 - ETA: 0s - loss: 0.1296 - acc: 0.946 - ETA: 0s - loss: 0.1186 - acc: 0.953 - ETA: 0s - loss: 0.1258 - acc: 0.947 - ETA: 0s - loss: 0.1209 - acc: 0.953 - ETA: 0s - loss: 0.1122 - acc: 0.957 - ETA: 0s - loss: 0.1187 - acc: 0.955 - ETA: 0s - loss: 0.1263 - acc: 0.951 - ETA: 0s - loss: 0.1286 - acc: 0.950 - 1s 2ms/step - loss: 0.1231 - acc: 0.9542 - val_loss: 0.6584 - val_acc: 0.8583\n",
      "\n",
      "Epoch 00085: val_loss did not improve from 0.45011\n",
      "Epoch 86/300\n",
      "480/480 [==============================] - ETA: 0s - loss: 0.0739 - acc: 1.000 - ETA: 0s - loss: 0.0493 - acc: 1.000 - ETA: 0s - loss: 0.0994 - acc: 0.968 - ETA: 0s - loss: 0.1079 - acc: 0.968 - ETA: 0s - loss: 0.1002 - acc: 0.975 - ETA: 0s - loss: 0.0991 - acc: 0.974 - ETA: 0s - loss: 0.0952 - acc: 0.977 - ETA: 0s - loss: 0.0921 - acc: 0.976 - ETA: 0s - loss: 0.0895 - acc: 0.979 - ETA: 0s - loss: 0.0929 - acc: 0.978 - ETA: 0s - loss: 0.0993 - acc: 0.974 - ETA: 0s - loss: 0.1015 - acc: 0.968 - ETA: 0s - loss: 0.1038 - acc: 0.968 - ETA: 0s - loss: 0.1100 - acc: 0.966 - 1s 2ms/step - loss: 0.1074 - acc: 0.9667 - val_loss: 0.6695 - val_acc: 0.8667\n",
      "\n",
      "Epoch 00086: val_loss did not improve from 0.45011\n",
      "Epoch 87/300\n",
      "480/480 [==============================] - ETA: 0s - loss: 0.1262 - acc: 0.937 - ETA: 0s - loss: 0.1065 - acc: 0.953 - ETA: 0s - loss: 0.1186 - acc: 0.947 - ETA: 0s - loss: 0.1070 - acc: 0.945 - ETA: 0s - loss: 0.1277 - acc: 0.931 - ETA: 0s - loss: 0.1396 - acc: 0.927 - ETA: 0s - loss: 0.1296 - acc: 0.937 - ETA: 0s - loss: 0.1274 - acc: 0.941 - ETA: 0s - loss: 0.1190 - acc: 0.944 - ETA: 0s - loss: 0.1244 - acc: 0.940 - ETA: 0s - loss: 0.1215 - acc: 0.943 - ETA: 0s - loss: 0.1187 - acc: 0.947 - ETA: 0s - loss: 0.1148 - acc: 0.949 - ETA: 0s - loss: 0.1084 - acc: 0.953 - 1s 2ms/step - loss: 0.1127 - acc: 0.9479 - val_loss: 0.5897 - val_acc: 0.8667\n",
      "\n",
      "Epoch 00087: val_loss did not improve from 0.45011\n",
      "Epoch 88/300\n",
      "480/480 [==============================] - ETA: 0s - loss: 0.0963 - acc: 0.937 - ETA: 0s - loss: 0.0736 - acc: 0.968 - ETA: 0s - loss: 0.0567 - acc: 0.979 - ETA: 0s - loss: 0.0490 - acc: 0.984 - ETA: 0s - loss: 0.0528 - acc: 0.981 - ETA: 0s - loss: 0.0542 - acc: 0.984 - ETA: 0s - loss: 0.0559 - acc: 0.982 - ETA: 0s - loss: 0.0648 - acc: 0.976 - ETA: 0s - loss: 0.0658 - acc: 0.975 - ETA: 0s - loss: 0.0639 - acc: 0.978 - ETA: 0s - loss: 0.0648 - acc: 0.980 - ETA: 0s - loss: 0.0643 - acc: 0.981 - ETA: 0s - loss: 0.0733 - acc: 0.976 - ETA: 0s - loss: 0.0795 - acc: 0.975 - 1s 2ms/step - loss: 0.0805 - acc: 0.9750 - val_loss: 0.6724 - val_acc: 0.8583\n",
      "\n",
      "Epoch 00088: val_loss did not improve from 0.45011\n",
      "Epoch 89/300\n"
     ]
    },
    {
     "name": "stdout",
     "output_type": "stream",
     "text": [
      "480/480 [==============================] - ETA: 0s - loss: 0.0498 - acc: 1.000 - ETA: 0s - loss: 0.1202 - acc: 0.953 - ETA: 0s - loss: 0.1581 - acc: 0.937 - ETA: 0s - loss: 0.1319 - acc: 0.945 - ETA: 0s - loss: 0.1331 - acc: 0.943 - ETA: 0s - loss: 0.1213 - acc: 0.953 - ETA: 0s - loss: 0.1328 - acc: 0.942 - ETA: 0s - loss: 0.1263 - acc: 0.945 - ETA: 0s - loss: 0.1337 - acc: 0.937 - ETA: 0s - loss: 0.1371 - acc: 0.937 - ETA: 0s - loss: 0.1356 - acc: 0.937 - ETA: 0s - loss: 0.1301 - acc: 0.942 - ETA: 0s - loss: 0.1325 - acc: 0.944 - ETA: 0s - loss: 0.1311 - acc: 0.946 - 1s 2ms/step - loss: 0.1253 - acc: 0.9500 - val_loss: 0.6944 - val_acc: 0.8583\n",
      "\n",
      "Epoch 00089: val_loss did not improve from 0.45011\n",
      "Epoch 90/300\n",
      "480/480 [==============================] - ETA: 0s - loss: 0.0312 - acc: 1.000 - ETA: 0s - loss: 0.0395 - acc: 0.984 - ETA: 0s - loss: 0.0333 - acc: 0.989 - ETA: 0s - loss: 0.0507 - acc: 0.984 - ETA: 0s - loss: 0.0737 - acc: 0.975 - ETA: 0s - loss: 0.0850 - acc: 0.968 - ETA: 0s - loss: 0.0989 - acc: 0.964 - ETA: 0s - loss: 0.0910 - acc: 0.968 - ETA: 0s - loss: 0.0908 - acc: 0.968 - ETA: 0s - loss: 0.0864 - acc: 0.968 - ETA: 0s - loss: 0.0850 - acc: 0.971 - ETA: 0s - loss: 0.0816 - acc: 0.974 - ETA: 0s - loss: 0.0796 - acc: 0.976 - ETA: 0s - loss: 0.0834 - acc: 0.975 - 1s 2ms/step - loss: 0.0890 - acc: 0.9708 - val_loss: 0.6446 - val_acc: 0.8583\n",
      "\n",
      "Epoch 00090: val_loss did not improve from 0.45011\n",
      "Epoch 91/300\n",
      "480/480 [==============================] - ETA: 0s - loss: 0.0913 - acc: 0.968 - ETA: 0s - loss: 0.1173 - acc: 0.953 - ETA: 0s - loss: 0.1134 - acc: 0.968 - ETA: 0s - loss: 0.1073 - acc: 0.968 - ETA: 0s - loss: 0.1005 - acc: 0.975 - ETA: 0s - loss: 0.0963 - acc: 0.974 - ETA: 0s - loss: 0.0895 - acc: 0.977 - ETA: 0s - loss: 0.0925 - acc: 0.972 - ETA: 0s - loss: 0.1097 - acc: 0.961 - ETA: 0s - loss: 0.1125 - acc: 0.962 - ETA: 0s - loss: 0.1073 - acc: 0.963 - ETA: 0s - loss: 0.1050 - acc: 0.963 - ETA: 0s - loss: 0.1052 - acc: 0.963 - ETA: 0s - loss: 0.0993 - acc: 0.966 - 1s 2ms/step - loss: 0.0993 - acc: 0.9667 - val_loss: 0.7036 - val_acc: 0.8583\n",
      "\n",
      "Epoch 00091: val_loss did not improve from 0.45011\n",
      "Epoch 92/300\n",
      "480/480 [==============================] - ETA: 0s - loss: 0.2267 - acc: 0.906 - ETA: 0s - loss: 0.1450 - acc: 0.953 - ETA: 0s - loss: 0.1040 - acc: 0.968 - ETA: 0s - loss: 0.1302 - acc: 0.953 - ETA: 0s - loss: 0.1302 - acc: 0.956 - ETA: 0s - loss: 0.1306 - acc: 0.953 - ETA: 0s - loss: 0.1253 - acc: 0.959 - ETA: 0s - loss: 0.1164 - acc: 0.960 - ETA: 0s - loss: 0.1298 - acc: 0.954 - ETA: 0s - loss: 0.1359 - acc: 0.950 - ETA: 0s - loss: 0.1313 - acc: 0.951 - ETA: 0s - loss: 0.1301 - acc: 0.953 - ETA: 0s - loss: 0.1302 - acc: 0.951 - ETA: 0s - loss: 0.1241 - acc: 0.955 - 1s 2ms/step - loss: 0.1229 - acc: 0.9563 - val_loss: 0.7385 - val_acc: 0.8583\n",
      "\n",
      "Epoch 00092: val_loss did not improve from 0.45011\n",
      "Epoch 93/300\n",
      "480/480 [==============================] - ETA: 0s - loss: 0.1292 - acc: 0.937 - ETA: 0s - loss: 0.1428 - acc: 0.921 - ETA: 0s - loss: 0.1145 - acc: 0.937 - ETA: 0s - loss: 0.1000 - acc: 0.953 - ETA: 0s - loss: 0.0871 - acc: 0.962 - ETA: 0s - loss: 0.0924 - acc: 0.963 - ETA: 0s - loss: 0.0884 - acc: 0.959 - ETA: 0s - loss: 0.1113 - acc: 0.953 - ETA: 0s - loss: 0.1038 - acc: 0.958 - ETA: 0s - loss: 0.1107 - acc: 0.956 - ETA: 0s - loss: 0.1089 - acc: 0.960 - ETA: 0s - loss: 0.1106 - acc: 0.958 - ETA: 0s - loss: 0.1082 - acc: 0.961 - ETA: 0s - loss: 0.1056 - acc: 0.959 - 1s 2ms/step - loss: 0.0998 - acc: 0.9625 - val_loss: 0.8374 - val_acc: 0.8583\n",
      "\n",
      "Epoch 00093: val_loss did not improve from 0.45011\n",
      "Epoch 94/300\n",
      "480/480 [==============================] - ETA: 0s - loss: 0.2004 - acc: 0.937 - ETA: 0s - loss: 0.1534 - acc: 0.937 - ETA: 0s - loss: 0.1322 - acc: 0.947 - ETA: 0s - loss: 0.1169 - acc: 0.953 - ETA: 0s - loss: 0.1043 - acc: 0.956 - ETA: 0s - loss: 0.1168 - acc: 0.947 - ETA: 0s - loss: 0.1232 - acc: 0.950 - ETA: 0s - loss: 0.1323 - acc: 0.949 - ETA: 0s - loss: 0.1282 - acc: 0.951 - ETA: 0s - loss: 0.1253 - acc: 0.953 - ETA: 0s - loss: 0.1185 - acc: 0.957 - ETA: 0s - loss: 0.1144 - acc: 0.955 - ETA: 0s - loss: 0.1217 - acc: 0.956 - ETA: 0s - loss: 0.1181 - acc: 0.959 - 1s 2ms/step - loss: 0.1248 - acc: 0.9563 - val_loss: 0.7839 - val_acc: 0.8500\n",
      "\n",
      "Epoch 00094: val_loss did not improve from 0.45011\n",
      "Epoch 95/300\n",
      "480/480 [==============================] - ETA: 0s - loss: 0.0525 - acc: 0.968 - ETA: 0s - loss: 0.0682 - acc: 0.968 - ETA: 0s - loss: 0.1384 - acc: 0.947 - ETA: 0s - loss: 0.1344 - acc: 0.953 - ETA: 0s - loss: 0.1501 - acc: 0.943 - ETA: 0s - loss: 0.1384 - acc: 0.947 - ETA: 0s - loss: 0.1483 - acc: 0.946 - ETA: 0s - loss: 0.1749 - acc: 0.937 - ETA: 0s - loss: 0.1787 - acc: 0.934 - ETA: 0s - loss: 0.1951 - acc: 0.934 - ETA: 0s - loss: 0.1951 - acc: 0.937 - ETA: 0s - loss: 0.1894 - acc: 0.940 - ETA: 0s - loss: 0.1870 - acc: 0.939 - ETA: 0s - loss: 0.1792 - acc: 0.944 - 1s 2ms/step - loss: 0.1778 - acc: 0.9417 - val_loss: 0.6616 - val_acc: 0.8583\n",
      "\n",
      "Epoch 00095: val_loss did not improve from 0.45011\n",
      "Epoch 96/300\n",
      "480/480 [==============================] - ETA: 0s - loss: 0.3232 - acc: 0.875 - ETA: 0s - loss: 0.1907 - acc: 0.921 - ETA: 0s - loss: 0.1679 - acc: 0.937 - ETA: 0s - loss: 0.1675 - acc: 0.937 - ETA: 0s - loss: 0.1683 - acc: 0.937 - ETA: 0s - loss: 0.2071 - acc: 0.927 - ETA: 0s - loss: 0.1989 - acc: 0.928 - ETA: 0s - loss: 0.2141 - acc: 0.921 - ETA: 0s - loss: 0.2034 - acc: 0.927 - ETA: 0s - loss: 0.2006 - acc: 0.928 - ETA: 0s - loss: 0.1996 - acc: 0.923 - ETA: 0s - loss: 0.2132 - acc: 0.916 - ETA: 0s - loss: 0.2237 - acc: 0.915 - ETA: 0s - loss: 0.2119 - acc: 0.921 - 1s 2ms/step - loss: 0.2120 - acc: 0.9229 - val_loss: 0.6243 - val_acc: 0.8583\n",
      "\n",
      "Epoch 00096: val_loss did not improve from 0.45011\n",
      "Epoch 97/300\n",
      "480/480 [==============================] - ETA: 0s - loss: 0.2577 - acc: 0.875 - ETA: 0s - loss: 0.1823 - acc: 0.921 - ETA: 0s - loss: 0.1513 - acc: 0.927 - ETA: 0s - loss: 0.1169 - acc: 0.945 - ETA: 0s - loss: 0.1134 - acc: 0.950 - ETA: 0s - loss: 0.1074 - acc: 0.953 - ETA: 0s - loss: 0.1410 - acc: 0.942 - ETA: 0s - loss: 0.1499 - acc: 0.941 - ETA: 0s - loss: 0.1472 - acc: 0.944 - ETA: 0s - loss: 0.2064 - acc: 0.928 - ETA: 0s - loss: 0.2062 - acc: 0.929 - ETA: 0s - loss: 0.1944 - acc: 0.932 - ETA: 0s - loss: 0.1972 - acc: 0.930 - ETA: 0s - loss: 0.2139 - acc: 0.919 - 1s 2ms/step - loss: 0.2121 - acc: 0.9187 - val_loss: 0.7255 - val_acc: 0.8750\n",
      "\n",
      "Epoch 00097: val_loss did not improve from 0.45011\n",
      "Epoch 98/300\n",
      "480/480 [==============================] - ETA: 0s - loss: 0.2957 - acc: 0.906 - ETA: 0s - loss: 0.2328 - acc: 0.921 - ETA: 0s - loss: 0.2536 - acc: 0.906 - ETA: 0s - loss: 0.2425 - acc: 0.898 - ETA: 0s - loss: 0.2715 - acc: 0.887 - ETA: 0s - loss: 0.2860 - acc: 0.885 - ETA: 0s - loss: 0.2742 - acc: 0.883 - ETA: 0s - loss: 0.3143 - acc: 0.875 - ETA: 0s - loss: 0.3511 - acc: 0.875 - ETA: 0s - loss: 0.3699 - acc: 0.868 - ETA: 0s - loss: 0.3523 - acc: 0.875 - ETA: 0s - loss: 0.3473 - acc: 0.875 - ETA: 0s - loss: 0.3632 - acc: 0.872 - ETA: 0s - loss: 0.3621 - acc: 0.875 - 1s 2ms/step - loss: 0.3658 - acc: 0.8729 - val_loss: 0.8180 - val_acc: 0.8250\n",
      "\n",
      "Epoch 00098: val_loss did not improve from 0.45011\n",
      "Epoch 99/300\n",
      "480/480 [==============================] - ETA: 0s - loss: 0.1742 - acc: 0.937 - ETA: 0s - loss: 0.1951 - acc: 0.921 - ETA: 0s - loss: 0.2107 - acc: 0.916 - ETA: 0s - loss: 0.2755 - acc: 0.914 - ETA: 0s - loss: 0.3588 - acc: 0.900 - ETA: 0s - loss: 0.3154 - acc: 0.916 - ETA: 0s - loss: 0.3393 - acc: 0.901 - ETA: 0s - loss: 0.3162 - acc: 0.902 - ETA: 0s - loss: 0.2870 - acc: 0.909 - ETA: 0s - loss: 0.2743 - acc: 0.912 - ETA: 0s - loss: 0.2539 - acc: 0.920 - ETA: 0s - loss: 0.2512 - acc: 0.919 - ETA: 0s - loss: 0.2522 - acc: 0.918 - ETA: 0s - loss: 0.2409 - acc: 0.924 - 1s 2ms/step - loss: 0.2463 - acc: 0.9229 - val_loss: 0.7207 - val_acc: 0.8333\n",
      "\n",
      "Epoch 00099: val_loss did not improve from 0.45011\n",
      "Epoch 100/300\n"
     ]
    },
    {
     "name": "stdout",
     "output_type": "stream",
     "text": [
      "480/480 [==============================] - ETA: 0s - loss: 0.0908 - acc: 0.968 - ETA: 0s - loss: 0.1622 - acc: 0.921 - ETA: 0s - loss: 0.1942 - acc: 0.927 - ETA: 0s - loss: 0.2019 - acc: 0.914 - ETA: 0s - loss: 0.1853 - acc: 0.925 - ETA: 0s - loss: 0.1846 - acc: 0.932 - ETA: 0s - loss: 0.1956 - acc: 0.928 - ETA: 0s - loss: 0.2221 - acc: 0.921 - ETA: 0s - loss: 0.2323 - acc: 0.916 - ETA: 0s - loss: 0.2192 - acc: 0.921 - ETA: 0s - loss: 0.2622 - acc: 0.920 - ETA: 0s - loss: 0.2479 - acc: 0.924 - ETA: 0s - loss: 0.2453 - acc: 0.925 - ETA: 0s - loss: 0.2505 - acc: 0.924 - 1s 2ms/step - loss: 0.2384 - acc: 0.9271 - val_loss: 0.6321 - val_acc: 0.8417\n",
      "\n",
      "Epoch 00100: val_loss did not improve from 0.45011\n",
      "Epoch 101/300\n",
      "480/480 [==============================] - ETA: 1s - loss: 0.2186 - acc: 0.937 - ETA: 0s - loss: 0.1246 - acc: 0.968 - ETA: 0s - loss: 0.1181 - acc: 0.968 - ETA: 0s - loss: 0.1298 - acc: 0.968 - ETA: 0s - loss: 0.1503 - acc: 0.956 - ETA: 0s - loss: 0.1491 - acc: 0.963 - ETA: 0s - loss: 0.1447 - acc: 0.964 - ETA: 0s - loss: 0.1415 - acc: 0.964 - ETA: 0s - loss: 0.1884 - acc: 0.958 - ETA: 0s - loss: 0.1794 - acc: 0.959 - ETA: 0s - loss: 0.1722 - acc: 0.960 - ETA: 0s - loss: 0.1623 - acc: 0.963 - ETA: 0s - loss: 0.1841 - acc: 0.963 - ETA: 0s - loss: 0.1840 - acc: 0.959 - 1s 2ms/step - loss: 0.2190 - acc: 0.9542 - val_loss: 1.2515 - val_acc: 0.7833\n",
      "\n",
      "Epoch 00101: val_loss did not improve from 0.45011\n",
      "Epoch 102/300\n",
      "480/480 [==============================] - ETA: 1s - loss: 0.1649 - acc: 0.968 - ETA: 0s - loss: 0.4786 - acc: 0.875 - ETA: 0s - loss: 0.3840 - acc: 0.895 - ETA: 0s - loss: 0.3270 - acc: 0.898 - ETA: 0s - loss: 0.3166 - acc: 0.906 - ETA: 0s - loss: 0.2935 - acc: 0.906 - ETA: 0s - loss: 0.2933 - acc: 0.915 - ETA: 0s - loss: 0.3140 - acc: 0.906 - ETA: 0s - loss: 0.2954 - acc: 0.909 - ETA: 0s - loss: 0.3321 - acc: 0.906 - ETA: 0s - loss: 0.3529 - acc: 0.906 - ETA: 0s - loss: 0.3365 - acc: 0.908 - ETA: 0s - loss: 0.3304 - acc: 0.911 - ETA: 0s - loss: 0.3536 - acc: 0.910 - 1s 3ms/step - loss: 0.3524 - acc: 0.9083 - val_loss: 0.5910 - val_acc: 0.8583\n",
      "\n",
      "Epoch 00102: val_loss did not improve from 0.45011\n",
      "Epoch 103/300\n",
      "480/480 [==============================] - ETA: 1s - loss: 0.2132 - acc: 0.906 - ETA: 0s - loss: 0.1871 - acc: 0.937 - ETA: 0s - loss: 0.2141 - acc: 0.916 - ETA: 0s - loss: 0.2137 - acc: 0.921 - ETA: 0s - loss: 0.2413 - acc: 0.912 - ETA: 0s - loss: 0.2061 - acc: 0.927 - ETA: 0s - loss: 0.2023 - acc: 0.928 - ETA: 0s - loss: 0.1961 - acc: 0.933 - ETA: 0s - loss: 0.1998 - acc: 0.927 - ETA: 0s - loss: 0.1854 - acc: 0.934 - ETA: 0s - loss: 0.1749 - acc: 0.940 - ETA: 0s - loss: 0.1720 - acc: 0.942 - ETA: 0s - loss: 0.1740 - acc: 0.942 - ETA: 0s - loss: 0.1702 - acc: 0.944 - 1s 2ms/step - loss: 0.1720 - acc: 0.9437 - val_loss: 0.6960 - val_acc: 0.8333\n",
      "\n",
      "Epoch 00103: val_loss did not improve from 0.45011\n",
      "Epoch 104/300\n",
      "480/480 [==============================] - ETA: 0s - loss: 0.0784 - acc: 1.000 - ETA: 0s - loss: 0.0678 - acc: 1.000 - ETA: 0s - loss: 0.1157 - acc: 0.968 - ETA: 0s - loss: 0.1384 - acc: 0.953 - ETA: 0s - loss: 0.1326 - acc: 0.956 - ETA: 0s - loss: 0.1556 - acc: 0.947 - ETA: 0s - loss: 0.1575 - acc: 0.946 - ETA: 0s - loss: 0.1657 - acc: 0.945 - ETA: 0s - loss: 0.1674 - acc: 0.941 - ETA: 0s - loss: 0.1563 - acc: 0.946 - ETA: 0s - loss: 0.1609 - acc: 0.943 - ETA: 0s - loss: 0.1595 - acc: 0.947 - ETA: 0s - loss: 0.1587 - acc: 0.947 - ETA: 0s - loss: 0.1609 - acc: 0.948 - 1s 2ms/step - loss: 0.1627 - acc: 0.9479 - val_loss: 0.8469 - val_acc: 0.8333\n",
      "\n",
      "Epoch 00104: val_loss did not improve from 0.45011\n",
      "Epoch 105/300\n",
      "480/480 [==============================] - ETA: 0s - loss: 0.1330 - acc: 0.937 - ETA: 0s - loss: 0.1782 - acc: 0.921 - ETA: 0s - loss: 0.2052 - acc: 0.916 - ETA: 0s - loss: 0.1848 - acc: 0.937 - ETA: 0s - loss: 0.1740 - acc: 0.943 - ETA: 0s - loss: 0.1639 - acc: 0.947 - ETA: 0s - loss: 0.1478 - acc: 0.955 - ETA: 0s - loss: 0.1453 - acc: 0.953 - ETA: 0s - loss: 0.1444 - acc: 0.951 - ETA: 0s - loss: 0.1699 - acc: 0.940 - ETA: 0s - loss: 0.1682 - acc: 0.943 - ETA: 0s - loss: 0.1738 - acc: 0.940 - ETA: 0s - loss: 0.1654 - acc: 0.942 - ETA: 0s - loss: 0.1616 - acc: 0.944 - 1s 2ms/step - loss: 0.1574 - acc: 0.9458 - val_loss: 0.6427 - val_acc: 0.8667\n",
      "\n",
      "Epoch 00105: val_loss did not improve from 0.45011\n",
      "Epoch 106/300\n",
      "480/480 [==============================] - ETA: 0s - loss: 0.3977 - acc: 0.875 - ETA: 0s - loss: 0.2968 - acc: 0.875 - ETA: 0s - loss: 0.2644 - acc: 0.875 - ETA: 0s - loss: 0.2287 - acc: 0.890 - ETA: 0s - loss: 0.2077 - acc: 0.906 - ETA: 0s - loss: 0.1785 - acc: 0.921 - ETA: 0s - loss: 0.1752 - acc: 0.928 - ETA: 0s - loss: 0.1655 - acc: 0.929 - ETA: 0s - loss: 0.1592 - acc: 0.934 - ETA: 0s - loss: 0.1525 - acc: 0.937 - ETA: 0s - loss: 0.1702 - acc: 0.926 - ETA: 0s - loss: 0.1597 - acc: 0.932 - ETA: 0s - loss: 0.1641 - acc: 0.932 - ETA: 0s - loss: 0.1652 - acc: 0.930 - 1s 2ms/step - loss: 0.1646 - acc: 0.9313 - val_loss: 0.5952 - val_acc: 0.8583\n",
      "\n",
      "Epoch 00106: val_loss did not improve from 0.45011\n",
      "Epoch 107/300\n",
      "480/480 [==============================] - ETA: 0s - loss: 0.2232 - acc: 0.906 - ETA: 0s - loss: 0.1610 - acc: 0.953 - ETA: 0s - loss: 0.1802 - acc: 0.937 - ETA: 0s - loss: 0.1622 - acc: 0.945 - ETA: 0s - loss: 0.1649 - acc: 0.943 - ETA: 0s - loss: 0.1550 - acc: 0.953 - ETA: 0s - loss: 0.1444 - acc: 0.955 - ETA: 0s - loss: 0.1375 - acc: 0.957 - ETA: 0s - loss: 0.1358 - acc: 0.958 - ETA: 0s - loss: 0.1278 - acc: 0.962 - ETA: 0s - loss: 0.1283 - acc: 0.963 - ETA: 0s - loss: 0.1323 - acc: 0.958 - ETA: 0s - loss: 0.1376 - acc: 0.956 - ETA: 0s - loss: 0.1428 - acc: 0.955 - 1s 2ms/step - loss: 0.1403 - acc: 0.9563 - val_loss: 0.5053 - val_acc: 0.8833\n",
      "\n",
      "Epoch 00107: val_loss did not improve from 0.45011\n",
      "Epoch 108/300\n",
      "480/480 [==============================] - ETA: 0s - loss: 0.0469 - acc: 1.000 - ETA: 0s - loss: 0.0541 - acc: 1.000 - ETA: 0s - loss: 0.0780 - acc: 0.989 - ETA: 0s - loss: 0.0798 - acc: 0.984 - ETA: 0s - loss: 0.1028 - acc: 0.975 - ETA: 0s - loss: 0.1287 - acc: 0.963 - ETA: 0s - loss: 0.1307 - acc: 0.964 - ETA: 0s - loss: 0.1272 - acc: 0.964 - ETA: 0s - loss: 0.1322 - acc: 0.961 - ETA: 0s - loss: 0.1211 - acc: 0.965 - ETA: 0s - loss: 0.1277 - acc: 0.963 - ETA: 0s - loss: 0.1263 - acc: 0.963 - ETA: 0s - loss: 0.1319 - acc: 0.959 - ETA: 0s - loss: 0.1306 - acc: 0.957 - 1s 2ms/step - loss: 0.1256 - acc: 0.9604 - val_loss: 0.5539 - val_acc: 0.8833\n",
      "\n",
      "Epoch 00108: val_loss did not improve from 0.45011\n",
      "Epoch 109/300\n",
      "480/480 [==============================] - ETA: 0s - loss: 0.0765 - acc: 1.000 - ETA: 0s - loss: 0.1089 - acc: 0.968 - ETA: 0s - loss: 0.0861 - acc: 0.979 - ETA: 0s - loss: 0.1173 - acc: 0.968 - ETA: 0s - loss: 0.1217 - acc: 0.962 - ETA: 0s - loss: 0.1973 - acc: 0.947 - ETA: 0s - loss: 0.1877 - acc: 0.946 - ETA: 0s - loss: 0.1827 - acc: 0.941 - ETA: 0s - loss: 0.1834 - acc: 0.937 - ETA: 0s - loss: 0.2010 - acc: 0.925 - ETA: 0s - loss: 0.1987 - acc: 0.926 - ETA: 0s - loss: 0.1930 - acc: 0.927 - ETA: 0s - loss: 0.1874 - acc: 0.930 - ETA: 0s - loss: 0.1830 - acc: 0.930 - 1s 2ms/step - loss: 0.1859 - acc: 0.9271 - val_loss: 0.5713 - val_acc: 0.8667\n",
      "\n",
      "Epoch 00109: val_loss did not improve from 0.45011\n",
      "Epoch 110/300\n",
      "480/480 [==============================] - ETA: 0s - loss: 0.2046 - acc: 0.875 - ETA: 0s - loss: 0.1325 - acc: 0.937 - ETA: 0s - loss: 0.1319 - acc: 0.937 - ETA: 0s - loss: 0.1174 - acc: 0.945 - ETA: 0s - loss: 0.0986 - acc: 0.956 - ETA: 0s - loss: 0.1171 - acc: 0.947 - ETA: 0s - loss: 0.1193 - acc: 0.950 - ETA: 0s - loss: 0.1441 - acc: 0.941 - ETA: 0s - loss: 0.1506 - acc: 0.937 - ETA: 0s - loss: 0.1621 - acc: 0.934 - ETA: 0s - loss: 0.1636 - acc: 0.934 - ETA: 0s - loss: 0.1645 - acc: 0.934 - ETA: 0s - loss: 0.1738 - acc: 0.925 - ETA: 0s - loss: 0.1704 - acc: 0.928 - 1s 2ms/step - loss: 0.1713 - acc: 0.9292 - val_loss: 0.6132 - val_acc: 0.8500\n",
      "\n",
      "Epoch 00110: val_loss did not improve from 0.45011\n",
      "Epoch 111/300\n"
     ]
    },
    {
     "name": "stdout",
     "output_type": "stream",
     "text": [
      "480/480 [==============================] - ETA: 0s - loss: 0.1315 - acc: 0.937 - ETA: 0s - loss: 0.1299 - acc: 0.953 - ETA: 0s - loss: 0.1029 - acc: 0.968 - ETA: 0s - loss: 0.1190 - acc: 0.953 - ETA: 0s - loss: 0.1289 - acc: 0.943 - ETA: 0s - loss: 0.1401 - acc: 0.942 - ETA: 0s - loss: 0.1708 - acc: 0.933 - ETA: 0s - loss: 0.1587 - acc: 0.937 - ETA: 0s - loss: 0.1485 - acc: 0.944 - ETA: 0s - loss: 0.1426 - acc: 0.946 - ETA: 0s - loss: 0.1403 - acc: 0.948 - ETA: 0s - loss: 0.1385 - acc: 0.950 - ETA: 0s - loss: 0.1393 - acc: 0.947 - ETA: 0s - loss: 0.1415 - acc: 0.944 - 1s 2ms/step - loss: 0.1370 - acc: 0.9458 - val_loss: 0.5790 - val_acc: 0.8833\n",
      "\n",
      "Epoch 00111: val_loss did not improve from 0.45011\n",
      "Epoch 112/300\n",
      "480/480 [==============================] - ETA: 0s - loss: 0.0813 - acc: 1.000 - ETA: 0s - loss: 0.1717 - acc: 0.937 - ETA: 0s - loss: 0.1707 - acc: 0.927 - ETA: 0s - loss: 0.1699 - acc: 0.929 - ETA: 0s - loss: 0.1378 - acc: 0.943 - ETA: 0s - loss: 0.1282 - acc: 0.953 - ETA: 0s - loss: 0.1167 - acc: 0.959 - ETA: 0s - loss: 0.1183 - acc: 0.960 - ETA: 0s - loss: 0.1275 - acc: 0.954 - ETA: 0s - loss: 0.1265 - acc: 0.956 - ETA: 0s - loss: 0.1249 - acc: 0.960 - ETA: 0s - loss: 0.1245 - acc: 0.960 - ETA: 0s - loss: 0.1239 - acc: 0.959 - ETA: 0s - loss: 0.1262 - acc: 0.953 - 1s 2ms/step - loss: 0.1202 - acc: 0.9563 - val_loss: 0.5760 - val_acc: 0.8750\n",
      "\n",
      "Epoch 00112: val_loss did not improve from 0.45011\n",
      "Epoch 113/300\n",
      "480/480 [==============================] - ETA: 0s - loss: 0.1533 - acc: 0.937 - ETA: 0s - loss: 0.1268 - acc: 0.953 - ETA: 0s - loss: 0.1344 - acc: 0.937 - ETA: 0s - loss: 0.1139 - acc: 0.945 - ETA: 0s - loss: 0.1130 - acc: 0.950 - ETA: 0s - loss: 0.1289 - acc: 0.937 - ETA: 0s - loss: 0.1479 - acc: 0.924 - ETA: 0s - loss: 0.1388 - acc: 0.929 - ETA: 0s - loss: 0.1487 - acc: 0.923 - ETA: 0s - loss: 0.1381 - acc: 0.931 - ETA: 0s - loss: 0.1370 - acc: 0.934 - ETA: 0s - loss: 0.1397 - acc: 0.934 - ETA: 0s - loss: 0.1346 - acc: 0.937 - ETA: 0s - loss: 0.1303 - acc: 0.942 - 1s 2ms/step - loss: 0.1316 - acc: 0.9437 - val_loss: 0.5753 - val_acc: 0.8750\n",
      "\n",
      "Epoch 00113: val_loss did not improve from 0.45011\n",
      "Epoch 114/300\n",
      "480/480 [==============================] - ETA: 0s - loss: 0.0108 - acc: 1.000 - ETA: 0s - loss: 0.0557 - acc: 0.968 - ETA: 0s - loss: 0.0725 - acc: 0.968 - ETA: 0s - loss: 0.0705 - acc: 0.968 - ETA: 0s - loss: 0.0743 - acc: 0.975 - ETA: 0s - loss: 0.0913 - acc: 0.968 - ETA: 0s - loss: 0.0827 - acc: 0.973 - ETA: 0s - loss: 0.0775 - acc: 0.976 - ETA: 0s - loss: 0.0776 - acc: 0.975 - ETA: 0s - loss: 0.0788 - acc: 0.975 - ETA: 0s - loss: 0.0807 - acc: 0.974 - ETA: 0s - loss: 0.0824 - acc: 0.971 - ETA: 0s - loss: 0.0980 - acc: 0.963 - ETA: 0s - loss: 0.0985 - acc: 0.964 - 1s 2ms/step - loss: 0.0972 - acc: 0.9667 - val_loss: 0.5915 - val_acc: 0.8667\n",
      "\n",
      "Epoch 00114: val_loss did not improve from 0.45011\n",
      "Epoch 115/300\n",
      "480/480 [==============================] - ETA: 0s - loss: 0.2334 - acc: 0.906 - ETA: 0s - loss: 0.2415 - acc: 0.890 - ETA: 0s - loss: 0.2184 - acc: 0.906 - ETA: 0s - loss: 0.2029 - acc: 0.921 - ETA: 0s - loss: 0.1751 - acc: 0.931 - ETA: 0s - loss: 0.1700 - acc: 0.932 - ETA: 0s - loss: 0.1709 - acc: 0.928 - ETA: 0s - loss: 0.1629 - acc: 0.929 - ETA: 0s - loss: 0.1500 - acc: 0.934 - ETA: 0s - loss: 0.1406 - acc: 0.940 - ETA: 0s - loss: 0.1341 - acc: 0.946 - ETA: 0s - loss: 0.1281 - acc: 0.947 - ETA: 0s - loss: 0.1249 - acc: 0.949 - ETA: 0s - loss: 0.1316 - acc: 0.944 - 1s 2ms/step - loss: 0.1296 - acc: 0.9458 - val_loss: 0.5857 - val_acc: 0.8750\n",
      "\n",
      "Epoch 00115: val_loss did not improve from 0.45011\n",
      "Epoch 116/300\n",
      "480/480 [==============================] - ETA: 0s - loss: 0.0408 - acc: 1.000 - ETA: 0s - loss: 0.0976 - acc: 0.953 - ETA: 0s - loss: 0.0802 - acc: 0.968 - ETA: 0s - loss: 0.0716 - acc: 0.976 - ETA: 0s - loss: 0.0706 - acc: 0.981 - ETA: 0s - loss: 0.0931 - acc: 0.963 - ETA: 0s - loss: 0.1091 - acc: 0.955 - ETA: 0s - loss: 0.1109 - acc: 0.957 - ETA: 0s - loss: 0.1105 - acc: 0.958 - ETA: 0s - loss: 0.1054 - acc: 0.959 - ETA: 0s - loss: 0.0997 - acc: 0.963 - ETA: 0s - loss: 0.1095 - acc: 0.958 - ETA: 0s - loss: 0.1165 - acc: 0.954 - ETA: 0s - loss: 0.1146 - acc: 0.955 - 1s 2ms/step - loss: 0.1124 - acc: 0.9563 - val_loss: 0.6161 - val_acc: 0.8750\n",
      "\n",
      "Epoch 00116: val_loss did not improve from 0.45011\n",
      "Epoch 117/300\n",
      "480/480 [==============================] - ETA: 0s - loss: 0.0340 - acc: 1.000 - ETA: 0s - loss: 0.0485 - acc: 0.984 - ETA: 0s - loss: 0.0487 - acc: 0.989 - ETA: 0s - loss: 0.0617 - acc: 0.984 - ETA: 0s - loss: 0.0767 - acc: 0.975 - ETA: 0s - loss: 0.0726 - acc: 0.979 - ETA: 0s - loss: 0.0739 - acc: 0.982 - ETA: 0s - loss: 0.0825 - acc: 0.980 - ETA: 0s - loss: 0.0925 - acc: 0.972 - ETA: 0s - loss: 0.0991 - acc: 0.968 - ETA: 0s - loss: 0.0943 - acc: 0.971 - ETA: 0s - loss: 0.0923 - acc: 0.974 - ETA: 0s - loss: 0.0890 - acc: 0.976 - ETA: 0s - loss: 0.0872 - acc: 0.975 - 1s 2ms/step - loss: 0.0893 - acc: 0.9729 - val_loss: 0.6456 - val_acc: 0.8750\n",
      "\n",
      "Epoch 00117: val_loss did not improve from 0.45011\n",
      "Epoch 118/300\n",
      "480/480 [==============================] - ETA: 0s - loss: 0.0873 - acc: 0.937 - ETA: 0s - loss: 0.0792 - acc: 0.953 - ETA: 0s - loss: 0.0888 - acc: 0.958 - ETA: 0s - loss: 0.1162 - acc: 0.945 - ETA: 0s - loss: 0.1104 - acc: 0.943 - ETA: 0s - loss: 0.0994 - acc: 0.947 - ETA: 0s - loss: 0.0952 - acc: 0.955 - ETA: 0s - loss: 0.0966 - acc: 0.957 - ETA: 0s - loss: 0.0997 - acc: 0.958 - ETA: 0s - loss: 0.0953 - acc: 0.962 - ETA: 0s - loss: 0.0923 - acc: 0.963 - ETA: 0s - loss: 0.0947 - acc: 0.966 - ETA: 0s - loss: 0.0912 - acc: 0.968 - ETA: 0s - loss: 0.1007 - acc: 0.962 - 1s 2ms/step - loss: 0.0989 - acc: 0.9646 - val_loss: 0.6592 - val_acc: 0.8750\n",
      "\n",
      "Epoch 00118: val_loss did not improve from 0.45011\n",
      "Epoch 119/300\n",
      "480/480 [==============================] - ETA: 0s - loss: 0.0571 - acc: 1.000 - ETA: 0s - loss: 0.0687 - acc: 0.968 - ETA: 0s - loss: 0.0532 - acc: 0.979 - ETA: 0s - loss: 0.0588 - acc: 0.976 - ETA: 0s - loss: 0.0508 - acc: 0.981 - ETA: 0s - loss: 0.0533 - acc: 0.984 - ETA: 0s - loss: 0.0569 - acc: 0.977 - ETA: 0s - loss: 0.0667 - acc: 0.976 - ETA: 0s - loss: 0.0741 - acc: 0.972 - ETA: 0s - loss: 0.0767 - acc: 0.968 - ETA: 0s - loss: 0.0830 - acc: 0.963 - ETA: 0s - loss: 0.0851 - acc: 0.966 - ETA: 0s - loss: 0.0946 - acc: 0.963 - ETA: 0s - loss: 0.0961 - acc: 0.962 - 1s 2ms/step - loss: 0.1017 - acc: 0.9604 - val_loss: 0.6410 - val_acc: 0.8833\n",
      "\n",
      "Epoch 00119: val_loss did not improve from 0.45011\n",
      "Epoch 120/300\n",
      "480/480 [==============================] - ETA: 0s - loss: 0.1187 - acc: 0.906 - ETA: 0s - loss: 0.1130 - acc: 0.921 - ETA: 0s - loss: 0.1035 - acc: 0.937 - ETA: 0s - loss: 0.0919 - acc: 0.953 - ETA: 0s - loss: 0.1012 - acc: 0.943 - ETA: 0s - loss: 0.1097 - acc: 0.942 - ETA: 0s - loss: 0.1180 - acc: 0.942 - ETA: 0s - loss: 0.1109 - acc: 0.949 - ETA: 0s - loss: 0.1048 - acc: 0.954 - ETA: 0s - loss: 0.0988 - acc: 0.956 - ETA: 0s - loss: 0.0966 - acc: 0.957 - ETA: 0s - loss: 0.1010 - acc: 0.953 - ETA: 0s - loss: 0.1007 - acc: 0.954 - ETA: 0s - loss: 0.1046 - acc: 0.955 - 1s 2ms/step - loss: 0.1028 - acc: 0.9563 - val_loss: 0.6256 - val_acc: 0.8750\n",
      "\n",
      "Epoch 00120: val_loss did not improve from 0.45011\n",
      "Epoch 121/300\n",
      "480/480 [==============================] - ETA: 0s - loss: 0.2174 - acc: 0.875 - ETA: 1s - loss: 0.1432 - acc: 0.921 - ETA: 0s - loss: 0.1548 - acc: 0.927 - ETA: 0s - loss: 0.1542 - acc: 0.937 - ETA: 0s - loss: 0.1402 - acc: 0.950 - ETA: 0s - loss: 0.1249 - acc: 0.958 - ETA: 0s - loss: 0.1296 - acc: 0.955 - ETA: 0s - loss: 0.1308 - acc: 0.949 - ETA: 0s - loss: 0.1347 - acc: 0.947 - ETA: 0s - loss: 0.1341 - acc: 0.946 - ETA: 0s - loss: 0.1431 - acc: 0.940 - ETA: 0s - loss: 0.1402 - acc: 0.945 - ETA: 0s - loss: 0.1344 - acc: 0.947 - ETA: 0s - loss: 0.1291 - acc: 0.950 - 1s 2ms/step - loss: 0.1265 - acc: 0.9500 - val_loss: 0.6335 - val_acc: 0.8833\n",
      "\n",
      "Epoch 00121: val_loss did not improve from 0.45011\n",
      "Epoch 122/300\n"
     ]
    },
    {
     "name": "stdout",
     "output_type": "stream",
     "text": [
      "480/480 [==============================] - ETA: 0s - loss: 0.0717 - acc: 0.968 - ETA: 0s - loss: 0.0971 - acc: 0.953 - ETA: 0s - loss: 0.1085 - acc: 0.958 - ETA: 0s - loss: 0.1090 - acc: 0.953 - ETA: 0s - loss: 0.1007 - acc: 0.956 - ETA: 0s - loss: 0.0998 - acc: 0.958 - ETA: 0s - loss: 0.1112 - acc: 0.955 - ETA: 0s - loss: 0.1033 - acc: 0.960 - ETA: 0s - loss: 0.0993 - acc: 0.965 - ETA: 0s - loss: 0.0998 - acc: 0.968 - ETA: 0s - loss: 0.1031 - acc: 0.963 - ETA: 0s - loss: 0.1145 - acc: 0.958 - ETA: 0s - loss: 0.1108 - acc: 0.959 - ETA: 0s - loss: 0.1131 - acc: 0.955 - 1s 2ms/step - loss: 0.1106 - acc: 0.9583 - val_loss: 0.5652 - val_acc: 0.8833\n",
      "\n",
      "Epoch 00122: val_loss did not improve from 0.45011\n",
      "Epoch 123/300\n",
      "480/480 [==============================] - ETA: 0s - loss: 0.1464 - acc: 0.937 - ETA: 0s - loss: 0.1428 - acc: 0.921 - ETA: 0s - loss: 0.1140 - acc: 0.947 - ETA: 0s - loss: 0.1053 - acc: 0.953 - ETA: 0s - loss: 0.1021 - acc: 0.956 - ETA: 0s - loss: 0.1164 - acc: 0.953 - ETA: 0s - loss: 0.1284 - acc: 0.950 - ETA: 0s - loss: 0.1204 - acc: 0.957 - ETA: 0s - loss: 0.1172 - acc: 0.958 - ETA: 0s - loss: 0.1113 - acc: 0.962 - ETA: 0s - loss: 0.1118 - acc: 0.963 - ETA: 0s - loss: 0.1078 - acc: 0.963 - ETA: 0s - loss: 0.1141 - acc: 0.959 - ETA: 0s - loss: 0.1142 - acc: 0.955 - 1s 2ms/step - loss: 0.1128 - acc: 0.9583 - val_loss: 0.5911 - val_acc: 0.8583\n",
      "\n",
      "Epoch 00123: val_loss did not improve from 0.45011\n",
      "Epoch 124/300\n",
      "480/480 [==============================] - ETA: 0s - loss: 0.1284 - acc: 0.968 - ETA: 0s - loss: 0.1361 - acc: 0.953 - ETA: 0s - loss: 0.1278 - acc: 0.947 - ETA: 0s - loss: 0.1058 - acc: 0.960 - ETA: 0s - loss: 0.1202 - acc: 0.956 - ETA: 0s - loss: 0.1276 - acc: 0.947 - ETA: 0s - loss: 0.1304 - acc: 0.950 - ETA: 0s - loss: 0.1204 - acc: 0.957 - ETA: 0s - loss: 0.1306 - acc: 0.951 - ETA: 0s - loss: 0.1307 - acc: 0.953 - ETA: 0s - loss: 0.1440 - acc: 0.946 - ETA: 0s - loss: 0.1434 - acc: 0.945 - ETA: 0s - loss: 0.1388 - acc: 0.949 - ETA: 0s - loss: 0.1362 - acc: 0.950 - 1s 2ms/step - loss: 0.1304 - acc: 0.9542 - val_loss: 0.5706 - val_acc: 0.8833\n",
      "\n",
      "Epoch 00124: val_loss did not improve from 0.45011\n",
      "Epoch 125/300\n",
      "480/480 [==============================] - ETA: 0s - loss: 0.1085 - acc: 0.968 - ETA: 0s - loss: 0.1143 - acc: 0.968 - ETA: 0s - loss: 0.1191 - acc: 0.958 - ETA: 0s - loss: 0.1083 - acc: 0.960 - ETA: 0s - loss: 0.1030 - acc: 0.956 - ETA: 0s - loss: 0.1134 - acc: 0.953 - ETA: 0s - loss: 0.1083 - acc: 0.955 - ETA: 0s - loss: 0.1169 - acc: 0.957 - ETA: 0s - loss: 0.1111 - acc: 0.961 - ETA: 0s - loss: 0.1134 - acc: 0.956 - ETA: 0s - loss: 0.1094 - acc: 0.957 - ETA: 0s - loss: 0.1050 - acc: 0.960 - ETA: 0s - loss: 0.0977 - acc: 0.963 - ETA: 0s - loss: 0.0940 - acc: 0.966 - 1s 2ms/step - loss: 0.0931 - acc: 0.9667 - val_loss: 0.5904 - val_acc: 0.8750\n",
      "\n",
      "Epoch 00125: val_loss did not improve from 0.45011\n",
      "Epoch 126/300\n",
      "480/480 [==============================] - ETA: 0s - loss: 0.1307 - acc: 0.937 - ETA: 0s - loss: 0.0850 - acc: 0.968 - ETA: 0s - loss: 0.0841 - acc: 0.958 - ETA: 0s - loss: 0.0720 - acc: 0.968 - ETA: 0s - loss: 0.0835 - acc: 0.968 - ETA: 0s - loss: 0.0966 - acc: 0.963 - ETA: 0s - loss: 0.0986 - acc: 0.959 - ETA: 0s - loss: 0.0996 - acc: 0.960 - ETA: 0s - loss: 0.0980 - acc: 0.961 - ETA: 0s - loss: 0.0962 - acc: 0.962 - ETA: 0s - loss: 0.0991 - acc: 0.960 - ETA: 0s - loss: 0.0967 - acc: 0.963 - ETA: 0s - loss: 0.0985 - acc: 0.961 - ETA: 0s - loss: 0.0948 - acc: 0.964 - 1s 2ms/step - loss: 0.0962 - acc: 0.9625 - val_loss: 0.6279 - val_acc: 0.8500\n",
      "\n",
      "Epoch 00126: val_loss did not improve from 0.45011\n",
      "Epoch 127/300\n",
      "480/480 [==============================] - ETA: 0s - loss: 0.1760 - acc: 0.937 - ETA: 0s - loss: 0.1782 - acc: 0.921 - ETA: 0s - loss: 0.1453 - acc: 0.937 - ETA: 0s - loss: 0.1228 - acc: 0.953 - ETA: 0s - loss: 0.1194 - acc: 0.950 - ETA: 0s - loss: 0.1381 - acc: 0.942 - ETA: 0s - loss: 0.1233 - acc: 0.950 - ETA: 0s - loss: 0.1505 - acc: 0.949 - ETA: 0s - loss: 0.1547 - acc: 0.941 - ETA: 0s - loss: 0.1619 - acc: 0.943 - ETA: 0s - loss: 0.1613 - acc: 0.943 - ETA: 0s - loss: 0.1542 - acc: 0.945 - ETA: 0s - loss: 0.1689 - acc: 0.942 - ETA: 0s - loss: 0.1658 - acc: 0.942 - 1s 2ms/step - loss: 0.1884 - acc: 0.9375 - val_loss: 1.1254 - val_acc: 0.8083\n",
      "\n",
      "Epoch 00127: val_loss did not improve from 0.45011\n",
      "Epoch 128/300\n",
      "480/480 [==============================] - ETA: 0s - loss: 0.1406 - acc: 0.937 - ETA: 0s - loss: 0.1242 - acc: 0.953 - ETA: 0s - loss: 0.1165 - acc: 0.947 - ETA: 0s - loss: 0.1353 - acc: 0.945 - ETA: 0s - loss: 0.1321 - acc: 0.950 - ETA: 0s - loss: 0.1682 - acc: 0.937 - ETA: 0s - loss: 0.1573 - acc: 0.942 - ETA: 0s - loss: 0.1672 - acc: 0.941 - ETA: 0s - loss: 0.1701 - acc: 0.944 - ETA: 0s - loss: 0.1736 - acc: 0.940 - ETA: 0s - loss: 0.1718 - acc: 0.943 - ETA: 0s - loss: 0.1611 - acc: 0.947 - ETA: 0s - loss: 0.1605 - acc: 0.947 - ETA: 0s - loss: 0.1532 - acc: 0.950 - 1s 2ms/step - loss: 0.1485 - acc: 0.9521 - val_loss: 0.6233 - val_acc: 0.8667\n",
      "\n",
      "Epoch 00128: val_loss did not improve from 0.45011\n",
      "Epoch 129/300\n",
      "480/480 [==============================] - ETA: 0s - loss: 0.2530 - acc: 0.906 - ETA: 0s - loss: 0.1851 - acc: 0.937 - ETA: 0s - loss: 0.1825 - acc: 0.927 - ETA: 0s - loss: 0.1583 - acc: 0.937 - ETA: 0s - loss: 0.1494 - acc: 0.937 - ETA: 0s - loss: 0.1277 - acc: 0.947 - ETA: 0s - loss: 0.1171 - acc: 0.955 - ETA: 0s - loss: 0.1195 - acc: 0.953 - ETA: 0s - loss: 0.1138 - acc: 0.954 - ETA: 0s - loss: 0.1067 - acc: 0.959 - ETA: 0s - loss: 0.1054 - acc: 0.960 - ETA: 0s - loss: 0.1031 - acc: 0.963 - ETA: 0s - loss: 0.1019 - acc: 0.966 - ETA: 0s - loss: 0.1046 - acc: 0.964 - 1s 2ms/step - loss: 0.1022 - acc: 0.9646 - val_loss: 0.6753 - val_acc: 0.8667\n",
      "\n",
      "Epoch 00129: val_loss did not improve from 0.45011\n",
      "Epoch 130/300\n",
      "480/480 [==============================] - ETA: 0s - loss: 0.0296 - acc: 1.000 - ETA: 0s - loss: 0.0746 - acc: 0.968 - ETA: 0s - loss: 0.0801 - acc: 0.968 - ETA: 0s - loss: 0.0853 - acc: 0.960 - ETA: 0s - loss: 0.1083 - acc: 0.943 - ETA: 0s - loss: 0.1115 - acc: 0.937 - ETA: 0s - loss: 0.1199 - acc: 0.937 - ETA: 0s - loss: 0.1369 - acc: 0.929 - ETA: 0s - loss: 0.1415 - acc: 0.930 - ETA: 0s - loss: 0.1351 - acc: 0.934 - ETA: 0s - loss: 0.1428 - acc: 0.937 - ETA: 0s - loss: 0.1355 - acc: 0.940 - ETA: 0s - loss: 0.1301 - acc: 0.942 - ETA: 0s - loss: 0.1294 - acc: 0.944 - 1s 2ms/step - loss: 0.1326 - acc: 0.9458 - val_loss: 0.6258 - val_acc: 0.8667\n",
      "\n",
      "Epoch 00130: val_loss did not improve from 0.45011\n",
      "Epoch 131/300\n",
      "480/480 [==============================] - ETA: 0s - loss: 0.0587 - acc: 0.968 - ETA: 0s - loss: 0.1065 - acc: 0.968 - ETA: 0s - loss: 0.0922 - acc: 0.979 - ETA: 0s - loss: 0.0889 - acc: 0.984 - ETA: 0s - loss: 0.0778 - acc: 0.987 - ETA: 0s - loss: 0.0748 - acc: 0.989 - ETA: 0s - loss: 0.0716 - acc: 0.991 - ETA: 0s - loss: 0.0696 - acc: 0.988 - ETA: 0s - loss: 0.0676 - acc: 0.986 - ETA: 0s - loss: 0.0846 - acc: 0.978 - ETA: 0s - loss: 0.0828 - acc: 0.977 - ETA: 0s - loss: 0.0789 - acc: 0.979 - ETA: 0s - loss: 0.0748 - acc: 0.980 - ETA: 0s - loss: 0.0717 - acc: 0.982 - 1s 2ms/step - loss: 0.0721 - acc: 0.9812 - val_loss: 0.5940 - val_acc: 0.8917\n",
      "\n",
      "Epoch 00131: val_loss did not improve from 0.45011\n",
      "Epoch 132/300\n",
      "480/480 [==============================] - ETA: 1s - loss: 0.0578 - acc: 0.968 - ETA: 0s - loss: 0.0608 - acc: 0.968 - ETA: 0s - loss: 0.0859 - acc: 0.958 - ETA: 0s - loss: 0.0912 - acc: 0.953 - ETA: 0s - loss: 0.0997 - acc: 0.962 - ETA: 0s - loss: 0.1038 - acc: 0.963 - ETA: 0s - loss: 0.1166 - acc: 0.955 - ETA: 0s - loss: 0.1193 - acc: 0.953 - ETA: 0s - loss: 0.1133 - acc: 0.954 - ETA: 0s - loss: 0.1114 - acc: 0.959 - ETA: 0s - loss: 0.1140 - acc: 0.960 - ETA: 0s - loss: 0.1094 - acc: 0.963 - ETA: 0s - loss: 0.1052 - acc: 0.966 - ETA: 0s - loss: 0.1033 - acc: 0.966 - 1s 2ms/step - loss: 0.1088 - acc: 0.9646 - val_loss: 0.5923 - val_acc: 0.8917\n",
      "\n",
      "Epoch 00132: val_loss did not improve from 0.45011\n",
      "Epoch 133/300\n"
     ]
    },
    {
     "name": "stdout",
     "output_type": "stream",
     "text": [
      "480/480 [==============================] - ETA: 1s - loss: 0.1227 - acc: 0.968 - ETA: 0s - loss: 0.1795 - acc: 0.937 - ETA: 0s - loss: 0.1552 - acc: 0.947 - ETA: 0s - loss: 0.1256 - acc: 0.960 - ETA: 0s - loss: 0.1402 - acc: 0.950 - ETA: 0s - loss: 0.1300 - acc: 0.947 - ETA: 0s - loss: 0.1169 - acc: 0.950 - ETA: 0s - loss: 0.1121 - acc: 0.957 - ETA: 0s - loss: 0.1260 - acc: 0.951 - ETA: 0s - loss: 0.1199 - acc: 0.953 - ETA: 0s - loss: 0.1123 - acc: 0.957 - ETA: 0s - loss: 0.1047 - acc: 0.960 - ETA: 0s - loss: 0.1078 - acc: 0.961 - ETA: 0s - loss: 0.1084 - acc: 0.959 - 1s 2ms/step - loss: 0.1075 - acc: 0.9604 - val_loss: 0.5854 - val_acc: 0.8833\n",
      "\n",
      "Epoch 00133: val_loss did not improve from 0.45011\n",
      "Epoch 134/300\n",
      "480/480 [==============================] - ETA: 0s - loss: 0.0543 - acc: 0.968 - ETA: 0s - loss: 0.0959 - acc: 0.953 - ETA: 0s - loss: 0.0955 - acc: 0.958 - ETA: 0s - loss: 0.0751 - acc: 0.968 - ETA: 0s - loss: 0.0749 - acc: 0.968 - ETA: 0s - loss: 0.0832 - acc: 0.963 - ETA: 0s - loss: 0.0800 - acc: 0.964 - ETA: 0s - loss: 0.0714 - acc: 0.968 - ETA: 0s - loss: 0.0685 - acc: 0.972 - ETA: 0s - loss: 0.0680 - acc: 0.975 - ETA: 0s - loss: 0.0732 - acc: 0.971 - ETA: 0s - loss: 0.0781 - acc: 0.968 - ETA: 0s - loss: 0.0791 - acc: 0.968 - ETA: 0s - loss: 0.0795 - acc: 0.968 - 1s 2ms/step - loss: 0.0818 - acc: 0.9688 - val_loss: 0.5893 - val_acc: 0.8833\n",
      "\n",
      "Epoch 00134: val_loss did not improve from 0.45011\n",
      "Epoch 135/300\n",
      "480/480 [==============================] - ETA: 0s - loss: 0.0507 - acc: 0.968 - ETA: 0s - loss: 0.0906 - acc: 0.953 - ETA: 0s - loss: 0.0704 - acc: 0.968 - ETA: 0s - loss: 0.1016 - acc: 0.960 - ETA: 0s - loss: 0.1133 - acc: 0.950 - ETA: 0s - loss: 0.1077 - acc: 0.953 - ETA: 0s - loss: 0.1161 - acc: 0.946 - ETA: 0s - loss: 0.1089 - acc: 0.953 - ETA: 0s - loss: 0.1097 - acc: 0.954 - ETA: 0s - loss: 0.1114 - acc: 0.953 - ETA: 0s - loss: 0.1131 - acc: 0.951 - ETA: 0s - loss: 0.1190 - acc: 0.947 - ETA: 0s - loss: 0.1135 - acc: 0.951 - ETA: 0s - loss: 0.1118 - acc: 0.953 - 1s 2ms/step - loss: 0.1086 - acc: 0.9542 - val_loss: 0.6036 - val_acc: 0.8833\n",
      "\n",
      "Epoch 00135: val_loss did not improve from 0.45011\n",
      "Epoch 136/300\n",
      "480/480 [==============================] - ETA: 0s - loss: 0.0658 - acc: 0.968 - ETA: 0s - loss: 0.0417 - acc: 0.984 - ETA: 0s - loss: 0.0739 - acc: 0.968 - ETA: 0s - loss: 0.0970 - acc: 0.960 - ETA: 0s - loss: 0.1179 - acc: 0.950 - ETA: 0s - loss: 0.1175 - acc: 0.947 - ETA: 0s - loss: 0.1107 - acc: 0.950 - ETA: 0s - loss: 0.1081 - acc: 0.953 - ETA: 0s - loss: 0.1065 - acc: 0.954 - ETA: 0s - loss: 0.0991 - acc: 0.959 - ETA: 0s - loss: 0.0957 - acc: 0.957 - ETA: 0s - loss: 0.0952 - acc: 0.958 - ETA: 0s - loss: 0.0952 - acc: 0.959 - ETA: 0s - loss: 0.0947 - acc: 0.959 - 1s 2ms/step - loss: 0.0942 - acc: 0.9604 - val_loss: 0.5930 - val_acc: 0.8833\n",
      "\n",
      "Epoch 00136: val_loss did not improve from 0.45011\n",
      "Epoch 137/300\n",
      "480/480 [==============================] - ETA: 0s - loss: 0.0698 - acc: 0.968 - ETA: 0s - loss: 0.0544 - acc: 0.984 - ETA: 0s - loss: 0.0582 - acc: 0.989 - ETA: 0s - loss: 0.0682 - acc: 0.984 - ETA: 0s - loss: 0.0635 - acc: 0.987 - ETA: 0s - loss: 0.0645 - acc: 0.984 - ETA: 0s - loss: 0.0658 - acc: 0.982 - ETA: 0s - loss: 0.0637 - acc: 0.984 - ETA: 0s - loss: 0.0684 - acc: 0.982 - ETA: 0s - loss: 0.0778 - acc: 0.978 - ETA: 0s - loss: 0.0806 - acc: 0.977 - ETA: 0s - loss: 0.0755 - acc: 0.979 - ETA: 0s - loss: 0.0781 - acc: 0.976 - ETA: 0s - loss: 0.0821 - acc: 0.975 - 1s 2ms/step - loss: 0.0868 - acc: 0.9708 - val_loss: 0.5903 - val_acc: 0.8833\n",
      "\n",
      "Epoch 00137: val_loss did not improve from 0.45011\n",
      "Epoch 138/300\n",
      "480/480 [==============================] - ETA: 0s - loss: 0.1115 - acc: 0.968 - ETA: 0s - loss: 0.0934 - acc: 0.968 - ETA: 0s - loss: 0.1467 - acc: 0.937 - ETA: 0s - loss: 0.1312 - acc: 0.945 - ETA: 0s - loss: 0.1179 - acc: 0.950 - ETA: 0s - loss: 0.1202 - acc: 0.947 - ETA: 0s - loss: 0.1084 - acc: 0.955 - ETA: 0s - loss: 0.1024 - acc: 0.957 - ETA: 0s - loss: 0.1175 - acc: 0.951 - ETA: 0s - loss: 0.1131 - acc: 0.953 - ETA: 0s - loss: 0.1160 - acc: 0.948 - ETA: 0s - loss: 0.1103 - acc: 0.953 - ETA: 0s - loss: 0.1100 - acc: 0.954 - ETA: 0s - loss: 0.1078 - acc: 0.957 - 1s 2ms/step - loss: 0.1040 - acc: 0.9604 - val_loss: 0.5950 - val_acc: 0.8833\n",
      "\n",
      "Epoch 00138: val_loss did not improve from 0.45011\n",
      "Epoch 139/300\n",
      "480/480 [==============================] - ETA: 0s - loss: 0.0767 - acc: 0.968 - ETA: 0s - loss: 0.0899 - acc: 0.968 - ETA: 0s - loss: 0.0645 - acc: 0.979 - ETA: 0s - loss: 0.0588 - acc: 0.984 - ETA: 0s - loss: 0.0586 - acc: 0.987 - ETA: 0s - loss: 0.0915 - acc: 0.968 - ETA: 0s - loss: 0.0931 - acc: 0.968 - ETA: 0s - loss: 0.0890 - acc: 0.968 - ETA: 0s - loss: 0.0902 - acc: 0.965 - ETA: 0s - loss: 0.0935 - acc: 0.965 - ETA: 0s - loss: 0.0882 - acc: 0.968 - ETA: 0s - loss: 0.0907 - acc: 0.966 - ETA: 0s - loss: 0.0911 - acc: 0.968 - ETA: 0s - loss: 0.0898 - acc: 0.968 - 1s 2ms/step - loss: 0.0913 - acc: 0.9646 - val_loss: 0.6214 - val_acc: 0.8833\n",
      "\n",
      "Epoch 00139: val_loss did not improve from 0.45011\n",
      "Epoch 140/300\n",
      "480/480 [==============================] - ETA: 0s - loss: 0.1234 - acc: 0.937 - ETA: 0s - loss: 0.1275 - acc: 0.937 - ETA: 0s - loss: 0.1120 - acc: 0.947 - ETA: 0s - loss: 0.1018 - acc: 0.953 - ETA: 0s - loss: 0.1215 - acc: 0.943 - ETA: 0s - loss: 0.1107 - acc: 0.947 - ETA: 0s - loss: 0.1092 - acc: 0.946 - ETA: 0s - loss: 0.1236 - acc: 0.941 - ETA: 0s - loss: 0.1187 - acc: 0.944 - ETA: 0s - loss: 0.1107 - acc: 0.950 - ETA: 0s - loss: 0.1085 - acc: 0.951 - ETA: 0s - loss: 0.1088 - acc: 0.953 - ETA: 0s - loss: 0.1070 - acc: 0.954 - ETA: 0s - loss: 0.1038 - acc: 0.955 - 1s 2ms/step - loss: 0.1090 - acc: 0.9521 - val_loss: 0.6192 - val_acc: 0.8833\n",
      "\n",
      "Epoch 00140: val_loss did not improve from 0.45011\n",
      "Epoch 141/300\n",
      "480/480 [==============================] - ETA: 0s - loss: 0.0459 - acc: 1.000 - ETA: 0s - loss: 0.0732 - acc: 0.984 - ETA: 0s - loss: 0.0818 - acc: 0.979 - ETA: 0s - loss: 0.0906 - acc: 0.968 - ETA: 0s - loss: 0.0892 - acc: 0.975 - ETA: 0s - loss: 0.0903 - acc: 0.968 - ETA: 0s - loss: 0.1193 - acc: 0.959 - ETA: 0s - loss: 0.1145 - acc: 0.960 - ETA: 0s - loss: 0.1105 - acc: 0.961 - ETA: 0s - loss: 0.1094 - acc: 0.959 - ETA: 0s - loss: 0.1185 - acc: 0.951 - ETA: 0s - loss: 0.1108 - acc: 0.955 - ETA: 0s - loss: 0.1089 - acc: 0.956 - ETA: 0s - loss: 0.1142 - acc: 0.955 - 1s 2ms/step - loss: 0.1116 - acc: 0.9563 - val_loss: 0.6379 - val_acc: 0.8750\n",
      "\n",
      "Epoch 00141: val_loss did not improve from 0.45011\n",
      "Epoch 142/300\n",
      "480/480 [==============================] - ETA: 0s - loss: 0.0527 - acc: 0.968 - ETA: 0s - loss: 0.1045 - acc: 0.953 - ETA: 0s - loss: 0.1150 - acc: 0.947 - ETA: 0s - loss: 0.0923 - acc: 0.960 - ETA: 0s - loss: 0.1037 - acc: 0.956 - ETA: 0s - loss: 0.1179 - acc: 0.947 - ETA: 0s - loss: 0.1283 - acc: 0.946 - ETA: 0s - loss: 0.1216 - acc: 0.949 - ETA: 0s - loss: 0.1214 - acc: 0.947 - ETA: 0s - loss: 0.1154 - acc: 0.953 - ETA: 0s - loss: 0.1181 - acc: 0.951 - ETA: 0s - loss: 0.1202 - acc: 0.950 - ETA: 0s - loss: 0.1134 - acc: 0.954 - ETA: 0s - loss: 0.1079 - acc: 0.955 - 1s 2ms/step - loss: 0.1083 - acc: 0.9542 - val_loss: 0.6038 - val_acc: 0.8833\n",
      "\n",
      "Epoch 00142: val_loss did not improve from 0.45011\n",
      "Epoch 143/300\n",
      "480/480 [==============================] - ETA: 0s - loss: 0.1853 - acc: 0.937 - ETA: 0s - loss: 0.1658 - acc: 0.937 - ETA: 0s - loss: 0.1622 - acc: 0.927 - ETA: 0s - loss: 0.1558 - acc: 0.929 - ETA: 0s - loss: 0.1270 - acc: 0.943 - ETA: 0s - loss: 0.1100 - acc: 0.953 - ETA: 0s - loss: 0.1042 - acc: 0.959 - ETA: 0s - loss: 0.1008 - acc: 0.964 - ETA: 0s - loss: 0.1021 - acc: 0.965 - ETA: 0s - loss: 0.0985 - acc: 0.968 - ETA: 0s - loss: 0.0976 - acc: 0.968 - ETA: 0s - loss: 0.0944 - acc: 0.971 - ETA: 0s - loss: 0.0904 - acc: 0.973 - ETA: 0s - loss: 0.0968 - acc: 0.971 - 1s 2ms/step - loss: 0.0947 - acc: 0.9708 - val_loss: 0.5886 - val_acc: 0.8833\n",
      "\n",
      "Epoch 00143: val_loss did not improve from 0.45011\n",
      "Epoch 144/300\n"
     ]
    },
    {
     "name": "stdout",
     "output_type": "stream",
     "text": [
      "480/480 [==============================] - ETA: 0s - loss: 0.0576 - acc: 1.000 - ETA: 0s - loss: 0.1060 - acc: 0.968 - ETA: 0s - loss: 0.0784 - acc: 0.979 - ETA: 0s - loss: 0.0701 - acc: 0.984 - ETA: 0s - loss: 0.0729 - acc: 0.981 - ETA: 0s - loss: 0.0728 - acc: 0.979 - ETA: 0s - loss: 0.0804 - acc: 0.973 - ETA: 0s - loss: 0.0861 - acc: 0.968 - ETA: 0s - loss: 0.0871 - acc: 0.968 - ETA: 0s - loss: 0.0906 - acc: 0.968 - ETA: 0s - loss: 0.0974 - acc: 0.965 - ETA: 0s - loss: 0.1026 - acc: 0.963 - ETA: 0s - loss: 0.1068 - acc: 0.961 - ETA: 0s - loss: 0.1066 - acc: 0.959 - 1s 2ms/step - loss: 0.1066 - acc: 0.9604 - val_loss: 0.5895 - val_acc: 0.8833\n",
      "\n",
      "Epoch 00144: val_loss did not improve from 0.45011\n",
      "Epoch 145/300\n",
      "480/480 [==============================] - ETA: 1s - loss: 0.1211 - acc: 0.906 - ETA: 0s - loss: 0.0780 - acc: 0.953 - ETA: 0s - loss: 0.1052 - acc: 0.947 - ETA: 0s - loss: 0.1065 - acc: 0.953 - ETA: 0s - loss: 0.1261 - acc: 0.943 - ETA: 0s - loss: 0.1323 - acc: 0.937 - ETA: 0s - loss: 0.1226 - acc: 0.942 - ETA: 0s - loss: 0.1102 - acc: 0.949 - ETA: 0s - loss: 0.1049 - acc: 0.954 - ETA: 0s - loss: 0.0974 - acc: 0.959 - ETA: 0s - loss: 0.0942 - acc: 0.963 - ETA: 0s - loss: 0.0920 - acc: 0.966 - ETA: 0s - loss: 0.0916 - acc: 0.963 - ETA: 0s - loss: 0.0867 - acc: 0.966 - 1s 2ms/step - loss: 0.0917 - acc: 0.9625 - val_loss: 0.6609 - val_acc: 0.8833\n",
      "\n",
      "Epoch 00145: val_loss did not improve from 0.45011\n",
      "Epoch 146/300\n",
      "480/480 [==============================] - ETA: 0s - loss: 0.0678 - acc: 0.968 - ETA: 0s - loss: 0.0755 - acc: 0.968 - ETA: 0s - loss: 0.0721 - acc: 0.968 - ETA: 0s - loss: 0.0804 - acc: 0.960 - ETA: 0s - loss: 0.0839 - acc: 0.962 - ETA: 0s - loss: 0.0744 - acc: 0.968 - ETA: 0s - loss: 0.0754 - acc: 0.968 - ETA: 0s - loss: 0.0678 - acc: 0.972 - ETA: 0s - loss: 0.0788 - acc: 0.968 - ETA: 0s - loss: 0.0743 - acc: 0.971 - ETA: 0s - loss: 0.0767 - acc: 0.971 - ETA: 0s - loss: 0.0736 - acc: 0.974 - ETA: 0s - loss: 0.0818 - acc: 0.968 - ETA: 0s - loss: 0.0813 - acc: 0.971 - 1s 2ms/step - loss: 0.0893 - acc: 0.9646 - val_loss: 0.6110 - val_acc: 0.8750\n",
      "\n",
      "Epoch 00146: val_loss did not improve from 0.45011\n",
      "Epoch 147/300\n",
      "480/480 [==============================] - ETA: 0s - loss: 0.0142 - acc: 1.000 - ETA: 0s - loss: 0.0358 - acc: 1.000 - ETA: 0s - loss: 0.0504 - acc: 1.000 - ETA: 0s - loss: 0.0495 - acc: 1.000 - ETA: 0s - loss: 0.0607 - acc: 0.987 - ETA: 0s - loss: 0.0746 - acc: 0.979 - ETA: 0s - loss: 0.0750 - acc: 0.977 - ETA: 0s - loss: 0.0925 - acc: 0.972 - ETA: 0s - loss: 0.0893 - acc: 0.968 - ETA: 0s - loss: 0.0897 - acc: 0.968 - ETA: 0s - loss: 0.0895 - acc: 0.965 - ETA: 0s - loss: 0.0948 - acc: 0.958 - ETA: 0s - loss: 0.1043 - acc: 0.954 - ETA: 0s - loss: 0.0984 - acc: 0.957 - 1s 2ms/step - loss: 0.1002 - acc: 0.9563 - val_loss: 0.6022 - val_acc: 0.8833\n",
      "\n",
      "Epoch 00147: val_loss did not improve from 0.45011\n",
      "Epoch 148/300\n",
      "480/480 [==============================] - ETA: 0s - loss: 0.0467 - acc: 0.968 - ETA: 0s - loss: 0.0487 - acc: 0.968 - ETA: 0s - loss: 0.0565 - acc: 0.968 - ETA: 0s - loss: 0.0683 - acc: 0.968 - ETA: 0s - loss: 0.0915 - acc: 0.950 - ETA: 0s - loss: 0.1063 - acc: 0.937 - ETA: 0s - loss: 0.0957 - acc: 0.946 - ETA: 0s - loss: 0.1004 - acc: 0.949 - ETA: 0s - loss: 0.0964 - acc: 0.951 - ETA: 0s - loss: 0.1076 - acc: 0.946 - ETA: 0s - loss: 0.1019 - acc: 0.951 - ETA: 0s - loss: 0.0985 - acc: 0.950 - ETA: 0s - loss: 0.0990 - acc: 0.949 - ETA: 0s - loss: 0.0962 - acc: 0.953 - 1s 2ms/step - loss: 0.1019 - acc: 0.9521 - val_loss: 0.5940 - val_acc: 0.8917\n",
      "\n",
      "Epoch 00148: val_loss did not improve from 0.45011\n",
      "Epoch 149/300\n",
      "480/480 [==============================] - ETA: 0s - loss: 0.1785 - acc: 0.906 - ETA: 0s - loss: 0.1226 - acc: 0.937 - ETA: 0s - loss: 0.0951 - acc: 0.958 - ETA: 0s - loss: 0.0839 - acc: 0.960 - ETA: 0s - loss: 0.0930 - acc: 0.956 - ETA: 0s - loss: 0.0797 - acc: 0.963 - ETA: 0s - loss: 0.0781 - acc: 0.968 - ETA: 0s - loss: 0.0735 - acc: 0.972 - ETA: 0s - loss: 0.0712 - acc: 0.972 - ETA: 0s - loss: 0.0706 - acc: 0.971 - ETA: 0s - loss: 0.0683 - acc: 0.974 - ETA: 0s - loss: 0.0718 - acc: 0.974 - ETA: 0s - loss: 0.0775 - acc: 0.971 - ETA: 0s - loss: 0.0770 - acc: 0.971 - 1s 2ms/step - loss: 0.0777 - acc: 0.9708 - val_loss: 0.6131 - val_acc: 0.8833\n",
      "\n",
      "Epoch 00149: val_loss did not improve from 0.45011\n",
      "Epoch 150/300\n",
      "480/480 [==============================] - ETA: 0s - loss: 0.1430 - acc: 0.937 - ETA: 0s - loss: 0.1813 - acc: 0.921 - ETA: 0s - loss: 0.1287 - acc: 0.947 - ETA: 0s - loss: 0.1182 - acc: 0.945 - ETA: 0s - loss: 0.1096 - acc: 0.950 - ETA: 0s - loss: 0.1041 - acc: 0.953 - ETA: 0s - loss: 0.1104 - acc: 0.950 - ETA: 0s - loss: 0.1030 - acc: 0.953 - ETA: 0s - loss: 0.0932 - acc: 0.958 - ETA: 0s - loss: 0.0987 - acc: 0.959 - ETA: 0s - loss: 0.0999 - acc: 0.957 - ETA: 0s - loss: 0.0954 - acc: 0.960 - ETA: 0s - loss: 0.0996 - acc: 0.956 - ETA: 0s - loss: 0.0968 - acc: 0.959 - 1s 2ms/step - loss: 0.0950 - acc: 0.9604 - val_loss: 0.6549 - val_acc: 0.8833\n",
      "\n",
      "Epoch 00150: val_loss did not improve from 0.45011\n",
      "Epoch 151/300\n",
      "480/480 [==============================] - ETA: 0s - loss: 0.0182 - acc: 1.000 - ETA: 0s - loss: 0.0944 - acc: 0.968 - ETA: 0s - loss: 0.1427 - acc: 0.937 - ETA: 0s - loss: 0.1380 - acc: 0.937 - ETA: 0s - loss: 0.1159 - acc: 0.950 - ETA: 0s - loss: 0.1137 - acc: 0.953 - ETA: 0s - loss: 0.1075 - acc: 0.955 - ETA: 0s - loss: 0.1016 - acc: 0.960 - ETA: 0s - loss: 0.0966 - acc: 0.961 - ETA: 0s - loss: 0.0923 - acc: 0.962 - ETA: 0s - loss: 0.0920 - acc: 0.963 - ETA: 0s - loss: 0.0863 - acc: 0.966 - ETA: 0s - loss: 0.0899 - acc: 0.961 - ETA: 0s - loss: 0.0888 - acc: 0.962 - 1s 2ms/step - loss: 0.0856 - acc: 0.9646 - val_loss: 0.6175 - val_acc: 0.8833\n",
      "\n",
      "Epoch 00151: val_loss did not improve from 0.45011\n",
      "Epoch 152/300\n",
      "480/480 [==============================] - ETA: 0s - loss: 0.1730 - acc: 0.875 - ETA: 0s - loss: 0.1117 - acc: 0.937 - ETA: 0s - loss: 0.1011 - acc: 0.947 - ETA: 0s - loss: 0.1105 - acc: 0.945 - ETA: 0s - loss: 0.1114 - acc: 0.943 - ETA: 0s - loss: 0.1061 - acc: 0.947 - ETA: 0s - loss: 0.0950 - acc: 0.955 - ETA: 0s - loss: 0.0997 - acc: 0.957 - ETA: 0s - loss: 0.1107 - acc: 0.951 - ETA: 0s - loss: 0.1062 - acc: 0.953 - ETA: 0s - loss: 0.1047 - acc: 0.951 - ETA: 0s - loss: 0.0970 - acc: 0.955 - ETA: 0s - loss: 0.0958 - acc: 0.956 - ETA: 0s - loss: 0.1047 - acc: 0.953 - 1s 2ms/step - loss: 0.1047 - acc: 0.9500 - val_loss: 0.7217 - val_acc: 0.8500\n",
      "\n",
      "Epoch 00152: val_loss did not improve from 0.45011\n",
      "Epoch 153/300\n",
      "480/480 [==============================] - ETA: 0s - loss: 0.0399 - acc: 1.000 - ETA: 0s - loss: 0.0811 - acc: 0.984 - ETA: 0s - loss: 0.1496 - acc: 0.947 - ETA: 0s - loss: 0.1534 - acc: 0.937 - ETA: 0s - loss: 0.1324 - acc: 0.950 - ETA: 0s - loss: 0.1255 - acc: 0.947 - ETA: 0s - loss: 0.1131 - acc: 0.955 - ETA: 0s - loss: 0.1114 - acc: 0.957 - ETA: 0s - loss: 0.1053 - acc: 0.958 - ETA: 0s - loss: 0.1111 - acc: 0.959 - ETA: 0s - loss: 0.1069 - acc: 0.963 - ETA: 0s - loss: 0.1047 - acc: 0.963 - ETA: 0s - loss: 0.1115 - acc: 0.959 - ETA: 0s - loss: 0.1082 - acc: 0.959 - 1s 2ms/step - loss: 0.1104 - acc: 0.9563 - val_loss: 0.6643 - val_acc: 0.8833\n",
      "\n",
      "Epoch 00153: val_loss did not improve from 0.45011\n",
      "Epoch 154/300\n",
      "480/480 [==============================] - ETA: 0s - loss: 0.0230 - acc: 1.000 - ETA: 0s - loss: 0.0505 - acc: 0.984 - ETA: 0s - loss: 0.0965 - acc: 0.947 - ETA: 0s - loss: 0.0931 - acc: 0.945 - ETA: 0s - loss: 0.0805 - acc: 0.956 - ETA: 0s - loss: 0.0704 - acc: 0.963 - ETA: 0s - loss: 0.0685 - acc: 0.964 - ETA: 0s - loss: 0.0792 - acc: 0.960 - ETA: 0s - loss: 0.0768 - acc: 0.961 - ETA: 0s - loss: 0.0801 - acc: 0.959 - ETA: 0s - loss: 0.0799 - acc: 0.960 - ETA: 0s - loss: 0.0883 - acc: 0.955 - ETA: 0s - loss: 0.0857 - acc: 0.956 - ETA: 0s - loss: 0.0831 - acc: 0.959 - 1s 2ms/step - loss: 0.0901 - acc: 0.9563 - val_loss: 0.6438 - val_acc: 0.8833\n",
      "\n",
      "Epoch 00154: val_loss did not improve from 0.45011\n",
      "Epoch 155/300\n"
     ]
    },
    {
     "name": "stdout",
     "output_type": "stream",
     "text": [
      "480/480 [==============================] - ETA: 0s - loss: 0.0249 - acc: 1.000 - ETA: 0s - loss: 0.0604 - acc: 0.984 - ETA: 0s - loss: 0.0776 - acc: 0.979 - ETA: 0s - loss: 0.0676 - acc: 0.984 - ETA: 0s - loss: 0.0724 - acc: 0.975 - ETA: 0s - loss: 0.0755 - acc: 0.974 - ETA: 0s - loss: 0.0691 - acc: 0.977 - ETA: 0s - loss: 0.0780 - acc: 0.976 - ETA: 0s - loss: 0.0746 - acc: 0.975 - ETA: 0s - loss: 0.0722 - acc: 0.975 - ETA: 0s - loss: 0.0758 - acc: 0.974 - ETA: 0s - loss: 0.0800 - acc: 0.971 - ETA: 0s - loss: 0.0803 - acc: 0.968 - ETA: 0s - loss: 0.0825 - acc: 0.968 - 1s 2ms/step - loss: 0.0795 - acc: 0.9708 - val_loss: 0.6121 - val_acc: 0.8833\n",
      "\n",
      "Epoch 00155: val_loss did not improve from 0.45011\n",
      "Epoch 156/300\n",
      "480/480 [==============================] - ETA: 0s - loss: 0.1331 - acc: 0.937 - ETA: 0s - loss: 0.1388 - acc: 0.937 - ETA: 0s - loss: 0.1229 - acc: 0.947 - ETA: 0s - loss: 0.1040 - acc: 0.953 - ETA: 0s - loss: 0.0926 - acc: 0.956 - ETA: 0s - loss: 0.0911 - acc: 0.958 - ETA: 0s - loss: 0.0986 - acc: 0.955 - ETA: 0s - loss: 0.1015 - acc: 0.953 - ETA: 0s - loss: 0.1022 - acc: 0.951 - ETA: 0s - loss: 0.0939 - acc: 0.956 - ETA: 0s - loss: 0.0924 - acc: 0.954 - ETA: 0s - loss: 0.0915 - acc: 0.953 - ETA: 0s - loss: 0.0896 - acc: 0.954 - ETA: 0s - loss: 0.0861 - acc: 0.955 - 1s 2ms/step - loss: 0.0819 - acc: 0.9583 - val_loss: 0.6500 - val_acc: 0.8833\n",
      "\n",
      "Epoch 00156: val_loss did not improve from 0.45011\n",
      "Epoch 157/300\n",
      "480/480 [==============================] - ETA: 0s - loss: 0.0603 - acc: 0.968 - ETA: 0s - loss: 0.0749 - acc: 0.968 - ETA: 0s - loss: 0.0602 - acc: 0.979 - ETA: 0s - loss: 0.0860 - acc: 0.960 - ETA: 0s - loss: 0.0716 - acc: 0.968 - ETA: 0s - loss: 0.0652 - acc: 0.974 - ETA: 0s - loss: 0.0634 - acc: 0.977 - ETA: 0s - loss: 0.0841 - acc: 0.964 - ETA: 0s - loss: 0.0840 - acc: 0.965 - ETA: 0s - loss: 0.0766 - acc: 0.968 - ETA: 0s - loss: 0.0742 - acc: 0.971 - ETA: 0s - loss: 0.0787 - acc: 0.971 - ETA: 0s - loss: 0.0817 - acc: 0.971 - ETA: 0s - loss: 0.0796 - acc: 0.973 - 1s 2ms/step - loss: 0.0774 - acc: 0.9750 - val_loss: 0.6263 - val_acc: 0.8833\n",
      "\n",
      "Epoch 00157: val_loss did not improve from 0.45011\n",
      "Epoch 158/300\n",
      "480/480 [==============================] - ETA: 0s - loss: 0.0714 - acc: 0.968 - ETA: 0s - loss: 0.0799 - acc: 0.968 - ETA: 0s - loss: 0.0920 - acc: 0.968 - ETA: 0s - loss: 0.0884 - acc: 0.968 - ETA: 0s - loss: 0.0787 - acc: 0.975 - ETA: 0s - loss: 0.0662 - acc: 0.979 - ETA: 0s - loss: 0.0651 - acc: 0.977 - ETA: 0s - loss: 0.0644 - acc: 0.980 - ETA: 0s - loss: 0.0720 - acc: 0.975 - ETA: 0s - loss: 0.0767 - acc: 0.971 - ETA: 0s - loss: 0.0727 - acc: 0.974 - ETA: 0s - loss: 0.0862 - acc: 0.968 - ETA: 0s - loss: 0.0880 - acc: 0.966 - ETA: 0s - loss: 0.0851 - acc: 0.968 - 1s 2ms/step - loss: 0.0821 - acc: 0.9708 - val_loss: 0.6260 - val_acc: 0.8833\n",
      "\n",
      "Epoch 00158: val_loss did not improve from 0.45011\n",
      "Epoch 159/300\n",
      "480/480 [==============================] - ETA: 0s - loss: 0.0120 - acc: 1.000 - ETA: 0s - loss: 0.0177 - acc: 1.000 - ETA: 0s - loss: 0.0794 - acc: 0.968 - ETA: 0s - loss: 0.0855 - acc: 0.968 - ETA: 0s - loss: 0.0921 - acc: 0.968 - ETA: 0s - loss: 0.0890 - acc: 0.968 - ETA: 0s - loss: 0.0952 - acc: 0.964 - ETA: 0s - loss: 0.0987 - acc: 0.964 - ETA: 0s - loss: 0.0919 - acc: 0.968 - ETA: 0s - loss: 0.0874 - acc: 0.968 - ETA: 0s - loss: 0.0872 - acc: 0.965 - ETA: 0s - loss: 0.0889 - acc: 0.966 - ETA: 0s - loss: 0.0891 - acc: 0.966 - ETA: 0s - loss: 0.0857 - acc: 0.966 - 1s 2ms/step - loss: 0.0904 - acc: 0.9625 - val_loss: 0.6477 - val_acc: 0.8833\n",
      "\n",
      "Epoch 00159: val_loss did not improve from 0.45011\n",
      "Epoch 160/300\n",
      "480/480 [==============================] - ETA: 0s - loss: 0.0446 - acc: 1.000 - ETA: 0s - loss: 0.0591 - acc: 0.968 - ETA: 0s - loss: 0.0695 - acc: 0.968 - ETA: 0s - loss: 0.0634 - acc: 0.976 - ETA: 0s - loss: 0.0761 - acc: 0.975 - ETA: 0s - loss: 0.0665 - acc: 0.979 - ETA: 0s - loss: 0.0629 - acc: 0.982 - ETA: 0s - loss: 0.0702 - acc: 0.976 - ETA: 0s - loss: 0.0685 - acc: 0.979 - ETA: 0s - loss: 0.0731 - acc: 0.978 - ETA: 0s - loss: 0.0690 - acc: 0.980 - ETA: 0s - loss: 0.0699 - acc: 0.979 - ETA: 0s - loss: 0.0723 - acc: 0.976 - ETA: 0s - loss: 0.0719 - acc: 0.975 - 1s 2ms/step - loss: 0.0679 - acc: 0.9771 - val_loss: 0.6586 - val_acc: 0.8833\n",
      "\n",
      "Epoch 00160: val_loss did not improve from 0.45011\n",
      "Epoch 161/300\n",
      "480/480 [==============================] - ETA: 0s - loss: 0.1115 - acc: 0.937 - ETA: 0s - loss: 0.0708 - acc: 0.968 - ETA: 0s - loss: 0.0698 - acc: 0.968 - ETA: 0s - loss: 0.0651 - acc: 0.976 - ETA: 0s - loss: 0.0596 - acc: 0.981 - ETA: 0s - loss: 0.0698 - acc: 0.968 - ETA: 0s - loss: 0.0658 - acc: 0.973 - ETA: 0s - loss: 0.0655 - acc: 0.972 - ETA: 0s - loss: 0.0656 - acc: 0.972 - ETA: 0s - loss: 0.0660 - acc: 0.971 - ETA: 0s - loss: 0.0809 - acc: 0.963 - ETA: 0s - loss: 0.0752 - acc: 0.966 - ETA: 0s - loss: 0.0714 - acc: 0.968 - ETA: 0s - loss: 0.0700 - acc: 0.968 - 1s 2ms/step - loss: 0.0737 - acc: 0.9646 - val_loss: 0.6793 - val_acc: 0.8833\n",
      "\n",
      "Epoch 00161: val_loss did not improve from 0.45011\n",
      "Epoch 162/300\n",
      "480/480 [==============================] - ETA: 0s - loss: 0.0835 - acc: 0.968 - ETA: 0s - loss: 0.0968 - acc: 0.937 - ETA: 0s - loss: 0.1395 - acc: 0.916 - ETA: 0s - loss: 0.1327 - acc: 0.914 - ETA: 0s - loss: 0.1090 - acc: 0.931 - ETA: 0s - loss: 0.1102 - acc: 0.932 - ETA: 0s - loss: 0.1042 - acc: 0.937 - ETA: 0s - loss: 0.0928 - acc: 0.945 - ETA: 0s - loss: 0.1040 - acc: 0.944 - ETA: 0s - loss: 0.1105 - acc: 0.940 - ETA: 0s - loss: 0.1095 - acc: 0.943 - ETA: 0s - loss: 0.1045 - acc: 0.945 - ETA: 0s - loss: 0.1033 - acc: 0.947 - ETA: 0s - loss: 0.1055 - acc: 0.948 - 1s 2ms/step - loss: 0.1003 - acc: 0.9521 - val_loss: 0.7396 - val_acc: 0.8750\n",
      "\n",
      "Epoch 00162: val_loss did not improve from 0.45011\n",
      "Epoch 163/300\n",
      "480/480 [==============================] - ETA: 0s - loss: 0.1379 - acc: 0.968 - ETA: 0s - loss: 0.1292 - acc: 0.968 - ETA: 0s - loss: 0.1158 - acc: 0.968 - ETA: 0s - loss: 0.0994 - acc: 0.968 - ETA: 0s - loss: 0.1159 - acc: 0.956 - ETA: 0s - loss: 0.1242 - acc: 0.958 - ETA: 0s - loss: 0.1205 - acc: 0.955 - ETA: 0s - loss: 0.1085 - acc: 0.960 - ETA: 0s - loss: 0.1093 - acc: 0.958 - ETA: 0s - loss: 0.1017 - acc: 0.962 - ETA: 0s - loss: 0.0985 - acc: 0.963 - ETA: 0s - loss: 0.0982 - acc: 0.960 - ETA: 0s - loss: 0.0926 - acc: 0.963 - ETA: 0s - loss: 0.0992 - acc: 0.962 - 1s 2ms/step - loss: 0.0984 - acc: 0.9604 - val_loss: 0.7745 - val_acc: 0.8750\n",
      "\n",
      "Epoch 00163: val_loss did not improve from 0.45011\n",
      "Epoch 164/300\n",
      "480/480 [==============================] - ETA: 0s - loss: 0.0992 - acc: 0.968 - ETA: 0s - loss: 0.0833 - acc: 0.984 - ETA: 0s - loss: 0.0708 - acc: 0.979 - ETA: 0s - loss: 0.0914 - acc: 0.960 - ETA: 0s - loss: 0.0770 - acc: 0.968 - ETA: 0s - loss: 0.0855 - acc: 0.963 - ETA: 0s - loss: 0.1036 - acc: 0.959 - ETA: 0s - loss: 0.1094 - acc: 0.953 - ETA: 0s - loss: 0.1040 - acc: 0.958 - ETA: 0s - loss: 0.0965 - acc: 0.962 - ETA: 0s - loss: 0.0970 - acc: 0.963 - ETA: 0s - loss: 0.0973 - acc: 0.960 - ETA: 0s - loss: 0.1049 - acc: 0.956 - ETA: 0s - loss: 0.1068 - acc: 0.957 - 1s 2ms/step - loss: 0.1048 - acc: 0.9583 - val_loss: 0.7392 - val_acc: 0.8833\n",
      "\n",
      "Epoch 00164: val_loss did not improve from 0.45011\n",
      "Epoch 165/300\n",
      "480/480 [==============================] - ETA: 0s - loss: 0.1078 - acc: 0.968 - ETA: 0s - loss: 0.0620 - acc: 0.984 - ETA: 0s - loss: 0.0677 - acc: 0.989 - ETA: 0s - loss: 0.0820 - acc: 0.984 - ETA: 0s - loss: 0.0691 - acc: 0.987 - ETA: 0s - loss: 0.0713 - acc: 0.979 - ETA: 0s - loss: 0.0696 - acc: 0.977 - ETA: 0s - loss: 0.0625 - acc: 0.980 - ETA: 0s - loss: 0.0688 - acc: 0.975 - ETA: 0s - loss: 0.0676 - acc: 0.975 - ETA: 0s - loss: 0.0757 - acc: 0.971 - ETA: 0s - loss: 0.0733 - acc: 0.971 - ETA: 0s - loss: 0.0709 - acc: 0.973 - ETA: 0s - loss: 0.0686 - acc: 0.975 - 1s 2ms/step - loss: 0.0654 - acc: 0.9771 - val_loss: 0.7246 - val_acc: 0.8833\n",
      "\n",
      "Epoch 00165: val_loss did not improve from 0.45011\n",
      "Epoch 166/300\n"
     ]
    },
    {
     "name": "stdout",
     "output_type": "stream",
     "text": [
      "480/480 [==============================] - ETA: 0s - loss: 0.0269 - acc: 1.000 - ETA: 0s - loss: 0.0407 - acc: 1.000 - ETA: 0s - loss: 0.0823 - acc: 0.968 - ETA: 0s - loss: 0.0725 - acc: 0.976 - ETA: 0s - loss: 0.1038 - acc: 0.962 - ETA: 0s - loss: 0.1093 - acc: 0.958 - ETA: 0s - loss: 0.1207 - acc: 0.950 - ETA: 0s - loss: 0.1120 - acc: 0.957 - ETA: 0s - loss: 0.1024 - acc: 0.961 - ETA: 0s - loss: 0.0959 - acc: 0.965 - ETA: 0s - loss: 0.1018 - acc: 0.963 - ETA: 0s - loss: 0.1000 - acc: 0.960 - ETA: 0s - loss: 0.0967 - acc: 0.961 - ETA: 0s - loss: 0.0931 - acc: 0.964 - 1s 2ms/step - loss: 0.0895 - acc: 0.9646 - val_loss: 0.7086 - val_acc: 0.9000\n",
      "\n",
      "Epoch 00166: val_loss did not improve from 0.45011\n",
      "Epoch 167/300\n",
      "480/480 [==============================] - ETA: 0s - loss: 0.0338 - acc: 1.000 - ETA: 0s - loss: 0.0288 - acc: 1.000 - ETA: 0s - loss: 0.0344 - acc: 0.989 - ETA: 0s - loss: 0.0371 - acc: 0.992 - ETA: 0s - loss: 0.0530 - acc: 0.981 - ETA: 0s - loss: 0.0595 - acc: 0.979 - ETA: 0s - loss: 0.0571 - acc: 0.982 - ETA: 0s - loss: 0.0552 - acc: 0.984 - ETA: 0s - loss: 0.0554 - acc: 0.986 - ETA: 0s - loss: 0.0657 - acc: 0.981 - ETA: 0s - loss: 0.0669 - acc: 0.983 - ETA: 0s - loss: 0.0691 - acc: 0.981 - ETA: 0s - loss: 0.0762 - acc: 0.978 - ETA: 0s - loss: 0.0723 - acc: 0.979 - 1s 2ms/step - loss: 0.0715 - acc: 0.9792 - val_loss: 0.6794 - val_acc: 0.9083\n",
      "\n",
      "Epoch 00167: val_loss did not improve from 0.45011\n",
      "Epoch 168/300\n",
      "480/480 [==============================] - ETA: 0s - loss: 0.0655 - acc: 0.968 - ETA: 0s - loss: 0.0906 - acc: 0.953 - ETA: 0s - loss: 0.0743 - acc: 0.968 - ETA: 0s - loss: 0.0664 - acc: 0.976 - ETA: 0s - loss: 0.0672 - acc: 0.981 - ETA: 0s - loss: 0.0823 - acc: 0.979 - ETA: 0s - loss: 0.0904 - acc: 0.973 - ETA: 0s - loss: 0.0892 - acc: 0.972 - ETA: 0s - loss: 0.0913 - acc: 0.972 - ETA: 0s - loss: 0.0832 - acc: 0.975 - ETA: 0s - loss: 0.0917 - acc: 0.968 - ETA: 0s - loss: 0.0904 - acc: 0.968 - ETA: 0s - loss: 0.0927 - acc: 0.968 - ETA: 0s - loss: 0.0944 - acc: 0.968 - 1s 2ms/step - loss: 0.0959 - acc: 0.9667 - val_loss: 0.8348 - val_acc: 0.9083\n",
      "\n",
      "Epoch 00168: val_loss did not improve from 0.45011\n",
      "Epoch 169/300\n",
      "480/480 [==============================] - ETA: 0s - loss: 0.1103 - acc: 0.968 - ETA: 0s - loss: 0.0764 - acc: 0.968 - ETA: 0s - loss: 0.0661 - acc: 0.979 - ETA: 0s - loss: 0.0807 - acc: 0.976 - ETA: 0s - loss: 0.0816 - acc: 0.975 - ETA: 0s - loss: 0.0792 - acc: 0.974 - ETA: 0s - loss: 0.0816 - acc: 0.968 - ETA: 0s - loss: 0.0775 - acc: 0.972 - ETA: 0s - loss: 0.0735 - acc: 0.975 - ETA: 0s - loss: 0.0716 - acc: 0.978 - ETA: 0s - loss: 0.0724 - acc: 0.977 - ETA: 0s - loss: 0.0781 - acc: 0.976 - ETA: 0s - loss: 0.0833 - acc: 0.973 - ETA: 0s - loss: 0.0818 - acc: 0.973 - 1s 2ms/step - loss: 0.0789 - acc: 0.9750 - val_loss: 0.7057 - val_acc: 0.8750\n",
      "\n",
      "Epoch 00169: val_loss did not improve from 0.45011\n",
      "Epoch 170/300\n",
      "480/480 [==============================] - ETA: 0s - loss: 0.0947 - acc: 0.937 - ETA: 0s - loss: 0.0955 - acc: 0.937 - ETA: 0s - loss: 0.0818 - acc: 0.947 - ETA: 0s - loss: 0.1299 - acc: 0.937 - ETA: 0s - loss: 0.1111 - acc: 0.943 - ETA: 0s - loss: 0.0983 - acc: 0.953 - ETA: 0s - loss: 0.0934 - acc: 0.955 - ETA: 0s - loss: 0.0898 - acc: 0.957 - ETA: 0s - loss: 0.1100 - acc: 0.951 - ETA: 0s - loss: 0.1026 - acc: 0.956 - ETA: 0s - loss: 0.1021 - acc: 0.957 - ETA: 0s - loss: 0.0991 - acc: 0.958 - ETA: 0s - loss: 0.0927 - acc: 0.961 - ETA: 0s - loss: 0.0901 - acc: 0.962 - 1s 2ms/step - loss: 0.0899 - acc: 0.9625 - val_loss: 0.7104 - val_acc: 0.8667\n",
      "\n",
      "Epoch 00170: val_loss did not improve from 0.45011\n",
      "Epoch 171/300\n",
      "480/480 [==============================] - ETA: 0s - loss: 0.0186 - acc: 1.000 - ETA: 0s - loss: 0.1185 - acc: 0.968 - ETA: 0s - loss: 0.1345 - acc: 0.958 - ETA: 0s - loss: 0.1277 - acc: 0.953 - ETA: 0s - loss: 0.1551 - acc: 0.950 - ETA: 0s - loss: 0.1460 - acc: 0.953 - ETA: 0s - loss: 0.1378 - acc: 0.955 - ETA: 0s - loss: 0.1314 - acc: 0.957 - ETA: 0s - loss: 0.1254 - acc: 0.958 - ETA: 0s - loss: 0.1190 - acc: 0.959 - ETA: 0s - loss: 0.1219 - acc: 0.957 - ETA: 0s - loss: 0.1440 - acc: 0.945 - ETA: 0s - loss: 0.1564 - acc: 0.935 - ETA: 0s - loss: 0.1523 - acc: 0.935 - 1s 2ms/step - loss: 0.1517 - acc: 0.9333 - val_loss: 0.6715 - val_acc: 0.8833\n",
      "\n",
      "Epoch 00171: val_loss did not improve from 0.45011\n",
      "Epoch 172/300\n",
      "480/480 [==============================] - ETA: 0s - loss: 0.0564 - acc: 1.000 - ETA: 0s - loss: 0.0511 - acc: 0.984 - ETA: 0s - loss: 0.0509 - acc: 0.989 - ETA: 0s - loss: 0.0720 - acc: 0.984 - ETA: 0s - loss: 0.1412 - acc: 0.975 - ETA: 0s - loss: 0.1233 - acc: 0.974 - ETA: 0s - loss: 0.1629 - acc: 0.955 - ETA: 0s - loss: 0.2223 - acc: 0.949 - ETA: 0s - loss: 0.2759 - acc: 0.941 - ETA: 0s - loss: 0.3837 - acc: 0.928 - ETA: 0s - loss: 0.3648 - acc: 0.926 - ETA: 0s - loss: 0.3885 - acc: 0.924 - ETA: 0s - loss: 0.3817 - acc: 0.925 - ETA: 0s - loss: 0.3746 - acc: 0.917 - 1s 2ms/step - loss: 0.3649 - acc: 0.9167 - val_loss: 1.2788 - val_acc: 0.7833\n",
      "\n",
      "Epoch 00172: val_loss did not improve from 0.45011\n",
      "Epoch 173/300\n",
      "480/480 [==============================] - ETA: 0s - loss: 1.5073 - acc: 0.750 - ETA: 0s - loss: 1.5089 - acc: 0.750 - ETA: 0s - loss: 1.1616 - acc: 0.812 - ETA: 0s - loss: 1.1102 - acc: 0.812 - ETA: 0s - loss: 0.9589 - acc: 0.818 - ETA: 0s - loss: 0.8634 - acc: 0.828 - ETA: 0s - loss: 0.8112 - acc: 0.839 - ETA: 0s - loss: 0.8937 - acc: 0.820 - ETA: 0s - loss: 0.8422 - acc: 0.826 - ETA: 0s - loss: 0.8037 - acc: 0.828 - ETA: 0s - loss: 0.8049 - acc: 0.821 - ETA: 0s - loss: 0.7799 - acc: 0.822 - ETA: 0s - loss: 0.7495 - acc: 0.824 - ETA: 0s - loss: 0.7310 - acc: 0.825 - 1s 2ms/step - loss: 0.7777 - acc: 0.8187 - val_loss: 0.8059 - val_acc: 0.8083\n",
      "\n",
      "Epoch 00173: val_loss did not improve from 0.45011\n",
      "Epoch 174/300\n",
      "480/480 [==============================] - ETA: 0s - loss: 0.3225 - acc: 0.843 - ETA: 0s - loss: 0.2380 - acc: 0.875 - ETA: 0s - loss: 0.2491 - acc: 0.885 - ETA: 0s - loss: 0.4664 - acc: 0.835 - ETA: 0s - loss: 0.4772 - acc: 0.831 - ETA: 0s - loss: 0.4834 - acc: 0.817 - ETA: 0s - loss: 0.5811 - acc: 0.799 - ETA: 0s - loss: 0.6084 - acc: 0.785 - ETA: 0s - loss: 0.6039 - acc: 0.788 - ETA: 0s - loss: 0.5603 - acc: 0.800 - ETA: 0s - loss: 0.5321 - acc: 0.809 - ETA: 0s - loss: 0.5419 - acc: 0.809 - ETA: 0s - loss: 0.5252 - acc: 0.817 - ETA: 0s - loss: 0.5236 - acc: 0.814 - 1s 2ms/step - loss: 0.5368 - acc: 0.8104 - val_loss: 0.7461 - val_acc: 0.7917\n",
      "\n",
      "Epoch 00174: val_loss did not improve from 0.45011\n",
      "Epoch 175/300\n",
      "480/480 [==============================] - ETA: 0s - loss: 0.5143 - acc: 0.781 - ETA: 0s - loss: 0.4603 - acc: 0.796 - ETA: 0s - loss: 0.4087 - acc: 0.833 - ETA: 0s - loss: 0.3616 - acc: 0.867 - ETA: 0s - loss: 0.3859 - acc: 0.868 - ETA: 0s - loss: 0.3601 - acc: 0.875 - ETA: 0s - loss: 0.3548 - acc: 0.875 - ETA: 0s - loss: 0.3712 - acc: 0.878 - ETA: 0s - loss: 0.3539 - acc: 0.881 - ETA: 0s - loss: 0.3490 - acc: 0.881 - ETA: 0s - loss: 0.3406 - acc: 0.886 - ETA: 0s - loss: 0.3301 - acc: 0.893 - ETA: 0s - loss: 0.3327 - acc: 0.884 - ETA: 0s - loss: 0.3320 - acc: 0.888 - 1s 2ms/step - loss: 0.3514 - acc: 0.8833 - val_loss: 0.4884 - val_acc: 0.8250\n",
      "\n",
      "Epoch 00175: val_loss did not improve from 0.45011\n",
      "Epoch 176/300\n",
      "480/480 [==============================] - ETA: 0s - loss: 0.1398 - acc: 0.968 - ETA: 0s - loss: 0.2136 - acc: 0.906 - ETA: 0s - loss: 0.2055 - acc: 0.906 - ETA: 0s - loss: 0.1951 - acc: 0.921 - ETA: 0s - loss: 0.1921 - acc: 0.925 - ETA: 0s - loss: 0.2248 - acc: 0.911 - ETA: 0s - loss: 0.2231 - acc: 0.910 - ETA: 0s - loss: 0.2425 - acc: 0.906 - ETA: 0s - loss: 0.2393 - acc: 0.909 - ETA: 0s - loss: 0.2421 - acc: 0.909 - ETA: 0s - loss: 0.2530 - acc: 0.906 - ETA: 0s - loss: 0.2524 - acc: 0.901 - ETA: 0s - loss: 0.2734 - acc: 0.891 - ETA: 0s - loss: 0.2698 - acc: 0.895 - 1s 2ms/step - loss: 0.2732 - acc: 0.8958 - val_loss: 0.5920 - val_acc: 0.8583\n",
      "\n",
      "Epoch 00176: val_loss did not improve from 0.45011\n",
      "Epoch 177/300\n"
     ]
    },
    {
     "name": "stdout",
     "output_type": "stream",
     "text": [
      "480/480 [==============================] - ETA: 0s - loss: 0.1318 - acc: 0.937 - ETA: 0s - loss: 0.1732 - acc: 0.906 - ETA: 0s - loss: 0.2030 - acc: 0.927 - ETA: 0s - loss: 0.2179 - acc: 0.914 - ETA: 0s - loss: 0.2285 - acc: 0.906 - ETA: 0s - loss: 0.2255 - acc: 0.901 - ETA: 0s - loss: 0.2177 - acc: 0.906 - ETA: 0s - loss: 0.2035 - acc: 0.914 - ETA: 0s - loss: 0.2061 - acc: 0.909 - ETA: 0s - loss: 0.2097 - acc: 0.906 - ETA: 0s - loss: 0.2083 - acc: 0.911 - ETA: 0s - loss: 0.2057 - acc: 0.914 - ETA: 0s - loss: 0.2040 - acc: 0.913 - ETA: 0s - loss: 0.2194 - acc: 0.906 - 1s 2ms/step - loss: 0.2406 - acc: 0.9042 - val_loss: 0.6668 - val_acc: 0.8250\n",
      "\n",
      "Epoch 00177: val_loss did not improve from 0.45011\n",
      "Epoch 178/300\n",
      "480/480 [==============================] - ETA: 0s - loss: 0.1363 - acc: 0.937 - ETA: 0s - loss: 0.1399 - acc: 0.937 - ETA: 0s - loss: 0.1329 - acc: 0.947 - ETA: 0s - loss: 0.1256 - acc: 0.960 - ETA: 0s - loss: 0.1357 - acc: 0.956 - ETA: 0s - loss: 0.1438 - acc: 0.947 - ETA: 0s - loss: 0.1493 - acc: 0.950 - ETA: 0s - loss: 0.1544 - acc: 0.953 - ETA: 0s - loss: 0.1560 - acc: 0.958 - ETA: 0s - loss: 0.1523 - acc: 0.959 - ETA: 0s - loss: 0.1667 - acc: 0.951 - ETA: 0s - loss: 0.1804 - acc: 0.947 - ETA: 0s - loss: 0.2206 - acc: 0.932 - ETA: 0s - loss: 0.2320 - acc: 0.926 - 1s 2ms/step - loss: 0.2363 - acc: 0.9271 - val_loss: 0.4925 - val_acc: 0.8667\n",
      "\n",
      "Epoch 00178: val_loss did not improve from 0.45011\n",
      "Epoch 179/300\n",
      "480/480 [==============================] - ETA: 0s - loss: 0.1918 - acc: 0.937 - ETA: 0s - loss: 0.1576 - acc: 0.953 - ETA: 0s - loss: 0.1446 - acc: 0.958 - ETA: 0s - loss: 0.1577 - acc: 0.945 - ETA: 0s - loss: 0.2015 - acc: 0.918 - ETA: 0s - loss: 0.2080 - acc: 0.916 - ETA: 0s - loss: 0.1992 - acc: 0.924 - ETA: 0s - loss: 0.1884 - acc: 0.929 - ETA: 0s - loss: 0.1783 - acc: 0.937 - ETA: 0s - loss: 0.1708 - acc: 0.940 - ETA: 0s - loss: 0.1757 - acc: 0.934 - ETA: 0s - loss: 0.1762 - acc: 0.932 - ETA: 0s - loss: 0.1760 - acc: 0.932 - ETA: 0s - loss: 0.1707 - acc: 0.933 - 1s 2ms/step - loss: 0.1690 - acc: 0.9354 - val_loss: 0.5281 - val_acc: 0.8750\n",
      "\n",
      "Epoch 00179: val_loss did not improve from 0.45011\n",
      "Epoch 180/300\n",
      "480/480 [==============================] - ETA: 0s - loss: 0.1971 - acc: 0.937 - ETA: 0s - loss: 0.1553 - acc: 0.953 - ETA: 0s - loss: 0.1518 - acc: 0.947 - ETA: 0s - loss: 0.1275 - acc: 0.960 - ETA: 0s - loss: 0.1196 - acc: 0.962 - ETA: 0s - loss: 0.1179 - acc: 0.958 - ETA: 0s - loss: 0.1189 - acc: 0.959 - ETA: 0s - loss: 0.1283 - acc: 0.957 - ETA: 0s - loss: 0.1276 - acc: 0.954 - ETA: 0s - loss: 0.1291 - acc: 0.956 - ETA: 0s - loss: 0.1283 - acc: 0.957 - ETA: 0s - loss: 0.1272 - acc: 0.960 - ETA: 0s - loss: 0.1226 - acc: 0.963 - ETA: 0s - loss: 0.1163 - acc: 0.966 - 1s 2ms/step - loss: 0.1203 - acc: 0.9646 - val_loss: 0.4394 - val_acc: 0.8917\n",
      "\n",
      "Epoch 00180: val_loss improved from 0.45011 to 0.43936, saving model to model.h5\n",
      "Epoch 181/300\n",
      "480/480 [==============================] - ETA: 0s - loss: 0.0485 - acc: 1.000 - ETA: 0s - loss: 0.1216 - acc: 0.937 - ETA: 0s - loss: 0.1163 - acc: 0.937 - ETA: 0s - loss: 0.1099 - acc: 0.945 - ETA: 0s - loss: 0.1054 - acc: 0.956 - ETA: 0s - loss: 0.0888 - acc: 0.963 - ETA: 0s - loss: 0.0961 - acc: 0.964 - ETA: 0s - loss: 0.0871 - acc: 0.968 - ETA: 0s - loss: 0.0864 - acc: 0.972 - ETA: 0s - loss: 0.0882 - acc: 0.975 - ETA: 0s - loss: 0.0959 - acc: 0.971 - ETA: 0s - loss: 0.1042 - acc: 0.968 - ETA: 0s - loss: 0.1106 - acc: 0.963 - ETA: 0s - loss: 0.1144 - acc: 0.959 - 1s 2ms/step - loss: 0.1247 - acc: 0.9563 - val_loss: 0.4641 - val_acc: 0.8917\n",
      "\n",
      "Epoch 00181: val_loss did not improve from 0.43936\n",
      "Epoch 182/300\n",
      "480/480 [==============================] - ETA: 0s - loss: 0.1145 - acc: 0.937 - ETA: 0s - loss: 0.0853 - acc: 0.968 - ETA: 0s - loss: 0.0841 - acc: 0.968 - ETA: 0s - loss: 0.0962 - acc: 0.976 - ETA: 0s - loss: 0.1013 - acc: 0.968 - ETA: 0s - loss: 0.1011 - acc: 0.968 - ETA: 0s - loss: 0.1112 - acc: 0.968 - ETA: 0s - loss: 0.1023 - acc: 0.972 - ETA: 0s - loss: 0.1226 - acc: 0.961 - ETA: 0s - loss: 0.1297 - acc: 0.956 - ETA: 0s - loss: 0.1352 - acc: 0.951 - ETA: 0s - loss: 0.1375 - acc: 0.953 - ETA: 0s - loss: 0.1343 - acc: 0.954 - ETA: 0s - loss: 0.1291 - acc: 0.955 - 1s 2ms/step - loss: 0.1392 - acc: 0.9500 - val_loss: 0.5192 - val_acc: 0.8750\n",
      "\n",
      "Epoch 00182: val_loss did not improve from 0.43936\n",
      "Epoch 183/300\n",
      "480/480 [==============================] - ETA: 0s - loss: 0.1216 - acc: 0.937 - ETA: 0s - loss: 0.1343 - acc: 0.937 - ETA: 0s - loss: 0.1172 - acc: 0.958 - ETA: 0s - loss: 0.1022 - acc: 0.968 - ETA: 0s - loss: 0.1078 - acc: 0.968 - ETA: 0s - loss: 0.1179 - acc: 0.963 - ETA: 0s - loss: 0.1082 - acc: 0.968 - ETA: 0s - loss: 0.1068 - acc: 0.968 - ETA: 0s - loss: 0.1150 - acc: 0.968 - ETA: 0s - loss: 0.1311 - acc: 0.962 - ETA: 0s - loss: 0.1308 - acc: 0.960 - ETA: 0s - loss: 0.1329 - acc: 0.955 - ETA: 0s - loss: 0.1293 - acc: 0.959 - ETA: 0s - loss: 0.1349 - acc: 0.957 - 1s 2ms/step - loss: 0.1386 - acc: 0.9563 - val_loss: 0.5029 - val_acc: 0.8750\n",
      "\n",
      "Epoch 00183: val_loss did not improve from 0.43936\n",
      "Epoch 184/300\n",
      "480/480 [==============================] - ETA: 0s - loss: 0.0780 - acc: 0.968 - ETA: 0s - loss: 0.0978 - acc: 0.968 - ETA: 0s - loss: 0.0740 - acc: 0.979 - ETA: 0s - loss: 0.0831 - acc: 0.960 - ETA: 0s - loss: 0.0798 - acc: 0.962 - ETA: 0s - loss: 0.0765 - acc: 0.968 - ETA: 0s - loss: 0.0870 - acc: 0.964 - ETA: 0s - loss: 0.0835 - acc: 0.968 - ETA: 0s - loss: 0.0849 - acc: 0.968 - ETA: 0s - loss: 0.0931 - acc: 0.962 - ETA: 0s - loss: 0.0976 - acc: 0.963 - ETA: 0s - loss: 0.0950 - acc: 0.963 - ETA: 0s - loss: 0.0983 - acc: 0.961 - ETA: 0s - loss: 0.0992 - acc: 0.962 - 1s 2ms/step - loss: 0.1039 - acc: 0.9604 - val_loss: 0.4867 - val_acc: 0.8917\n",
      "\n",
      "Epoch 00184: val_loss did not improve from 0.43936\n",
      "Epoch 185/300\n",
      "480/480 [==============================] - ETA: 0s - loss: 0.1054 - acc: 0.937 - ETA: 0s - loss: 0.0943 - acc: 0.968 - ETA: 0s - loss: 0.1125 - acc: 0.958 - ETA: 0s - loss: 0.1332 - acc: 0.953 - ETA: 0s - loss: 0.1299 - acc: 0.950 - ETA: 0s - loss: 0.1272 - acc: 0.958 - ETA: 0s - loss: 0.1287 - acc: 0.964 - ETA: 0s - loss: 0.1239 - acc: 0.964 - ETA: 0s - loss: 0.1208 - acc: 0.965 - ETA: 0s - loss: 0.1154 - acc: 0.965 - ETA: 0s - loss: 0.1140 - acc: 0.963 - ETA: 0s - loss: 0.1082 - acc: 0.963 - ETA: 0s - loss: 0.1057 - acc: 0.964 - 1s 2ms/step - loss: 0.1098 - acc: 0.9604 - val_loss: 0.5212 - val_acc: 0.8917\n",
      "\n",
      "Epoch 00185: val_loss did not improve from 0.43936\n",
      "Epoch 186/300\n",
      "480/480 [==============================] - ETA: 0s - loss: 0.0372 - acc: 1.000 - ETA: 0s - loss: 0.1208 - acc: 0.968 - ETA: 0s - loss: 0.0901 - acc: 0.979 - ETA: 0s - loss: 0.0931 - acc: 0.968 - ETA: 0s - loss: 0.1085 - acc: 0.956 - ETA: 0s - loss: 0.1015 - acc: 0.958 - ETA: 0s - loss: 0.0875 - acc: 0.964 - ETA: 0s - loss: 0.0886 - acc: 0.964 - ETA: 0s - loss: 0.0891 - acc: 0.965 - ETA: 0s - loss: 0.0913 - acc: 0.965 - ETA: 0s - loss: 0.0921 - acc: 0.968 - ETA: 0s - loss: 0.0890 - acc: 0.968 - ETA: 0s - loss: 0.0932 - acc: 0.963 - ETA: 0s - loss: 0.0935 - acc: 0.966 - 1s 2ms/step - loss: 0.0966 - acc: 0.9625 - val_loss: 0.5302 - val_acc: 0.8917\n",
      "\n",
      "Epoch 00186: val_loss did not improve from 0.43936\n",
      "Epoch 187/300\n",
      "480/480 [==============================] - ETA: 0s - loss: 0.0809 - acc: 0.968 - ETA: 0s - loss: 0.0625 - acc: 0.984 - ETA: 0s - loss: 0.0622 - acc: 0.979 - ETA: 0s - loss: 0.0659 - acc: 0.968 - ETA: 0s - loss: 0.0642 - acc: 0.975 - ETA: 0s - loss: 0.0701 - acc: 0.974 - ETA: 0s - loss: 0.0684 - acc: 0.977 - ETA: 0s - loss: 0.0739 - acc: 0.972 - ETA: 0s - loss: 0.1031 - acc: 0.961 - ETA: 0s - loss: 0.0971 - acc: 0.965 - ETA: 0s - loss: 0.0974 - acc: 0.965 - ETA: 0s - loss: 0.0940 - acc: 0.966 - ETA: 0s - loss: 0.0980 - acc: 0.963 - ETA: 0s - loss: 0.0935 - acc: 0.966 - 1s 2ms/step - loss: 0.0937 - acc: 0.9646 - val_loss: 0.5261 - val_acc: 0.8917\n",
      "\n",
      "Epoch 00187: val_loss did not improve from 0.43936\n",
      "Epoch 188/300\n"
     ]
    },
    {
     "name": "stdout",
     "output_type": "stream",
     "text": [
      "480/480 [==============================] - ETA: 0s - loss: 0.1081 - acc: 0.968 - ETA: 0s - loss: 0.0947 - acc: 0.968 - ETA: 0s - loss: 0.0821 - acc: 0.968 - ETA: 0s - loss: 0.0723 - acc: 0.976 - ETA: 0s - loss: 0.0762 - acc: 0.981 - ETA: 0s - loss: 0.0685 - acc: 0.984 - ETA: 0s - loss: 0.0704 - acc: 0.982 - ETA: 0s - loss: 0.0738 - acc: 0.980 - ETA: 0s - loss: 0.0811 - acc: 0.979 - ETA: 0s - loss: 0.0804 - acc: 0.978 - ETA: 0s - loss: 0.0797 - acc: 0.977 - ETA: 0s - loss: 0.0820 - acc: 0.976 - ETA: 0s - loss: 0.0877 - acc: 0.973 - ETA: 0s - loss: 0.0860 - acc: 0.975 - 1s 2ms/step - loss: 0.0815 - acc: 0.9771 - val_loss: 0.5326 - val_acc: 0.8833\n",
      "\n",
      "Epoch 00188: val_loss did not improve from 0.43936\n",
      "Epoch 189/300\n",
      "480/480 [==============================] - ETA: 0s - loss: 0.0257 - acc: 1.000 - ETA: 0s - loss: 0.0219 - acc: 1.000 - ETA: 0s - loss: 0.0540 - acc: 0.979 - ETA: 0s - loss: 0.0594 - acc: 0.976 - ETA: 0s - loss: 0.0777 - acc: 0.975 - ETA: 0s - loss: 0.0895 - acc: 0.968 - ETA: 0s - loss: 0.0992 - acc: 0.968 - ETA: 0s - loss: 0.0988 - acc: 0.968 - ETA: 0s - loss: 0.1023 - acc: 0.968 - ETA: 0s - loss: 0.1123 - acc: 0.959 - ETA: 0s - loss: 0.1050 - acc: 0.963 - ETA: 0s - loss: 0.1070 - acc: 0.963 - ETA: 0s - loss: 0.1057 - acc: 0.963 - ETA: 0s - loss: 0.1032 - acc: 0.966 - 1s 2ms/step - loss: 0.0986 - acc: 0.9688 - val_loss: 0.5710 - val_acc: 0.8583\n",
      "\n",
      "Epoch 00189: val_loss did not improve from 0.43936\n",
      "Epoch 190/300\n",
      "480/480 [==============================] - ETA: 0s - loss: 0.1152 - acc: 0.968 - ETA: 0s - loss: 0.0825 - acc: 0.984 - ETA: 0s - loss: 0.0769 - acc: 0.979 - ETA: 0s - loss: 0.0798 - acc: 0.976 - ETA: 0s - loss: 0.0817 - acc: 0.975 - ETA: 0s - loss: 0.0916 - acc: 0.968 - ETA: 0s - loss: 0.0879 - acc: 0.968 - ETA: 0s - loss: 0.0868 - acc: 0.972 - ETA: 0s - loss: 0.0829 - acc: 0.975 - ETA: 0s - loss: 0.0875 - acc: 0.975 - ETA: 0s - loss: 0.0905 - acc: 0.974 - ETA: 0s - loss: 0.0916 - acc: 0.974 - ETA: 0s - loss: 0.0901 - acc: 0.976 - ETA: 0s - loss: 0.0957 - acc: 0.975 - 1s 2ms/step - loss: 0.0917 - acc: 0.9771 - val_loss: 0.6123 - val_acc: 0.8583\n",
      "\n",
      "Epoch 00190: val_loss did not improve from 0.43936\n",
      "Epoch 191/300\n",
      "480/480 [==============================] - ETA: 0s - loss: 0.2004 - acc: 0.906 - ETA: 0s - loss: 0.1427 - acc: 0.937 - ETA: 0s - loss: 0.1169 - acc: 0.958 - ETA: 0s - loss: 0.1454 - acc: 0.945 - ETA: 0s - loss: 0.1426 - acc: 0.943 - ETA: 0s - loss: 0.1311 - acc: 0.947 - ETA: 0s - loss: 0.1377 - acc: 0.950 - ETA: 0s - loss: 0.1291 - acc: 0.957 - ETA: 0s - loss: 0.1252 - acc: 0.954 - ETA: 0s - loss: 0.1176 - acc: 0.956 - ETA: 0s - loss: 0.1125 - acc: 0.960 - ETA: 0s - loss: 0.1067 - acc: 0.963 - ETA: 0s - loss: 0.1054 - acc: 0.961 - ETA: 0s - loss: 0.1030 - acc: 0.962 - 1s 2ms/step - loss: 0.1019 - acc: 0.9625 - val_loss: 0.6200 - val_acc: 0.8750\n",
      "\n",
      "Epoch 00191: val_loss did not improve from 0.43936\n",
      "Epoch 192/300\n",
      "480/480 [==============================] - ETA: 0s - loss: 0.1125 - acc: 0.937 - ETA: 0s - loss: 0.1021 - acc: 0.953 - ETA: 0s - loss: 0.0888 - acc: 0.958 - ETA: 0s - loss: 0.0891 - acc: 0.960 - ETA: 0s - loss: 0.0930 - acc: 0.962 - ETA: 0s - loss: 0.0880 - acc: 0.963 - ETA: 0s - loss: 0.0855 - acc: 0.964 - ETA: 0s - loss: 0.0803 - acc: 0.968 - ETA: 0s - loss: 0.0812 - acc: 0.968 - ETA: 0s - loss: 0.0776 - acc: 0.971 - ETA: 0s - loss: 0.0788 - acc: 0.971 - ETA: 0s - loss: 0.0778 - acc: 0.974 - ETA: 0s - loss: 0.0808 - acc: 0.973 - ETA: 0s - loss: 0.0862 - acc: 0.971 - 1s 2ms/step - loss: 0.0848 - acc: 0.9729 - val_loss: 0.5989 - val_acc: 0.8833\n",
      "\n",
      "Epoch 00192: val_loss did not improve from 0.43936\n",
      "Epoch 193/300\n",
      "480/480 [==============================] - ETA: 0s - loss: 0.0443 - acc: 1.000 - ETA: 0s - loss: 0.0740 - acc: 0.968 - ETA: 0s - loss: 0.0936 - acc: 0.958 - ETA: 0s - loss: 0.1093 - acc: 0.953 - ETA: 0s - loss: 0.1120 - acc: 0.950 - ETA: 0s - loss: 0.1214 - acc: 0.942 - ETA: 0s - loss: 0.1105 - acc: 0.950 - ETA: 0s - loss: 0.1124 - acc: 0.949 - ETA: 0s - loss: 0.1086 - acc: 0.954 - ETA: 0s - loss: 0.1058 - acc: 0.953 - ETA: 0s - loss: 0.1030 - acc: 0.954 - ETA: 0s - loss: 0.1022 - acc: 0.953 - ETA: 0s - loss: 0.1011 - acc: 0.954 - ETA: 0s - loss: 0.0976 - acc: 0.957 - 1s 2ms/step - loss: 0.0982 - acc: 0.9563 - val_loss: 0.6144 - val_acc: 0.8833\n",
      "\n",
      "Epoch 00193: val_loss did not improve from 0.43936\n",
      "Epoch 194/300\n",
      "480/480 [==============================] - ETA: 0s - loss: 0.0333 - acc: 1.000 - ETA: 0s - loss: 0.0584 - acc: 0.968 - ETA: 0s - loss: 0.0580 - acc: 0.979 - ETA: 0s - loss: 0.0594 - acc: 0.976 - ETA: 0s - loss: 0.0510 - acc: 0.981 - ETA: 0s - loss: 0.0724 - acc: 0.968 - ETA: 0s - loss: 0.0661 - acc: 0.973 - ETA: 0s - loss: 0.0730 - acc: 0.968 - ETA: 0s - loss: 0.0769 - acc: 0.965 - ETA: 0s - loss: 0.0795 - acc: 0.965 - ETA: 0s - loss: 0.0815 - acc: 0.963 - ETA: 0s - loss: 0.0831 - acc: 0.960 - ETA: 0s - loss: 0.0786 - acc: 0.963 - ETA: 0s - loss: 0.0798 - acc: 0.964 - 1s 2ms/step - loss: 0.0812 - acc: 0.9646 - val_loss: 0.6136 - val_acc: 0.8917\n",
      "\n",
      "Epoch 00194: val_loss did not improve from 0.43936\n",
      "Epoch 195/300\n",
      "480/480 [==============================] - ETA: 0s - loss: 0.0583 - acc: 0.968 - ETA: 0s - loss: 0.0828 - acc: 0.968 - ETA: 0s - loss: 0.0770 - acc: 0.979 - ETA: 0s - loss: 0.0773 - acc: 0.976 - ETA: 0s - loss: 0.0829 - acc: 0.975 - ETA: 0s - loss: 0.0882 - acc: 0.968 - ETA: 0s - loss: 0.0814 - acc: 0.973 - ETA: 0s - loss: 0.0933 - acc: 0.964 - ETA: 0s - loss: 0.0871 - acc: 0.968 - ETA: 0s - loss: 0.0861 - acc: 0.968 - ETA: 0s - loss: 0.0928 - acc: 0.965 - ETA: 0s - loss: 0.1004 - acc: 0.960 - ETA: 0s - loss: 0.0969 - acc: 0.961 - ETA: 0s - loss: 0.0958 - acc: 0.962 - 1s 2ms/step - loss: 0.0933 - acc: 0.9625 - val_loss: 0.6328 - val_acc: 0.9000\n",
      "\n",
      "Epoch 00195: val_loss did not improve from 0.43936\n",
      "Epoch 196/300\n",
      "480/480 [==============================] - ETA: 0s - loss: 0.0643 - acc: 1.000 - ETA: 0s - loss: 0.0477 - acc: 1.000 - ETA: 0s - loss: 0.0590 - acc: 1.000 - ETA: 0s - loss: 0.0570 - acc: 1.000 - ETA: 0s - loss: 0.0732 - acc: 0.987 - ETA: 0s - loss: 0.0671 - acc: 0.989 - ETA: 0s - loss: 0.0707 - acc: 0.986 - ETA: 0s - loss: 0.0763 - acc: 0.984 - ETA: 0s - loss: 0.0868 - acc: 0.979 - ETA: 0s - loss: 0.0852 - acc: 0.978 - ETA: 0s - loss: 0.0789 - acc: 0.980 - ETA: 0s - loss: 0.0762 - acc: 0.981 - ETA: 0s - loss: 0.0725 - acc: 0.983 - ETA: 0s - loss: 0.0707 - acc: 0.984 - 1s 2ms/step - loss: 0.0705 - acc: 0.9833 - val_loss: 0.6397 - val_acc: 0.8917\n",
      "\n",
      "Epoch 00196: val_loss did not improve from 0.43936\n",
      "Epoch 197/300\n",
      "480/480 [==============================] - ETA: 0s - loss: 0.0952 - acc: 0.937 - ETA: 0s - loss: 0.1706 - acc: 0.937 - ETA: 0s - loss: 0.1229 - acc: 0.958 - ETA: 0s - loss: 0.1009 - acc: 0.968 - ETA: 0s - loss: 0.0902 - acc: 0.975 - ETA: 0s - loss: 0.0959 - acc: 0.974 - ETA: 0s - loss: 0.1117 - acc: 0.968 - ETA: 0s - loss: 0.1056 - acc: 0.968 - ETA: 0s - loss: 0.0950 - acc: 0.972 - ETA: 0s - loss: 0.0887 - acc: 0.975 - ETA: 0s - loss: 0.0844 - acc: 0.974 - ETA: 0s - loss: 0.0815 - acc: 0.976 - ETA: 0s - loss: 0.0825 - acc: 0.976 - ETA: 0s - loss: 0.0789 - acc: 0.977 - 1s 2ms/step - loss: 0.0787 - acc: 0.9771 - val_loss: 0.6669 - val_acc: 0.8833\n",
      "\n",
      "Epoch 00197: val_loss did not improve from 0.43936\n",
      "Epoch 198/300\n",
      "480/480 [==============================] - ETA: 0s - loss: 0.0195 - acc: 1.000 - ETA: 0s - loss: 0.1209 - acc: 0.953 - ETA: 0s - loss: 0.0904 - acc: 0.968 - ETA: 0s - loss: 0.0731 - acc: 0.976 - ETA: 0s - loss: 0.0784 - acc: 0.968 - ETA: 0s - loss: 0.0785 - acc: 0.974 - ETA: 0s - loss: 0.0753 - acc: 0.973 - ETA: 0s - loss: 0.0736 - acc: 0.972 - ETA: 0s - loss: 0.0706 - acc: 0.972 - ETA: 0s - loss: 0.0686 - acc: 0.971 - ETA: 0s - loss: 0.0754 - acc: 0.968 - ETA: 0s - loss: 0.0813 - acc: 0.963 - ETA: 0s - loss: 0.0789 - acc: 0.963 - ETA: 0s - loss: 0.0756 - acc: 0.966 - 1s 2ms/step - loss: 0.0738 - acc: 0.9688 - val_loss: 0.6076 - val_acc: 0.8750\n",
      "\n",
      "Epoch 00198: val_loss did not improve from 0.43936\n",
      "Epoch 199/300\n"
     ]
    },
    {
     "name": "stdout",
     "output_type": "stream",
     "text": [
      "480/480 [==============================] - ETA: 0s - loss: 0.0551 - acc: 0.968 - ETA: 0s - loss: 0.0560 - acc: 0.984 - ETA: 0s - loss: 0.0852 - acc: 0.968 - ETA: 0s - loss: 0.0720 - acc: 0.976 - ETA: 0s - loss: 0.0743 - acc: 0.975 - ETA: 0s - loss: 0.0690 - acc: 0.979 - ETA: 0s - loss: 0.0759 - acc: 0.977 - ETA: 0s - loss: 0.0709 - acc: 0.980 - ETA: 0s - loss: 0.0687 - acc: 0.979 - ETA: 0s - loss: 0.0647 - acc: 0.981 - ETA: 0s - loss: 0.0591 - acc: 0.983 - ETA: 0s - loss: 0.0550 - acc: 0.984 - ETA: 0s - loss: 0.0597 - acc: 0.980 - ETA: 0s - loss: 0.0588 - acc: 0.982 - 1s 2ms/step - loss: 0.0565 - acc: 0.9833 - val_loss: 0.5802 - val_acc: 0.8833\n",
      "\n",
      "Epoch 00199: val_loss did not improve from 0.43936\n",
      "Epoch 200/300\n",
      "480/480 [==============================] - ETA: 0s - loss: 0.0605 - acc: 1.000 - ETA: 0s - loss: 0.0710 - acc: 0.984 - ETA: 0s - loss: 0.0783 - acc: 0.968 - ETA: 0s - loss: 0.0754 - acc: 0.968 - ETA: 0s - loss: 0.0699 - acc: 0.975 - ETA: 0s - loss: 0.0649 - acc: 0.979 - ETA: 0s - loss: 0.0621 - acc: 0.982 - ETA: 0s - loss: 0.0561 - acc: 0.984 - ETA: 0s - loss: 0.0532 - acc: 0.986 - ETA: 0s - loss: 0.0498 - acc: 0.987 - ETA: 0s - loss: 0.0513 - acc: 0.988 - ETA: 0s - loss: 0.0529 - acc: 0.989 - ETA: 0s - loss: 0.0493 - acc: 0.990 - ETA: 0s - loss: 0.0516 - acc: 0.986 - 1s 2ms/step - loss: 0.0487 - acc: 0.9875 - val_loss: 0.6053 - val_acc: 0.9167\n",
      "\n",
      "Epoch 00200: val_loss did not improve from 0.43936\n",
      "Epoch 201/300\n",
      "480/480 [==============================] - ETA: 0s - loss: 0.0258 - acc: 1.000 - ETA: 0s - loss: 0.0480 - acc: 0.984 - ETA: 0s - loss: 0.0568 - acc: 0.979 - ETA: 0s - loss: 0.0490 - acc: 0.984 - ETA: 0s - loss: 0.0479 - acc: 0.987 - ETA: 0s - loss: 0.0608 - acc: 0.979 - ETA: 0s - loss: 0.0628 - acc: 0.977 - ETA: 0s - loss: 0.0599 - acc: 0.980 - ETA: 0s - loss: 0.0623 - acc: 0.982 - ETA: 0s - loss: 0.0602 - acc: 0.984 - ETA: 0s - loss: 0.0592 - acc: 0.983 - ETA: 0s - loss: 0.0597 - acc: 0.981 - ETA: 0s - loss: 0.0707 - acc: 0.978 - ETA: 0s - loss: 0.0709 - acc: 0.977 - 1s 2ms/step - loss: 0.0763 - acc: 0.9729 - val_loss: 0.6184 - val_acc: 0.9167\n",
      "\n",
      "Epoch 00201: val_loss did not improve from 0.43936\n",
      "Epoch 202/300\n",
      "480/480 [==============================] - ETA: 0s - loss: 0.0391 - acc: 1.000 - ETA: 0s - loss: 0.0401 - acc: 1.000 - ETA: 0s - loss: 0.0321 - acc: 1.000 - ETA: 0s - loss: 0.0439 - acc: 0.992 - ETA: 0s - loss: 0.0375 - acc: 0.993 - ETA: 0s - loss: 0.0417 - acc: 0.989 - ETA: 0s - loss: 0.0460 - acc: 0.982 - ETA: 0s - loss: 0.0583 - acc: 0.972 - ETA: 0s - loss: 0.0566 - acc: 0.975 - ETA: 0s - loss: 0.0652 - acc: 0.975 - ETA: 0s - loss: 0.0600 - acc: 0.977 - ETA: 0s - loss: 0.0596 - acc: 0.979 - ETA: 0s - loss: 0.0596 - acc: 0.976 - ETA: 0s - loss: 0.0595 - acc: 0.975 - 1s 2ms/step - loss: 0.0589 - acc: 0.9771 - val_loss: 0.5983 - val_acc: 0.9167\n",
      "\n",
      "Epoch 00202: val_loss did not improve from 0.43936\n",
      "Epoch 203/300\n",
      "480/480 [==============================] - ETA: 0s - loss: 0.0761 - acc: 0.968 - ETA: 0s - loss: 0.1248 - acc: 0.953 - ETA: 0s - loss: 0.0921 - acc: 0.968 - ETA: 0s - loss: 0.0820 - acc: 0.976 - ETA: 0s - loss: 0.0742 - acc: 0.981 - ETA: 0s - loss: 0.0695 - acc: 0.984 - ETA: 0s - loss: 0.0752 - acc: 0.977 - ETA: 0s - loss: 0.0771 - acc: 0.972 - ETA: 0s - loss: 0.0791 - acc: 0.968 - ETA: 0s - loss: 0.0753 - acc: 0.971 - ETA: 0s - loss: 0.0719 - acc: 0.971 - ETA: 0s - loss: 0.0753 - acc: 0.971 - ETA: 0s - loss: 0.0745 - acc: 0.971 - ETA: 0s - loss: 0.0793 - acc: 0.971 - 1s 2ms/step - loss: 0.0774 - acc: 0.9708 - val_loss: 0.6288 - val_acc: 0.9000\n",
      "\n",
      "Epoch 00203: val_loss did not improve from 0.43936\n",
      "Epoch 204/300\n",
      "480/480 [==============================] - ETA: 0s - loss: 0.0114 - acc: 1.000 - ETA: 0s - loss: 0.0573 - acc: 0.968 - ETA: 0s - loss: 0.0530 - acc: 0.979 - ETA: 0s - loss: 0.0691 - acc: 0.976 - ETA: 0s - loss: 0.0751 - acc: 0.975 - ETA: 0s - loss: 0.0783 - acc: 0.968 - ETA: 0s - loss: 0.0702 - acc: 0.973 - ETA: 0s - loss: 0.0629 - acc: 0.976 - ETA: 0s - loss: 0.0615 - acc: 0.975 - ETA: 0s - loss: 0.0665 - acc: 0.975 - ETA: 0s - loss: 0.0691 - acc: 0.974 - ETA: 0s - loss: 0.0655 - acc: 0.976 - ETA: 0s - loss: 0.0637 - acc: 0.978 - ETA: 0s - loss: 0.0621 - acc: 0.977 - 1s 2ms/step - loss: 0.0647 - acc: 0.9750 - val_loss: 0.7521 - val_acc: 0.8750\n",
      "\n",
      "Epoch 00204: val_loss did not improve from 0.43936\n",
      "Epoch 205/300\n",
      "480/480 [==============================] - ETA: 0s - loss: 0.0797 - acc: 0.968 - ETA: 0s - loss: 0.0467 - acc: 0.984 - ETA: 0s - loss: 0.0504 - acc: 0.979 - ETA: 0s - loss: 0.0550 - acc: 0.976 - ETA: 0s - loss: 0.0513 - acc: 0.981 - ETA: 0s - loss: 0.0541 - acc: 0.984 - ETA: 0s - loss: 0.0641 - acc: 0.982 - ETA: 0s - loss: 0.0616 - acc: 0.984 - ETA: 0s - loss: 0.0635 - acc: 0.982 - ETA: 0s - loss: 0.0595 - acc: 0.984 - ETA: 0s - loss: 0.0568 - acc: 0.985 - ETA: 0s - loss: 0.0555 - acc: 0.987 - ETA: 0s - loss: 0.0553 - acc: 0.988 - ETA: 0s - loss: 0.0563 - acc: 0.986 - 1s 2ms/step - loss: 0.0566 - acc: 0.9854 - val_loss: 0.7963 - val_acc: 0.8667\n",
      "\n",
      "Epoch 00205: val_loss did not improve from 0.43936\n",
      "Epoch 206/300\n",
      "480/480 [==============================] - ETA: 0s - loss: 0.0537 - acc: 1.000 - ETA: 0s - loss: 0.1445 - acc: 0.937 - ETA: 0s - loss: 0.1440 - acc: 0.927 - ETA: 0s - loss: 0.1184 - acc: 0.937 - ETA: 0s - loss: 0.1007 - acc: 0.943 - ETA: 0s - loss: 0.0858 - acc: 0.953 - ETA: 0s - loss: 0.0849 - acc: 0.955 - ETA: 0s - loss: 0.0836 - acc: 0.957 - ETA: 0s - loss: 0.0786 - acc: 0.961 - ETA: 0s - loss: 0.0809 - acc: 0.962 - ETA: 0s - loss: 0.0869 - acc: 0.963 - ETA: 0s - loss: 0.0934 - acc: 0.958 - ETA: 0s - loss: 0.0943 - acc: 0.959 - ETA: 0s - loss: 0.0948 - acc: 0.959 - 1s 2ms/step - loss: 0.0987 - acc: 0.9563 - val_loss: 0.7688 - val_acc: 0.9000\n",
      "\n",
      "Epoch 00206: val_loss did not improve from 0.43936\n",
      "Epoch 207/300\n",
      "480/480 [==============================] - ETA: 0s - loss: 0.0293 - acc: 1.000 - ETA: 0s - loss: 0.0180 - acc: 1.000 - ETA: 0s - loss: 0.0134 - acc: 1.000 - ETA: 0s - loss: 0.0207 - acc: 1.000 - ETA: 0s - loss: 0.0210 - acc: 1.000 - ETA: 0s - loss: 0.0373 - acc: 0.994 - ETA: 0s - loss: 0.0562 - acc: 0.986 - ETA: 0s - loss: 0.0503 - acc: 0.988 - ETA: 0s - loss: 0.0523 - acc: 0.986 - ETA: 0s - loss: 0.0599 - acc: 0.981 - ETA: 0s - loss: 0.0630 - acc: 0.977 - ETA: 0s - loss: 0.0613 - acc: 0.976 - ETA: 0s - loss: 0.0588 - acc: 0.976 - ETA: 0s - loss: 0.0663 - acc: 0.973 - 1s 2ms/step - loss: 0.0722 - acc: 0.9688 - val_loss: 0.7280 - val_acc: 0.9000\n",
      "\n",
      "Epoch 00207: val_loss did not improve from 0.43936\n",
      "Epoch 208/300\n",
      "480/480 [==============================] - ETA: 0s - loss: 0.2205 - acc: 0.906 - ETA: 0s - loss: 0.1597 - acc: 0.921 - ETA: 0s - loss: 0.1349 - acc: 0.937 - ETA: 0s - loss: 0.1074 - acc: 0.953 - ETA: 0s - loss: 0.1151 - acc: 0.950 - ETA: 0s - loss: 0.0995 - acc: 0.958 - ETA: 0s - loss: 0.1013 - acc: 0.955 - ETA: 0s - loss: 0.0969 - acc: 0.953 - ETA: 0s - loss: 0.0872 - acc: 0.958 - ETA: 0s - loss: 0.0862 - acc: 0.959 - ETA: 0s - loss: 0.0893 - acc: 0.957 - ETA: 0s - loss: 0.0943 - acc: 0.958 - ETA: 0s - loss: 0.0954 - acc: 0.959 - ETA: 0s - loss: 0.1069 - acc: 0.955 - 1s 2ms/step - loss: 0.1016 - acc: 0.9583 - val_loss: 0.7670 - val_acc: 0.8833\n",
      "\n",
      "Epoch 00208: val_loss did not improve from 0.43936\n",
      "Epoch 209/300\n",
      "480/480 [==============================] - ETA: 0s - loss: 0.1558 - acc: 0.937 - ETA: 0s - loss: 0.1170 - acc: 0.953 - ETA: 0s - loss: 0.1004 - acc: 0.958 - ETA: 0s - loss: 0.0858 - acc: 0.960 - ETA: 0s - loss: 0.1017 - acc: 0.956 - ETA: 0s - loss: 0.0984 - acc: 0.958 - ETA: 0s - loss: 0.0964 - acc: 0.959 - ETA: 0s - loss: 0.0873 - acc: 0.964 - ETA: 0s - loss: 0.0977 - acc: 0.958 - ETA: 0s - loss: 0.0942 - acc: 0.962 - ETA: 0s - loss: 0.0939 - acc: 0.963 - ETA: 0s - loss: 0.0968 - acc: 0.963 - ETA: 0s - loss: 0.0936 - acc: 0.966 - ETA: 0s - loss: 0.0897 - acc: 0.966 - 1s 2ms/step - loss: 0.0913 - acc: 0.9667 - val_loss: 0.7543 - val_acc: 0.8917\n",
      "\n",
      "Epoch 00209: val_loss did not improve from 0.43936\n",
      "Epoch 210/300\n"
     ]
    },
    {
     "name": "stdout",
     "output_type": "stream",
     "text": [
      "480/480 [==============================] - ETA: 0s - loss: 0.0975 - acc: 0.968 - ETA: 0s - loss: 0.1485 - acc: 0.937 - ETA: 0s - loss: 0.1185 - acc: 0.947 - ETA: 0s - loss: 0.1101 - acc: 0.953 - ETA: 0s - loss: 0.0989 - acc: 0.962 - ETA: 0s - loss: 0.0892 - acc: 0.968 - ETA: 0s - loss: 0.0814 - acc: 0.973 - ETA: 0s - loss: 0.0816 - acc: 0.972 - ETA: 0s - loss: 0.0848 - acc: 0.968 - ETA: 0s - loss: 0.0802 - acc: 0.968 - ETA: 0s - loss: 0.0752 - acc: 0.971 - ETA: 0s - loss: 0.0719 - acc: 0.974 - ETA: 0s - loss: 0.0688 - acc: 0.976 - ETA: 0s - loss: 0.0705 - acc: 0.975 - 1s 2ms/step - loss: 0.0706 - acc: 0.9750 - val_loss: 0.7598 - val_acc: 0.8750\n",
      "\n",
      "Epoch 00210: val_loss did not improve from 0.43936\n",
      "Epoch 211/300\n",
      "480/480 [==============================] - ETA: 0s - loss: 0.0119 - acc: 1.000 - ETA: 0s - loss: 0.0326 - acc: 0.984 - ETA: 0s - loss: 0.0410 - acc: 0.979 - ETA: 0s - loss: 0.0387 - acc: 0.976 - ETA: 0s - loss: 0.0458 - acc: 0.975 - ETA: 0s - loss: 0.0513 - acc: 0.974 - ETA: 0s - loss: 0.0540 - acc: 0.977 - ETA: 0s - loss: 0.0482 - acc: 0.980 - ETA: 0s - loss: 0.0519 - acc: 0.979 - ETA: 0s - loss: 0.0599 - acc: 0.978 - ETA: 0s - loss: 0.0670 - acc: 0.974 - ETA: 0s - loss: 0.0654 - acc: 0.976 - ETA: 0s - loss: 0.0720 - acc: 0.973 - ETA: 0s - loss: 0.0681 - acc: 0.975 - 1s 2ms/step - loss: 0.0680 - acc: 0.9750 - val_loss: 0.7386 - val_acc: 0.8833\n",
      "\n",
      "Epoch 00211: val_loss did not improve from 0.43936\n",
      "Epoch 212/300\n",
      "480/480 [==============================] - ETA: 0s - loss: 0.0177 - acc: 1.000 - ETA: 0s - loss: 0.0308 - acc: 1.000 - ETA: 0s - loss: 0.0482 - acc: 0.989 - ETA: 0s - loss: 0.0426 - acc: 0.992 - ETA: 0s - loss: 0.0386 - acc: 0.993 - ETA: 0s - loss: 0.0334 - acc: 0.994 - ETA: 0s - loss: 0.0662 - acc: 0.977 - ETA: 0s - loss: 0.0647 - acc: 0.980 - ETA: 0s - loss: 0.0638 - acc: 0.982 - ETA: 0s - loss: 0.0701 - acc: 0.978 - ETA: 0s - loss: 0.0830 - acc: 0.968 - ETA: 0s - loss: 0.0828 - acc: 0.966 - ETA: 0s - loss: 0.0786 - acc: 0.968 - ETA: 0s - loss: 0.0776 - acc: 0.968 - 1s 2ms/step - loss: 0.0735 - acc: 0.9708 - val_loss: 0.7889 - val_acc: 0.8917\n",
      "\n",
      "Epoch 00212: val_loss did not improve from 0.43936\n",
      "Epoch 213/300\n",
      "480/480 [==============================] - ETA: 0s - loss: 0.1104 - acc: 0.937 - ETA: 0s - loss: 0.0822 - acc: 0.968 - ETA: 0s - loss: 0.1345 - acc: 0.937 - ETA: 0s - loss: 0.1058 - acc: 0.953 - ETA: 0s - loss: 0.1097 - acc: 0.956 - ETA: 0s - loss: 0.1001 - acc: 0.958 - ETA: 0s - loss: 0.0946 - acc: 0.959 - ETA: 0s - loss: 0.0879 - acc: 0.964 - ETA: 0s - loss: 0.0792 - acc: 0.968 - ETA: 0s - loss: 0.0746 - acc: 0.971 - ETA: 0s - loss: 0.0735 - acc: 0.971 - ETA: 0s - loss: 0.0692 - acc: 0.974 - ETA: 0s - loss: 0.0732 - acc: 0.971 - ETA: 0s - loss: 0.0744 - acc: 0.971 - 1s 2ms/step - loss: 0.0826 - acc: 0.9708 - val_loss: 0.8206 - val_acc: 0.8667\n",
      "\n",
      "Epoch 00213: val_loss did not improve from 0.43936\n",
      "Epoch 214/300\n",
      "480/480 [==============================] - ETA: 0s - loss: 0.0050 - acc: 1.000 - ETA: 0s - loss: 0.0221 - acc: 1.000 - ETA: 0s - loss: 0.0292 - acc: 0.989 - ETA: 0s - loss: 0.0470 - acc: 0.976 - ETA: 0s - loss: 0.0528 - acc: 0.981 - ETA: 0s - loss: 0.0660 - acc: 0.974 - ETA: 0s - loss: 0.0598 - acc: 0.977 - ETA: 0s - loss: 0.0683 - acc: 0.972 - ETA: 0s - loss: 0.0689 - acc: 0.972 - ETA: 0s - loss: 0.0689 - acc: 0.975 - ETA: 0s - loss: 0.0645 - acc: 0.977 - ETA: 0s - loss: 0.0607 - acc: 0.979 - ETA: 0s - loss: 0.0587 - acc: 0.980 - ETA: 0s - loss: 0.0601 - acc: 0.979 - 1s 2ms/step - loss: 0.0596 - acc: 0.9812 - val_loss: 0.8203 - val_acc: 0.8750\n",
      "\n",
      "Epoch 00214: val_loss did not improve from 0.43936\n",
      "Epoch 215/300\n",
      "480/480 [==============================] - ETA: 0s - loss: 0.0110 - acc: 1.000 - ETA: 0s - loss: 0.0325 - acc: 0.984 - ETA: 0s - loss: 0.0586 - acc: 0.968 - ETA: 0s - loss: 0.0794 - acc: 0.960 - ETA: 0s - loss: 0.0681 - acc: 0.968 - ETA: 0s - loss: 0.0648 - acc: 0.974 - ETA: 0s - loss: 0.0596 - acc: 0.977 - ETA: 0s - loss: 0.0697 - acc: 0.972 - ETA: 0s - loss: 0.0654 - acc: 0.975 - ETA: 0s - loss: 0.0768 - acc: 0.971 - ETA: 0s - loss: 0.0743 - acc: 0.974 - ETA: 0s - loss: 0.0797 - acc: 0.971 - ETA: 0s - loss: 0.0769 - acc: 0.973 - ETA: 0s - loss: 0.0743 - acc: 0.975 - 1s 2ms/step - loss: 0.0774 - acc: 0.9750 - val_loss: 0.8123 - val_acc: 0.9000\n",
      "\n",
      "Epoch 00215: val_loss did not improve from 0.43936\n",
      "Epoch 216/300\n",
      "480/480 [==============================] - ETA: 0s - loss: 0.0603 - acc: 1.000 - ETA: 0s - loss: 0.0687 - acc: 0.984 - ETA: 0s - loss: 0.1047 - acc: 0.958 - ETA: 0s - loss: 0.0815 - acc: 0.968 - ETA: 0s - loss: 0.0757 - acc: 0.975 - ETA: 0s - loss: 0.0797 - acc: 0.974 - ETA: 0s - loss: 0.0758 - acc: 0.973 - ETA: 0s - loss: 0.0800 - acc: 0.972 - ETA: 0s - loss: 0.0771 - acc: 0.972 - ETA: 0s - loss: 0.0700 - acc: 0.975 - ETA: 0s - loss: 0.0642 - acc: 0.977 - ETA: 0s - loss: 0.0653 - acc: 0.976 - ETA: 0s - loss: 0.0615 - acc: 0.978 - ETA: 0s - loss: 0.0651 - acc: 0.975 - 1s 2ms/step - loss: 0.0639 - acc: 0.9771 - val_loss: 0.7998 - val_acc: 0.8917\n",
      "\n",
      "Epoch 00216: val_loss did not improve from 0.43936\n",
      "Epoch 217/300\n",
      "480/480 [==============================] - ETA: 0s - loss: 0.0287 - acc: 1.000 - ETA: 0s - loss: 0.0841 - acc: 0.968 - ETA: 0s - loss: 0.0576 - acc: 0.979 - ETA: 0s - loss: 0.0620 - acc: 0.976 - ETA: 0s - loss: 0.0578 - acc: 0.981 - ETA: 0s - loss: 0.0532 - acc: 0.984 - ETA: 0s - loss: 0.0514 - acc: 0.982 - ETA: 0s - loss: 0.0496 - acc: 0.984 - ETA: 0s - loss: 0.0465 - acc: 0.986 - ETA: 0s - loss: 0.0490 - acc: 0.987 - ETA: 0s - loss: 0.0520 - acc: 0.983 - ETA: 0s - loss: 0.0503 - acc: 0.984 - ETA: 0s - loss: 0.0552 - acc: 0.980 - ETA: 0s - loss: 0.0555 - acc: 0.982 - 1s 2ms/step - loss: 0.0537 - acc: 0.9833 - val_loss: 0.8285 - val_acc: 0.8917\n",
      "\n",
      "Epoch 00217: val_loss did not improve from 0.43936\n",
      "Epoch 218/300\n",
      "480/480 [==============================] - ETA: 0s - loss: 0.1151 - acc: 0.906 - ETA: 0s - loss: 0.0712 - acc: 0.953 - ETA: 0s - loss: 0.0629 - acc: 0.958 - ETA: 0s - loss: 0.0749 - acc: 0.953 - ETA: 0s - loss: 0.0765 - acc: 0.956 - ETA: 0s - loss: 0.0789 - acc: 0.958 - ETA: 0s - loss: 0.0684 - acc: 0.964 - ETA: 0s - loss: 0.0624 - acc: 0.968 - ETA: 0s - loss: 0.0574 - acc: 0.972 - ETA: 0s - loss: 0.0534 - acc: 0.975 - ETA: 0s - loss: 0.0530 - acc: 0.974 - ETA: 0s - loss: 0.0547 - acc: 0.971 - ETA: 0s - loss: 0.0507 - acc: 0.973 - ETA: 0s - loss: 0.0561 - acc: 0.968 - 1s 2ms/step - loss: 0.0568 - acc: 0.9688 - val_loss: 0.8650 - val_acc: 0.8917\n",
      "\n",
      "Epoch 00218: val_loss did not improve from 0.43936\n",
      "Epoch 219/300\n",
      "480/480 [==============================] - ETA: 0s - loss: 0.0757 - acc: 1.000 - ETA: 0s - loss: 0.0405 - acc: 1.000 - ETA: 0s - loss: 0.0509 - acc: 1.000 - ETA: 0s - loss: 0.0643 - acc: 0.984 - ETA: 0s - loss: 0.0549 - acc: 0.987 - ETA: 0s - loss: 0.0473 - acc: 0.989 - ETA: 0s - loss: 0.0508 - acc: 0.986 - ETA: 0s - loss: 0.0533 - acc: 0.984 - ETA: 0s - loss: 0.0485 - acc: 0.986 - ETA: 0s - loss: 0.0472 - acc: 0.987 - ETA: 0s - loss: 0.0450 - acc: 0.988 - ETA: 0s - loss: 0.0463 - acc: 0.989 - ETA: 0s - loss: 0.0532 - acc: 0.985 - ETA: 0s - loss: 0.0511 - acc: 0.986 - 1s 2ms/step - loss: 0.0488 - acc: 0.9875 - val_loss: 0.8523 - val_acc: 0.8833\n",
      "\n",
      "Epoch 00219: val_loss did not improve from 0.43936\n",
      "Epoch 220/300\n",
      "480/480 [==============================] - ETA: 0s - loss: 0.0660 - acc: 0.968 - ETA: 0s - loss: 0.0752 - acc: 0.968 - ETA: 0s - loss: 0.0645 - acc: 0.979 - ETA: 0s - loss: 0.0523 - acc: 0.984 - ETA: 0s - loss: 0.0561 - acc: 0.981 - ETA: 0s - loss: 0.0735 - acc: 0.968 - ETA: 0s - loss: 0.0707 - acc: 0.968 - ETA: 0s - loss: 0.0712 - acc: 0.968 - ETA: 0s - loss: 0.0720 - acc: 0.968 - ETA: 0s - loss: 0.0854 - acc: 0.962 - ETA: 0s - loss: 0.0881 - acc: 0.960 - ETA: 0s - loss: 0.0819 - acc: 0.963 - ETA: 0s - loss: 0.0805 - acc: 0.963 - ETA: 0s - loss: 0.0774 - acc: 0.964 - 1s 2ms/step - loss: 0.0776 - acc: 0.9625 - val_loss: 0.8446 - val_acc: 0.8917\n",
      "\n",
      "Epoch 00220: val_loss did not improve from 0.43936\n",
      "Epoch 221/300\n"
     ]
    },
    {
     "name": "stdout",
     "output_type": "stream",
     "text": [
      "480/480 [==============================] - ETA: 0s - loss: 0.0219 - acc: 1.000 - ETA: 0s - loss: 0.0440 - acc: 0.984 - ETA: 0s - loss: 0.0557 - acc: 0.979 - ETA: 0s - loss: 0.0485 - acc: 0.984 - ETA: 0s - loss: 0.0513 - acc: 0.987 - ETA: 0s - loss: 0.0529 - acc: 0.984 - ETA: 0s - loss: 0.0542 - acc: 0.986 - ETA: 0s - loss: 0.0586 - acc: 0.984 - ETA: 0s - loss: 0.0550 - acc: 0.986 - ETA: 0s - loss: 0.0610 - acc: 0.981 - ETA: 0s - loss: 0.0572 - acc: 0.983 - ETA: 0s - loss: 0.0570 - acc: 0.981 - ETA: 0s - loss: 0.0615 - acc: 0.978 - ETA: 0s - loss: 0.0649 - acc: 0.975 - 1s 2ms/step - loss: 0.0651 - acc: 0.9771 - val_loss: 0.8726 - val_acc: 0.8917\n",
      "\n",
      "Epoch 00221: val_loss did not improve from 0.43936\n",
      "Epoch 222/300\n",
      "480/480 [==============================] - ETA: 0s - loss: 0.0866 - acc: 0.937 - ETA: 0s - loss: 0.1076 - acc: 0.921 - ETA: 0s - loss: 0.0910 - acc: 0.937 - ETA: 0s - loss: 0.0750 - acc: 0.953 - ETA: 0s - loss: 0.0894 - acc: 0.950 - ETA: 0s - loss: 0.0821 - acc: 0.953 - ETA: 0s - loss: 0.0712 - acc: 0.959 - ETA: 0s - loss: 0.0638 - acc: 0.964 - ETA: 0s - loss: 0.0588 - acc: 0.968 - ETA: 0s - loss: 0.0534 - acc: 0.971 - ETA: 0s - loss: 0.0493 - acc: 0.974 - ETA: 0s - loss: 0.0498 - acc: 0.971 - ETA: 0s - loss: 0.0494 - acc: 0.973 - ETA: 0s - loss: 0.0496 - acc: 0.973 - 1s 2ms/step - loss: 0.0494 - acc: 0.9750 - val_loss: 0.8574 - val_acc: 0.8917\n",
      "\n",
      "Epoch 00222: val_loss did not improve from 0.43936\n",
      "Epoch 223/300\n",
      "480/480 [==============================] - ETA: 0s - loss: 0.1266 - acc: 0.906 - ETA: 0s - loss: 0.1321 - acc: 0.921 - ETA: 0s - loss: 0.1089 - acc: 0.937 - ETA: 0s - loss: 0.0934 - acc: 0.953 - ETA: 0s - loss: 0.0769 - acc: 0.962 - ETA: 0s - loss: 0.0661 - acc: 0.968 - ETA: 0s - loss: 0.0656 - acc: 0.968 - ETA: 0s - loss: 0.0732 - acc: 0.968 - ETA: 0s - loss: 0.0673 - acc: 0.972 - ETA: 0s - loss: 0.0678 - acc: 0.971 - ETA: 0s - loss: 0.0643 - acc: 0.974 - ETA: 0s - loss: 0.0636 - acc: 0.974 - ETA: 0s - loss: 0.0618 - acc: 0.973 - ETA: 0s - loss: 0.0581 - acc: 0.975 - 1s 2ms/step - loss: 0.0546 - acc: 0.9771 - val_loss: 0.8565 - val_acc: 0.8917\n",
      "\n",
      "Epoch 00223: val_loss did not improve from 0.43936\n",
      "Epoch 224/300\n",
      "480/480 [==============================] - ETA: 0s - loss: 0.0616 - acc: 0.968 - ETA: 0s - loss: 0.0702 - acc: 0.953 - ETA: 0s - loss: 0.0954 - acc: 0.947 - ETA: 0s - loss: 0.1115 - acc: 0.945 - ETA: 0s - loss: 0.0957 - acc: 0.956 - ETA: 0s - loss: 0.0825 - acc: 0.963 - ETA: 0s - loss: 0.0900 - acc: 0.964 - ETA: 0s - loss: 0.0896 - acc: 0.964 - ETA: 0s - loss: 0.0923 - acc: 0.961 - ETA: 0s - loss: 0.0880 - acc: 0.962 - ETA: 0s - loss: 0.0803 - acc: 0.965 - ETA: 0s - loss: 0.0805 - acc: 0.966 - ETA: 0s - loss: 0.0781 - acc: 0.968 - ETA: 0s - loss: 0.0745 - acc: 0.971 - 1s 2ms/step - loss: 0.0768 - acc: 0.9708 - val_loss: 0.8356 - val_acc: 0.8917\n",
      "\n",
      "Epoch 00224: val_loss did not improve from 0.43936\n",
      "Epoch 225/300\n",
      "480/480 [==============================] - ETA: 0s - loss: 0.0932 - acc: 0.968 - ETA: 0s - loss: 0.1017 - acc: 0.953 - ETA: 0s - loss: 0.0738 - acc: 0.968 - ETA: 0s - loss: 0.0806 - acc: 0.960 - ETA: 0s - loss: 0.0714 - acc: 0.962 - ETA: 0s - loss: 0.0783 - acc: 0.963 - ETA: 0s - loss: 0.0834 - acc: 0.964 - ETA: 0s - loss: 0.0817 - acc: 0.968 - ETA: 0s - loss: 0.0765 - acc: 0.972 - ETA: 0s - loss: 0.0743 - acc: 0.971 - ETA: 0s - loss: 0.0725 - acc: 0.971 - ETA: 0s - loss: 0.0673 - acc: 0.974 - ETA: 0s - loss: 0.0675 - acc: 0.973 - ETA: 0s - loss: 0.0701 - acc: 0.973 - 1s 2ms/step - loss: 0.0702 - acc: 0.9729 - val_loss: 0.8645 - val_acc: 0.8917\n",
      "\n",
      "Epoch 00225: val_loss did not improve from 0.43936\n",
      "Epoch 226/300\n",
      "480/480 [==============================] - ETA: 0s - loss: 0.0468 - acc: 0.968 - ETA: 0s - loss: 0.0298 - acc: 0.984 - ETA: 0s - loss: 0.0229 - acc: 0.989 - ETA: 0s - loss: 0.0786 - acc: 0.953 - ETA: 0s - loss: 0.0635 - acc: 0.962 - ETA: 0s - loss: 0.0644 - acc: 0.963 - ETA: 0s - loss: 0.0593 - acc: 0.968 - ETA: 0s - loss: 0.0639 - acc: 0.968 - ETA: 0s - loss: 0.0677 - acc: 0.968 - ETA: 0s - loss: 0.0678 - acc: 0.968 - ETA: 0s - loss: 0.0695 - acc: 0.968 - ETA: 0s - loss: 0.0651 - acc: 0.971 - ETA: 0s - loss: 0.0624 - acc: 0.973 - ETA: 0s - loss: 0.0582 - acc: 0.975 - 1s 2ms/step - loss: 0.0565 - acc: 0.9771 - val_loss: 0.8589 - val_acc: 0.8833\n",
      "\n",
      "Epoch 00226: val_loss did not improve from 0.43936\n",
      "Epoch 227/300\n",
      "480/480 [==============================] - ETA: 0s - loss: 0.0037 - acc: 1.000 - ETA: 0s - loss: 0.0896 - acc: 0.968 - ETA: 0s - loss: 0.0604 - acc: 0.979 - ETA: 0s - loss: 0.0610 - acc: 0.976 - ETA: 0s - loss: 0.0578 - acc: 0.975 - ETA: 0s - loss: 0.0494 - acc: 0.979 - ETA: 0s - loss: 0.0569 - acc: 0.977 - ETA: 0s - loss: 0.0627 - acc: 0.972 - ETA: 0s - loss: 0.0659 - acc: 0.968 - ETA: 0s - loss: 0.0773 - acc: 0.965 - ETA: 0s - loss: 0.0823 - acc: 0.960 - ETA: 0s - loss: 0.0863 - acc: 0.958 - ETA: 0s - loss: 0.0820 - acc: 0.959 - ETA: 0s - loss: 0.0780 - acc: 0.962 - 1s 2ms/step - loss: 0.0734 - acc: 0.9646 - val_loss: 0.8327 - val_acc: 0.8917\n",
      "\n",
      "Epoch 00227: val_loss did not improve from 0.43936\n",
      "Epoch 228/300\n",
      "480/480 [==============================] - ETA: 0s - loss: 0.0158 - acc: 1.000 - ETA: 0s - loss: 0.0196 - acc: 1.000 - ETA: 0s - loss: 0.0266 - acc: 0.989 - ETA: 0s - loss: 0.0348 - acc: 0.984 - ETA: 0s - loss: 0.0316 - acc: 0.987 - ETA: 0s - loss: 0.0417 - acc: 0.979 - ETA: 0s - loss: 0.0390 - acc: 0.982 - ETA: 0s - loss: 0.0387 - acc: 0.980 - ETA: 0s - loss: 0.0362 - acc: 0.982 - ETA: 0s - loss: 0.0456 - acc: 0.978 - ETA: 0s - loss: 0.0462 - acc: 0.977 - ETA: 0s - loss: 0.0492 - acc: 0.974 - ETA: 0s - loss: 0.0544 - acc: 0.971 - ETA: 0s - loss: 0.0588 - acc: 0.968 - 1s 2ms/step - loss: 0.0551 - acc: 0.9708 - val_loss: 0.8406 - val_acc: 0.8917\n",
      "\n",
      "Epoch 00228: val_loss did not improve from 0.43936\n",
      "Epoch 229/300\n",
      "480/480 [==============================] - ETA: 0s - loss: 0.0111 - acc: 1.000 - ETA: 0s - loss: 0.0258 - acc: 1.000 - ETA: 0s - loss: 0.0262 - acc: 1.000 - ETA: 0s - loss: 0.0475 - acc: 1.000 - ETA: 0s - loss: 0.0437 - acc: 1.000 - ETA: 0s - loss: 0.0533 - acc: 1.000 - ETA: 0s - loss: 0.0549 - acc: 1.000 - ETA: 0s - loss: 0.0518 - acc: 1.000 - ETA: 0s - loss: 0.0509 - acc: 1.000 - ETA: 0s - loss: 0.0473 - acc: 1.000 - ETA: 0s - loss: 0.0495 - acc: 0.997 - ETA: 0s - loss: 0.0535 - acc: 0.992 - ETA: 0s - loss: 0.0559 - acc: 0.990 - ETA: 0s - loss: 0.0531 - acc: 0.991 - 1s 2ms/step - loss: 0.0533 - acc: 0.9896 - val_loss: 0.8549 - val_acc: 0.8833\n",
      "\n",
      "Epoch 00229: val_loss did not improve from 0.43936\n",
      "Epoch 230/300\n",
      "480/480 [==============================] - ETA: 0s - loss: 0.0177 - acc: 1.000 - ETA: 0s - loss: 0.0214 - acc: 1.000 - ETA: 0s - loss: 0.0401 - acc: 0.989 - ETA: 0s - loss: 0.0460 - acc: 0.984 - ETA: 0s - loss: 0.0404 - acc: 0.987 - ETA: 0s - loss: 0.0396 - acc: 0.984 - ETA: 0s - loss: 0.0463 - acc: 0.977 - ETA: 0s - loss: 0.0513 - acc: 0.972 - ETA: 0s - loss: 0.0480 - acc: 0.975 - ETA: 0s - loss: 0.0467 - acc: 0.978 - ETA: 0s - loss: 0.0438 - acc: 0.980 - ETA: 0s - loss: 0.0434 - acc: 0.981 - ETA: 0s - loss: 0.0479 - acc: 0.980 - ETA: 0s - loss: 0.0452 - acc: 0.982 - 1s 2ms/step - loss: 0.0444 - acc: 0.9833 - val_loss: 0.8612 - val_acc: 0.8833\n",
      "\n",
      "Epoch 00230: val_loss did not improve from 0.43936\n",
      "Epoch 231/300\n",
      "480/480 [==============================] - ETA: 0s - loss: 0.0611 - acc: 0.968 - ETA: 0s - loss: 0.0526 - acc: 0.984 - ETA: 0s - loss: 0.0672 - acc: 0.979 - ETA: 0s - loss: 0.0544 - acc: 0.984 - ETA: 0s - loss: 0.0479 - acc: 0.987 - ETA: 0s - loss: 0.0668 - acc: 0.974 - ETA: 0s - loss: 0.0583 - acc: 0.977 - ETA: 0s - loss: 0.0786 - acc: 0.972 - ETA: 0s - loss: 0.0759 - acc: 0.972 - ETA: 0s - loss: 0.0697 - acc: 0.975 - ETA: 0s - loss: 0.0661 - acc: 0.974 - ETA: 0s - loss: 0.0613 - acc: 0.976 - ETA: 0s - loss: 0.0573 - acc: 0.978 - ETA: 0s - loss: 0.0579 - acc: 0.977 - 1s 2ms/step - loss: 0.0563 - acc: 0.9792 - val_loss: 0.9757 - val_acc: 0.8750\n",
      "\n",
      "Epoch 00231: val_loss did not improve from 0.43936\n",
      "Epoch 232/300\n"
     ]
    },
    {
     "name": "stdout",
     "output_type": "stream",
     "text": [
      "480/480 [==============================] - ETA: 0s - loss: 0.0505 - acc: 0.968 - ETA: 0s - loss: 0.0700 - acc: 0.953 - ETA: 0s - loss: 0.0667 - acc: 0.968 - ETA: 0s - loss: 0.0538 - acc: 0.976 - ETA: 0s - loss: 0.0653 - acc: 0.962 - ETA: 0s - loss: 0.0609 - acc: 0.968 - ETA: 0s - loss: 0.0531 - acc: 0.973 - ETA: 0s - loss: 0.0497 - acc: 0.972 - ETA: 0s - loss: 0.0449 - acc: 0.975 - ETA: 0s - loss: 0.0461 - acc: 0.975 - ETA: 0s - loss: 0.0434 - acc: 0.977 - ETA: 0s - loss: 0.0408 - acc: 0.979 - ETA: 0s - loss: 0.0404 - acc: 0.980 - ETA: 0s - loss: 0.0485 - acc: 0.975 - 1s 2ms/step - loss: 0.0503 - acc: 0.9750 - val_loss: 0.9707 - val_acc: 0.8833\n",
      "\n",
      "Epoch 00232: val_loss did not improve from 0.43936\n",
      "Epoch 233/300\n",
      "480/480 [==============================] - ETA: 0s - loss: 0.0018 - acc: 1.000 - ETA: 0s - loss: 0.0139 - acc: 1.000 - ETA: 0s - loss: 0.0162 - acc: 1.000 - ETA: 0s - loss: 0.0266 - acc: 0.992 - ETA: 0s - loss: 0.0396 - acc: 0.987 - ETA: 0s - loss: 0.0446 - acc: 0.984 - ETA: 0s - loss: 0.0384 - acc: 0.986 - ETA: 0s - loss: 0.0345 - acc: 0.988 - ETA: 0s - loss: 0.0320 - acc: 0.989 - ETA: 0s - loss: 0.0317 - acc: 0.990 - ETA: 0s - loss: 0.0326 - acc: 0.991 - ETA: 0s - loss: 0.0321 - acc: 0.992 - ETA: 0s - loss: 0.0302 - acc: 0.992 - ETA: 0s - loss: 0.0338 - acc: 0.991 - 1s 2ms/step - loss: 0.0350 - acc: 0.9896 - val_loss: 0.9235 - val_acc: 0.8833\n",
      "\n",
      "Epoch 00233: val_loss did not improve from 0.43936\n",
      "Epoch 234/300\n",
      "480/480 [==============================] - ETA: 0s - loss: 0.0067 - acc: 1.000 - ETA: 0s - loss: 0.0073 - acc: 1.000 - ETA: 0s - loss: 0.0502 - acc: 0.979 - ETA: 0s - loss: 0.0638 - acc: 0.968 - ETA: 0s - loss: 0.0527 - acc: 0.975 - ETA: 0s - loss: 0.0493 - acc: 0.974 - ETA: 0s - loss: 0.0443 - acc: 0.977 - ETA: 0s - loss: 0.0565 - acc: 0.972 - ETA: 0s - loss: 0.0522 - acc: 0.975 - ETA: 0s - loss: 0.0497 - acc: 0.975 - ETA: 0s - loss: 0.0533 - acc: 0.974 - ETA: 0s - loss: 0.0501 - acc: 0.976 - ETA: 0s - loss: 0.0477 - acc: 0.978 - ETA: 0s - loss: 0.0531 - acc: 0.975 - 1s 2ms/step - loss: 0.0528 - acc: 0.9750 - val_loss: 0.9497 - val_acc: 0.8833\n",
      "\n",
      "Epoch 00234: val_loss did not improve from 0.43936\n",
      "Epoch 235/300\n",
      "480/480 [==============================] - ETA: 0s - loss: 0.0345 - acc: 1.000 - ETA: 0s - loss: 0.0420 - acc: 0.984 - ETA: 0s - loss: 0.0294 - acc: 0.989 - ETA: 0s - loss: 0.0303 - acc: 0.992 - ETA: 0s - loss: 0.0348 - acc: 0.987 - ETA: 0s - loss: 0.0315 - acc: 0.989 - ETA: 0s - loss: 0.0371 - acc: 0.986 - ETA: 0s - loss: 0.0469 - acc: 0.980 - ETA: 0s - loss: 0.0477 - acc: 0.979 - ETA: 0s - loss: 0.0486 - acc: 0.978 - ETA: 0s - loss: 0.0443 - acc: 0.980 - ETA: 0s - loss: 0.0413 - acc: 0.981 - ETA: 0s - loss: 0.0431 - acc: 0.980 - ETA: 0s - loss: 0.0511 - acc: 0.977 - 1s 2ms/step - loss: 0.0517 - acc: 0.9792 - val_loss: 0.9753 - val_acc: 0.8833\n",
      "\n",
      "Epoch 00235: val_loss did not improve from 0.43936\n",
      "Epoch 236/300\n",
      "480/480 [==============================] - ETA: 0s - loss: 0.0522 - acc: 0.968 - ETA: 0s - loss: 0.0534 - acc: 0.968 - ETA: 0s - loss: 0.0447 - acc: 0.979 - ETA: 0s - loss: 0.0621 - acc: 0.968 - ETA: 0s - loss: 0.0553 - acc: 0.975 - ETA: 0s - loss: 0.0557 - acc: 0.974 - ETA: 0s - loss: 0.0702 - acc: 0.964 - ETA: 0s - loss: 0.0933 - acc: 0.957 - ETA: 0s - loss: 0.0932 - acc: 0.954 - ETA: 0s - loss: 0.0849 - acc: 0.959 - ETA: 0s - loss: 0.0823 - acc: 0.960 - ETA: 0s - loss: 0.1124 - acc: 0.955 - ETA: 0s - loss: 0.1072 - acc: 0.959 - ETA: 0s - loss: 0.1116 - acc: 0.959 - 1s 2ms/step - loss: 0.1081 - acc: 0.9604 - val_loss: 1.1947 - val_acc: 0.8417\n",
      "\n",
      "Epoch 00236: val_loss did not improve from 0.43936\n",
      "Epoch 237/300\n",
      "480/480 [==============================] - ETA: 0s - loss: 0.3365 - acc: 0.937 - ETA: 0s - loss: 0.4042 - acc: 0.921 - ETA: 0s - loss: 0.3012 - acc: 0.937 - ETA: 0s - loss: 0.4045 - acc: 0.921 - ETA: 0s - loss: 0.3336 - acc: 0.931 - ETA: 0s - loss: 0.2831 - acc: 0.942 - ETA: 0s - loss: 0.2754 - acc: 0.942 - ETA: 0s - loss: 0.2597 - acc: 0.945 - ETA: 0s - loss: 0.2602 - acc: 0.944 - ETA: 0s - loss: 0.2385 - acc: 0.950 - ETA: 0s - loss: 0.2705 - acc: 0.940 - ETA: 0s - loss: 0.2583 - acc: 0.942 - ETA: 0s - loss: 0.2431 - acc: 0.944 - ETA: 0s - loss: 0.2471 - acc: 0.942 - 1s 2ms/step - loss: 0.2310 - acc: 0.9458 - val_loss: 0.9016 - val_acc: 0.8500\n",
      "\n",
      "Epoch 00237: val_loss did not improve from 0.43936\n",
      "Epoch 238/300\n",
      "480/480 [==============================] - ETA: 0s - loss: 0.0390 - acc: 1.000 - ETA: 0s - loss: 0.0748 - acc: 0.968 - ETA: 0s - loss: 0.0939 - acc: 0.958 - ETA: 0s - loss: 0.1221 - acc: 0.937 - ETA: 0s - loss: 0.1212 - acc: 0.937 - ETA: 0s - loss: 0.1056 - acc: 0.947 - ETA: 0s - loss: 0.1008 - acc: 0.950 - ETA: 0s - loss: 0.1067 - acc: 0.949 - ETA: 0s - loss: 0.1072 - acc: 0.947 - ETA: 0s - loss: 0.1391 - acc: 0.943 - ETA: 0s - loss: 0.1366 - acc: 0.943 - ETA: 0s - loss: 0.1347 - acc: 0.942 - ETA: 0s - loss: 0.1338 - acc: 0.944 - ETA: 0s - loss: 0.1571 - acc: 0.935 - 1s 2ms/step - loss: 0.1529 - acc: 0.9375 - val_loss: 0.9150 - val_acc: 0.9000\n",
      "\n",
      "Epoch 00238: val_loss did not improve from 0.43936\n",
      "Epoch 239/300\n",
      "480/480 [==============================] - ETA: 0s - loss: 0.0964 - acc: 0.968 - ETA: 0s - loss: 0.0693 - acc: 0.984 - ETA: 0s - loss: 0.0632 - acc: 0.979 - ETA: 0s - loss: 0.0685 - acc: 0.976 - ETA: 0s - loss: 0.0600 - acc: 0.981 - ETA: 0s - loss: 0.0536 - acc: 0.984 - ETA: 0s - loss: 0.0611 - acc: 0.982 - ETA: 0s - loss: 0.0563 - acc: 0.984 - ETA: 0s - loss: 0.0592 - acc: 0.982 - ETA: 0s - loss: 0.1451 - acc: 0.971 - ETA: 0s - loss: 0.1336 - acc: 0.974 - ETA: 0s - loss: 0.1474 - acc: 0.971 - ETA: 0s - loss: 0.1389 - acc: 0.973 - ETA: 0s - loss: 0.1500 - acc: 0.968 - 1s 2ms/step - loss: 0.1465 - acc: 0.9688 - val_loss: 0.9312 - val_acc: 0.8250\n",
      "\n",
      "Epoch 00239: val_loss did not improve from 0.43936\n",
      "Epoch 240/300\n",
      "480/480 [==============================] - ETA: 0s - loss: 0.1407 - acc: 0.937 - ETA: 0s - loss: 0.2780 - acc: 0.875 - ETA: 0s - loss: 0.3744 - acc: 0.864 - ETA: 0s - loss: 0.3011 - acc: 0.898 - ETA: 0s - loss: 0.2916 - acc: 0.900 - ETA: 0s - loss: 0.2790 - acc: 0.906 - ETA: 0s - loss: 0.2837 - acc: 0.901 - ETA: 0s - loss: 0.2630 - acc: 0.906 - ETA: 0s - loss: 0.2531 - acc: 0.906 - ETA: 0s - loss: 0.2423 - acc: 0.912 - ETA: 0s - loss: 0.2370 - acc: 0.911 - ETA: 0s - loss: 0.2224 - acc: 0.919 - ETA: 0s - loss: 0.2161 - acc: 0.920 - ETA: 0s - loss: 0.2030 - acc: 0.926 - 1s 2ms/step - loss: 0.2437 - acc: 0.9167 - val_loss: 0.8558 - val_acc: 0.8583\n",
      "\n",
      "Epoch 00240: val_loss did not improve from 0.43936\n",
      "Epoch 241/300\n",
      "480/480 [==============================] - ETA: 0s - loss: 0.2871 - acc: 0.875 - ETA: 0s - loss: 0.2663 - acc: 0.890 - ETA: 0s - loss: 0.3497 - acc: 0.895 - ETA: 0s - loss: 0.2840 - acc: 0.914 - ETA: 0s - loss: 0.5166 - acc: 0.893 - ETA: 0s - loss: 0.4417 - acc: 0.906 - ETA: 0s - loss: 0.4719 - acc: 0.910 - ETA: 0s - loss: 0.4784 - acc: 0.902 - ETA: 0s - loss: 0.4873 - acc: 0.895 - ETA: 0s - loss: 0.4832 - acc: 0.890 - ETA: 0s - loss: 0.4729 - acc: 0.889 - ETA: 0s - loss: 0.4542 - acc: 0.888 - ETA: 0s - loss: 0.4495 - acc: 0.887 - ETA: 0s - loss: 0.4315 - acc: 0.890 - 1s 2ms/step - loss: 0.4238 - acc: 0.8917 - val_loss: 1.1629 - val_acc: 0.7750\n",
      "\n",
      "Epoch 00241: val_loss did not improve from 0.43936\n",
      "Epoch 242/300\n",
      "480/480 [==============================] - ETA: 0s - loss: 0.4286 - acc: 0.937 - ETA: 0s - loss: 0.6482 - acc: 0.890 - ETA: 0s - loss: 0.5596 - acc: 0.864 - ETA: 0s - loss: 0.5628 - acc: 0.851 - ETA: 0s - loss: 0.4810 - acc: 0.875 - ETA: 0s - loss: 0.4170 - acc: 0.890 - ETA: 0s - loss: 0.4097 - acc: 0.883 - ETA: 0s - loss: 0.4156 - acc: 0.882 - ETA: 0s - loss: 0.3752 - acc: 0.895 - ETA: 0s - loss: 0.3693 - acc: 0.896 - ETA: 0s - loss: 0.3742 - acc: 0.900 - ETA: 0s - loss: 0.3649 - acc: 0.901 - ETA: 0s - loss: 0.3504 - acc: 0.906 - ETA: 0s - loss: 0.3531 - acc: 0.906 - 1s 2ms/step - loss: 0.3383 - acc: 0.9083 - val_loss: 0.9011 - val_acc: 0.8417\n",
      "\n",
      "Epoch 00242: val_loss did not improve from 0.43936\n",
      "Epoch 243/300\n"
     ]
    },
    {
     "name": "stdout",
     "output_type": "stream",
     "text": [
      "480/480 [==============================] - ETA: 0s - loss: 0.2469 - acc: 0.906 - ETA: 0s - loss: 0.1544 - acc: 0.953 - ETA: 0s - loss: 0.1874 - acc: 0.927 - ETA: 0s - loss: 0.1952 - acc: 0.921 - ETA: 0s - loss: 0.1656 - acc: 0.937 - ETA: 0s - loss: 0.1678 - acc: 0.937 - ETA: 0s - loss: 0.1694 - acc: 0.937 - ETA: 0s - loss: 0.1570 - acc: 0.941 - ETA: 0s - loss: 0.1533 - acc: 0.941 - ETA: 0s - loss: 0.1556 - acc: 0.940 - ETA: 0s - loss: 0.1568 - acc: 0.943 - ETA: 0s - loss: 0.1549 - acc: 0.947 - ETA: 0s - loss: 0.1581 - acc: 0.944 - ETA: 0s - loss: 0.1576 - acc: 0.946 - 1s 2ms/step - loss: 0.1658 - acc: 0.9458 - val_loss: 1.1033 - val_acc: 0.8583\n",
      "\n",
      "Epoch 00243: val_loss did not improve from 0.43936\n",
      "Epoch 244/300\n",
      "480/480 [==============================] - ETA: 0s - loss: 0.1398 - acc: 0.937 - ETA: 0s - loss: 0.1697 - acc: 0.921 - ETA: 0s - loss: 0.1766 - acc: 0.916 - ETA: 0s - loss: 0.1548 - acc: 0.921 - ETA: 0s - loss: 0.1915 - acc: 0.925 - ETA: 0s - loss: 0.1752 - acc: 0.937 - ETA: 0s - loss: 0.1644 - acc: 0.937 - ETA: 0s - loss: 0.1756 - acc: 0.929 - ETA: 0s - loss: 0.1649 - acc: 0.934 - ETA: 0s - loss: 0.1606 - acc: 0.934 - ETA: 0s - loss: 0.1587 - acc: 0.934 - ETA: 0s - loss: 0.1531 - acc: 0.934 - ETA: 0s - loss: 0.1706 - acc: 0.930 - ETA: 0s - loss: 0.1649 - acc: 0.933 - 1s 2ms/step - loss: 0.1730 - acc: 0.9333 - val_loss: 0.8315 - val_acc: 0.8583\n",
      "\n",
      "Epoch 00244: val_loss did not improve from 0.43936\n",
      "Epoch 245/300\n",
      "480/480 [==============================] - ETA: 0s - loss: 0.2280 - acc: 0.906 - ETA: 0s - loss: 0.1476 - acc: 0.953 - ETA: 0s - loss: 0.1888 - acc: 0.947 - ETA: 0s - loss: 0.1730 - acc: 0.953 - ETA: 0s - loss: 0.1583 - acc: 0.956 - ETA: 0s - loss: 0.1699 - acc: 0.942 - ETA: 0s - loss: 0.1784 - acc: 0.937 - ETA: 0s - loss: 0.1786 - acc: 0.937 - ETA: 0s - loss: 0.2407 - acc: 0.930 - ETA: 0s - loss: 0.2425 - acc: 0.928 - ETA: 0s - loss: 0.2403 - acc: 0.929 - ETA: 0s - loss: 0.2374 - acc: 0.929 - ETA: 0s - loss: 0.2374 - acc: 0.923 - ETA: 0s - loss: 0.2624 - acc: 0.921 - 1s 2ms/step - loss: 0.2689 - acc: 0.9187 - val_loss: 0.9826 - val_acc: 0.8333\n",
      "\n",
      "Epoch 00245: val_loss did not improve from 0.43936\n",
      "Epoch 246/300\n",
      "480/480 [==============================] - ETA: 0s - loss: 0.1556 - acc: 0.906 - ETA: 0s - loss: 0.1625 - acc: 0.937 - ETA: 0s - loss: 0.1466 - acc: 0.947 - ETA: 0s - loss: 0.2259 - acc: 0.929 - ETA: 0s - loss: 0.2123 - acc: 0.925 - ETA: 0s - loss: 0.2252 - acc: 0.921 - ETA: 0s - loss: 0.2234 - acc: 0.919 - ETA: 0s - loss: 0.2149 - acc: 0.918 - ETA: 0s - loss: 0.2145 - acc: 0.920 - ETA: 0s - loss: 0.2982 - acc: 0.909 - ETA: 0s - loss: 0.2883 - acc: 0.906 - ETA: 0s - loss: 0.3421 - acc: 0.898 - ETA: 0s - loss: 0.4703 - acc: 0.877 - ETA: 0s - loss: 0.5250 - acc: 0.866 - 1s 2ms/step - loss: 0.5287 - acc: 0.8583 - val_loss: 1.0810 - val_acc: 0.8000\n",
      "\n",
      "Epoch 00246: val_loss did not improve from 0.43936\n",
      "Epoch 247/300\n",
      "480/480 [==============================] - ETA: 0s - loss: 0.3226 - acc: 0.968 - ETA: 0s - loss: 0.3084 - acc: 0.937 - ETA: 0s - loss: 0.3261 - acc: 0.906 - ETA: 0s - loss: 0.4841 - acc: 0.890 - ETA: 0s - loss: 0.5437 - acc: 0.868 - ETA: 0s - loss: 0.6441 - acc: 0.869 - ETA: 0s - loss: 0.6309 - acc: 0.870 - ETA: 0s - loss: 0.5681 - acc: 0.882 - ETA: 0s - loss: 0.5670 - acc: 0.878 - ETA: 0s - loss: 0.5424 - acc: 0.878 - ETA: 0s - loss: 0.5166 - acc: 0.880 - ETA: 0s - loss: 0.5078 - acc: 0.880 - ETA: 0s - loss: 0.5384 - acc: 0.877 - ETA: 0s - loss: 0.5309 - acc: 0.875 - 1s 2ms/step - loss: 0.5115 - acc: 0.8750 - val_loss: 0.6923 - val_acc: 0.8583\n",
      "\n",
      "Epoch 00247: val_loss did not improve from 0.43936\n",
      "Epoch 248/300\n",
      "480/480 [==============================] - ETA: 0s - loss: 0.7444 - acc: 0.906 - ETA: 0s - loss: 0.4832 - acc: 0.921 - ETA: 0s - loss: 0.4774 - acc: 0.885 - ETA: 0s - loss: 0.4715 - acc: 0.898 - ETA: 0s - loss: 0.4202 - acc: 0.893 - ETA: 0s - loss: 0.3896 - acc: 0.890 - ETA: 0s - loss: 0.3693 - acc: 0.897 - ETA: 0s - loss: 0.3478 - acc: 0.898 - ETA: 0s - loss: 0.3186 - acc: 0.909 - ETA: 0s - loss: 0.3082 - acc: 0.915 - ETA: 0s - loss: 0.2895 - acc: 0.920 - ETA: 0s - loss: 0.2873 - acc: 0.921 - ETA: 0s - loss: 0.2926 - acc: 0.920 - ETA: 0s - loss: 0.2836 - acc: 0.921 - 1s 2ms/step - loss: 0.2709 - acc: 0.9271 - val_loss: 0.8105 - val_acc: 0.8250\n",
      "\n",
      "Epoch 00248: val_loss did not improve from 0.43936\n",
      "Epoch 249/300\n",
      "480/480 [==============================] - ETA: 0s - loss: 0.4110 - acc: 0.875 - ETA: 0s - loss: 0.2804 - acc: 0.906 - ETA: 0s - loss: 0.2309 - acc: 0.916 - ETA: 0s - loss: 0.2000 - acc: 0.921 - ETA: 0s - loss: 0.1995 - acc: 0.925 - ETA: 0s - loss: 0.1919 - acc: 0.932 - ETA: 0s - loss: 0.1795 - acc: 0.937 - ETA: 0s - loss: 0.1807 - acc: 0.937 - ETA: 0s - loss: 0.1702 - acc: 0.944 - ETA: 0s - loss: 0.1635 - acc: 0.946 - ETA: 0s - loss: 0.1574 - acc: 0.951 - ETA: 0s - loss: 0.1563 - acc: 0.950 - ETA: 0s - loss: 0.1548 - acc: 0.954 - ETA: 0s - loss: 0.1539 - acc: 0.953 - 1s 2ms/step - loss: 0.1599 - acc: 0.9521 - val_loss: 0.7925 - val_acc: 0.8333\n",
      "\n",
      "Epoch 00249: val_loss did not improve from 0.43936\n",
      "Epoch 250/300\n",
      "480/480 [==============================] - ETA: 0s - loss: 0.0156 - acc: 1.000 - ETA: 0s - loss: 0.1152 - acc: 0.968 - ETA: 0s - loss: 0.1105 - acc: 0.968 - ETA: 0s - loss: 0.1213 - acc: 0.953 - ETA: 0s - loss: 0.1218 - acc: 0.962 - ETA: 0s - loss: 0.1200 - acc: 0.963 - ETA: 0s - loss: 0.1258 - acc: 0.964 - ETA: 0s - loss: 0.1269 - acc: 0.960 - ETA: 0s - loss: 0.1324 - acc: 0.954 - ETA: 0s - loss: 0.1338 - acc: 0.953 - ETA: 0s - loss: 0.1328 - acc: 0.954 - ETA: 0s - loss: 0.1332 - acc: 0.955 - ETA: 0s - loss: 0.1326 - acc: 0.956 - ETA: 0s - loss: 0.1286 - acc: 0.959 - 1s 2ms/step - loss: 0.1222 - acc: 0.9625 - val_loss: 0.6809 - val_acc: 0.8417\n",
      "\n",
      "Epoch 00250: val_loss did not improve from 0.43936\n",
      "Epoch 251/300\n",
      "480/480 [==============================] - ETA: 0s - loss: 0.0900 - acc: 0.968 - ETA: 0s - loss: 0.1242 - acc: 0.937 - ETA: 0s - loss: 0.1039 - acc: 0.947 - ETA: 0s - loss: 0.1173 - acc: 0.937 - ETA: 0s - loss: 0.1060 - acc: 0.950 - ETA: 0s - loss: 0.1235 - acc: 0.942 - ETA: 0s - loss: 0.1349 - acc: 0.942 - ETA: 0s - loss: 0.1258 - acc: 0.949 - ETA: 0s - loss: 0.1246 - acc: 0.951 - ETA: 0s - loss: 0.1243 - acc: 0.946 - ETA: 0s - loss: 0.1244 - acc: 0.948 - ETA: 0s - loss: 0.1241 - acc: 0.950 - ETA: 0s - loss: 0.1196 - acc: 0.954 - ETA: 0s - loss: 0.1155 - acc: 0.957 - 1s 2ms/step - loss: 0.1202 - acc: 0.9563 - val_loss: 0.6224 - val_acc: 0.8500\n",
      "\n",
      "Epoch 00251: val_loss did not improve from 0.43936\n",
      "Epoch 252/300\n",
      "480/480 [==============================] - ETA: 0s - loss: 0.1659 - acc: 0.906 - ETA: 0s - loss: 0.1204 - acc: 0.937 - ETA: 0s - loss: 0.1158 - acc: 0.937 - ETA: 0s - loss: 0.1228 - acc: 0.945 - ETA: 0s - loss: 0.1194 - acc: 0.950 - ETA: 0s - loss: 0.1126 - acc: 0.958 - ETA: 0s - loss: 0.1064 - acc: 0.959 - ETA: 0s - loss: 0.1063 - acc: 0.960 - ETA: 0s - loss: 0.1087 - acc: 0.961 - ETA: 0s - loss: 0.1066 - acc: 0.962 - ETA: 0s - loss: 0.1047 - acc: 0.963 - ETA: 0s - loss: 0.1064 - acc: 0.960 - ETA: 0s - loss: 0.1056 - acc: 0.961 - ETA: 0s - loss: 0.1016 - acc: 0.964 - 1s 2ms/step - loss: 0.0998 - acc: 0.9646 - val_loss: 0.6849 - val_acc: 0.8417\n",
      "\n",
      "Epoch 00252: val_loss did not improve from 0.43936\n",
      "Epoch 253/300\n",
      "480/480 [==============================] - ETA: 0s - loss: 0.0309 - acc: 1.000 - ETA: 0s - loss: 0.0598 - acc: 0.984 - ETA: 0s - loss: 0.1098 - acc: 0.968 - ETA: 0s - loss: 0.1306 - acc: 0.960 - ETA: 0s - loss: 0.1334 - acc: 0.962 - ETA: 0s - loss: 0.1314 - acc: 0.958 - ETA: 0s - loss: 0.1273 - acc: 0.955 - ETA: 0s - loss: 0.1268 - acc: 0.953 - ETA: 0s - loss: 0.1175 - acc: 0.958 - ETA: 0s - loss: 0.1085 - acc: 0.962 - ETA: 0s - loss: 0.1113 - acc: 0.960 - ETA: 0s - loss: 0.1078 - acc: 0.963 - ETA: 0s - loss: 0.1084 - acc: 0.961 - ETA: 0s - loss: 0.1106 - acc: 0.957 - 1s 2ms/step - loss: 0.1120 - acc: 0.9563 - val_loss: 0.7157 - val_acc: 0.8417\n",
      "\n",
      "Epoch 00253: val_loss did not improve from 0.43936\n",
      "Epoch 254/300\n"
     ]
    },
    {
     "name": "stdout",
     "output_type": "stream",
     "text": [
      "480/480 [==============================] - ETA: 0s - loss: 0.1230 - acc: 0.937 - ETA: 0s - loss: 0.0825 - acc: 0.968 - ETA: 0s - loss: 0.0722 - acc: 0.968 - ETA: 0s - loss: 0.0649 - acc: 0.968 - ETA: 0s - loss: 0.0606 - acc: 0.975 - ETA: 0s - loss: 0.0689 - acc: 0.974 - ETA: 0s - loss: 0.0661 - acc: 0.977 - ETA: 0s - loss: 0.0676 - acc: 0.976 - ETA: 0s - loss: 0.0717 - acc: 0.975 - ETA: 0s - loss: 0.0663 - acc: 0.978 - ETA: 0s - loss: 0.0739 - acc: 0.977 - ETA: 0s - loss: 0.0826 - acc: 0.968 - ETA: 0s - loss: 0.0832 - acc: 0.968 - ETA: 0s - loss: 0.0926 - acc: 0.964 - 1s 2ms/step - loss: 0.0895 - acc: 0.9667 - val_loss: 0.6760 - val_acc: 0.8500\n",
      "\n",
      "Epoch 00254: val_loss did not improve from 0.43936\n",
      "Epoch 255/300\n",
      "480/480 [==============================] - ETA: 0s - loss: 0.1146 - acc: 0.968 - ETA: 0s - loss: 0.0933 - acc: 0.968 - ETA: 0s - loss: 0.0925 - acc: 0.979 - ETA: 0s - loss: 0.0858 - acc: 0.976 - ETA: 0s - loss: 0.0994 - acc: 0.968 - ETA: 0s - loss: 0.1024 - acc: 0.963 - ETA: 0s - loss: 0.1027 - acc: 0.959 - ETA: 0s - loss: 0.0904 - acc: 0.964 - ETA: 0s - loss: 0.0891 - acc: 0.965 - ETA: 0s - loss: 0.0851 - acc: 0.968 - ETA: 0s - loss: 0.0870 - acc: 0.968 - ETA: 0s - loss: 0.0866 - acc: 0.971 - ETA: 0s - loss: 0.0915 - acc: 0.968 - ETA: 0s - loss: 0.0885 - acc: 0.968 - 1s 2ms/step - loss: 0.0848 - acc: 0.9708 - val_loss: 0.6794 - val_acc: 0.8500\n",
      "\n",
      "Epoch 00255: val_loss did not improve from 0.43936\n",
      "Epoch 256/300\n",
      "480/480 [==============================] - ETA: 0s - loss: 0.1678 - acc: 0.906 - ETA: 0s - loss: 0.1531 - acc: 0.906 - ETA: 0s - loss: 0.1056 - acc: 0.937 - ETA: 0s - loss: 0.0870 - acc: 0.953 - ETA: 0s - loss: 0.0948 - acc: 0.950 - ETA: 0s - loss: 0.0868 - acc: 0.958 - ETA: 0s - loss: 0.1047 - acc: 0.950 - ETA: 0s - loss: 0.1035 - acc: 0.953 - ETA: 0s - loss: 0.1180 - acc: 0.951 - ETA: 0s - loss: 0.1243 - acc: 0.946 - ETA: 0s - loss: 0.1336 - acc: 0.940 - ETA: 0s - loss: 0.1320 - acc: 0.942 - ETA: 0s - loss: 0.1243 - acc: 0.947 - ETA: 0s - loss: 0.1254 - acc: 0.948 - 1s 2ms/step - loss: 0.1204 - acc: 0.9500 - val_loss: 0.7427 - val_acc: 0.8417\n",
      "\n",
      "Epoch 00256: val_loss did not improve from 0.43936\n",
      "Epoch 257/300\n",
      "480/480 [==============================] - ETA: 0s - loss: 0.1065 - acc: 0.968 - ETA: 0s - loss: 0.0941 - acc: 0.968 - ETA: 0s - loss: 0.0836 - acc: 0.979 - ETA: 0s - loss: 0.0717 - acc: 0.976 - ETA: 0s - loss: 0.0996 - acc: 0.962 - ETA: 0s - loss: 0.0965 - acc: 0.963 - ETA: 0s - loss: 0.0901 - acc: 0.964 - ETA: 0s - loss: 0.0943 - acc: 0.960 - ETA: 0s - loss: 0.0965 - acc: 0.958 - ETA: 0s - loss: 0.1046 - acc: 0.956 - ETA: 0s - loss: 0.1064 - acc: 0.951 - ETA: 0s - loss: 0.1078 - acc: 0.950 - ETA: 0s - loss: 0.1104 - acc: 0.949 - ETA: 0s - loss: 0.1078 - acc: 0.953 - 1s 2ms/step - loss: 0.1059 - acc: 0.9563 - val_loss: 0.7777 - val_acc: 0.8583\n",
      "\n",
      "Epoch 00257: val_loss did not improve from 0.43936\n",
      "Epoch 258/300\n",
      "480/480 [==============================] - ETA: 0s - loss: 0.0170 - acc: 1.000 - ETA: 0s - loss: 0.0297 - acc: 1.000 - ETA: 0s - loss: 0.0339 - acc: 1.000 - ETA: 0s - loss: 0.0582 - acc: 0.984 - ETA: 0s - loss: 0.0537 - acc: 0.987 - ETA: 0s - loss: 0.0592 - acc: 0.984 - ETA: 0s - loss: 0.0585 - acc: 0.986 - ETA: 0s - loss: 0.0548 - acc: 0.988 - ETA: 0s - loss: 0.0541 - acc: 0.986 - ETA: 0s - loss: 0.0542 - acc: 0.984 - ETA: 0s - loss: 0.0568 - acc: 0.985 - ETA: 0s - loss: 0.0637 - acc: 0.984 - ETA: 0s - loss: 0.0649 - acc: 0.983 - ETA: 0s - loss: 0.0629 - acc: 0.984 - 1s 2ms/step - loss: 0.0648 - acc: 0.9833 - val_loss: 0.7638 - val_acc: 0.8750\n",
      "\n",
      "Epoch 00258: val_loss did not improve from 0.43936\n",
      "Epoch 259/300\n",
      "480/480 [==============================] - ETA: 0s - loss: 0.0493 - acc: 1.000 - ETA: 0s - loss: 0.0761 - acc: 0.968 - ETA: 0s - loss: 0.0910 - acc: 0.958 - ETA: 0s - loss: 0.0900 - acc: 0.953 - ETA: 0s - loss: 0.0937 - acc: 0.956 - ETA: 0s - loss: 0.0895 - acc: 0.963 - ETA: 0s - loss: 0.0995 - acc: 0.959 - ETA: 0s - loss: 0.0912 - acc: 0.964 - ETA: 0s - loss: 0.0918 - acc: 0.965 - ETA: 0s - loss: 0.1052 - acc: 0.959 - ETA: 0s - loss: 0.1052 - acc: 0.957 - ETA: 0s - loss: 0.0996 - acc: 0.960 - ETA: 0s - loss: 0.1090 - acc: 0.951 - ETA: 0s - loss: 0.1045 - acc: 0.953 - 1s 2ms/step - loss: 0.1030 - acc: 0.9542 - val_loss: 0.7666 - val_acc: 0.8750\n",
      "\n",
      "Epoch 00259: val_loss did not improve from 0.43936\n",
      "Epoch 260/300\n",
      "480/480 [==============================] - ETA: 0s - loss: 0.0105 - acc: 1.000 - ETA: 0s - loss: 0.0307 - acc: 1.000 - ETA: 0s - loss: 0.0308 - acc: 1.000 - ETA: 0s - loss: 0.0322 - acc: 1.000 - ETA: 0s - loss: 0.0379 - acc: 0.993 - ETA: 0s - loss: 0.0384 - acc: 0.989 - ETA: 0s - loss: 0.0501 - acc: 0.986 - ETA: 0s - loss: 0.0464 - acc: 0.988 - ETA: 0s - loss: 0.0559 - acc: 0.982 - ETA: 0s - loss: 0.0538 - acc: 0.984 - ETA: 0s - loss: 0.0541 - acc: 0.983 - ETA: 0s - loss: 0.0520 - acc: 0.984 - ETA: 0s - loss: 0.0620 - acc: 0.980 - ETA: 0s - loss: 0.0653 - acc: 0.977 - 1s 2ms/step - loss: 0.0647 - acc: 0.9792 - val_loss: 0.8044 - val_acc: 0.8667\n",
      "\n",
      "Epoch 00260: val_loss did not improve from 0.43936\n",
      "Epoch 261/300\n",
      "480/480 [==============================] - ETA: 0s - loss: 0.0636 - acc: 0.968 - ETA: 0s - loss: 0.0666 - acc: 0.968 - ETA: 0s - loss: 0.0655 - acc: 0.968 - ETA: 0s - loss: 0.0612 - acc: 0.976 - ETA: 0s - loss: 0.0572 - acc: 0.981 - ETA: 0s - loss: 0.0552 - acc: 0.979 - ETA: 0s - loss: 0.0634 - acc: 0.977 - ETA: 0s - loss: 0.0604 - acc: 0.980 - ETA: 0s - loss: 0.0769 - acc: 0.968 - ETA: 0s - loss: 0.0743 - acc: 0.971 - ETA: 0s - loss: 0.0731 - acc: 0.971 - ETA: 0s - loss: 0.0692 - acc: 0.974 - ETA: 0s - loss: 0.0687 - acc: 0.973 - ETA: 0s - loss: 0.0711 - acc: 0.973 - 1s 2ms/step - loss: 0.0780 - acc: 0.9708 - val_loss: 0.8422 - val_acc: 0.8583\n",
      "\n",
      "Epoch 00261: val_loss did not improve from 0.43936\n",
      "Epoch 262/300\n",
      "480/480 [==============================] - ETA: 1s - loss: 0.1031 - acc: 0.937 - ETA: 0s - loss: 0.0776 - acc: 0.968 - ETA: 0s - loss: 0.0551 - acc: 0.979 - ETA: 0s - loss: 0.0569 - acc: 0.976 - ETA: 0s - loss: 0.0691 - acc: 0.968 - ETA: 0s - loss: 0.0650 - acc: 0.974 - ETA: 0s - loss: 0.0752 - acc: 0.968 - ETA: 0s - loss: 0.0702 - acc: 0.972 - ETA: 0s - loss: 0.0660 - acc: 0.975 - ETA: 0s - loss: 0.0630 - acc: 0.978 - ETA: 0s - loss: 0.0622 - acc: 0.980 - ETA: 0s - loss: 0.0611 - acc: 0.981 - ETA: 0s - loss: 0.0582 - acc: 0.983 - ETA: 0s - loss: 0.0577 - acc: 0.984 - 1s 2ms/step - loss: 0.0569 - acc: 0.9833 - val_loss: 0.8357 - val_acc: 0.8583\n",
      "\n",
      "Epoch 00262: val_loss did not improve from 0.43936\n",
      "Epoch 263/300\n",
      "480/480 [==============================] - ETA: 0s - loss: 0.0629 - acc: 0.968 - ETA: 0s - loss: 0.0436 - acc: 0.984 - ETA: 0s - loss: 0.0799 - acc: 0.958 - ETA: 0s - loss: 0.0649 - acc: 0.968 - ETA: 0s - loss: 0.0558 - acc: 0.975 - ETA: 0s - loss: 0.0559 - acc: 0.974 - ETA: 0s - loss: 0.0543 - acc: 0.977 - ETA: 0s - loss: 0.0520 - acc: 0.980 - ETA: 0s - loss: 0.0528 - acc: 0.979 - ETA: 0s - loss: 0.0495 - acc: 0.981 - ETA: 0s - loss: 0.0487 - acc: 0.983 - ETA: 0s - loss: 0.0449 - acc: 0.984 - ETA: 0s - loss: 0.0518 - acc: 0.978 - ETA: 0s - loss: 0.0541 - acc: 0.977 - 1s 2ms/step - loss: 0.0511 - acc: 0.9792 - val_loss: 0.8195 - val_acc: 0.8667\n",
      "\n",
      "Epoch 00263: val_loss did not improve from 0.43936\n",
      "Epoch 264/300\n",
      "480/480 [==============================] - ETA: 0s - loss: 0.0537 - acc: 1.000 - ETA: 0s - loss: 0.0787 - acc: 1.000 - ETA: 0s - loss: 0.0593 - acc: 1.000 - ETA: 0s - loss: 0.0546 - acc: 0.992 - ETA: 0s - loss: 0.0522 - acc: 0.993 - ETA: 0s - loss: 0.0532 - acc: 0.989 - ETA: 0s - loss: 0.0601 - acc: 0.982 - ETA: 0s - loss: 0.0681 - acc: 0.976 - ETA: 0s - loss: 0.0637 - acc: 0.979 - ETA: 0s - loss: 0.0745 - acc: 0.971 - ETA: 0s - loss: 0.0790 - acc: 0.968 - ETA: 0s - loss: 0.0776 - acc: 0.968 - ETA: 0s - loss: 0.0793 - acc: 0.968 - ETA: 0s - loss: 0.0756 - acc: 0.971 - 1s 2ms/step - loss: 0.0717 - acc: 0.9729 - val_loss: 0.8398 - val_acc: 0.8583\n",
      "\n",
      "Epoch 00264: val_loss did not improve from 0.43936\n",
      "Epoch 265/300\n"
     ]
    },
    {
     "name": "stdout",
     "output_type": "stream",
     "text": [
      "480/480 [==============================] - ETA: 0s - loss: 0.0453 - acc: 1.000 - ETA: 0s - loss: 0.0604 - acc: 1.000 - ETA: 0s - loss: 0.0559 - acc: 0.989 - ETA: 0s - loss: 0.0519 - acc: 0.992 - ETA: 0s - loss: 0.0518 - acc: 0.993 - ETA: 0s - loss: 0.0525 - acc: 0.989 - ETA: 0s - loss: 0.0479 - acc: 0.991 - ETA: 0s - loss: 0.0434 - acc: 0.992 - ETA: 0s - loss: 0.0478 - acc: 0.989 - ETA: 0s - loss: 0.0504 - acc: 0.987 - ETA: 0s - loss: 0.0503 - acc: 0.988 - ETA: 0s - loss: 0.0475 - acc: 0.989 - ETA: 0s - loss: 0.0469 - acc: 0.990 - ETA: 0s - loss: 0.0442 - acc: 0.991 - 1s 2ms/step - loss: 0.0457 - acc: 0.9896 - val_loss: 0.8352 - val_acc: 0.8583\n",
      "\n",
      "Epoch 00265: val_loss did not improve from 0.43936\n",
      "Epoch 266/300\n",
      "480/480 [==============================] - ETA: 0s - loss: 0.1157 - acc: 0.937 - ETA: 0s - loss: 0.0714 - acc: 0.968 - ETA: 0s - loss: 0.0814 - acc: 0.968 - ETA: 0s - loss: 0.0718 - acc: 0.968 - ETA: 0s - loss: 0.0745 - acc: 0.968 - ETA: 0s - loss: 0.0710 - acc: 0.968 - ETA: 0s - loss: 0.0682 - acc: 0.973 - ETA: 0s - loss: 0.0602 - acc: 0.976 - ETA: 0s - loss: 0.0650 - acc: 0.975 - ETA: 0s - loss: 0.0615 - acc: 0.978 - ETA: 0s - loss: 0.0632 - acc: 0.977 - ETA: 0s - loss: 0.0619 - acc: 0.979 - ETA: 0s - loss: 0.0585 - acc: 0.980 - ETA: 0s - loss: 0.0563 - acc: 0.982 - 1s 2ms/step - loss: 0.0532 - acc: 0.9833 - val_loss: 0.8669 - val_acc: 0.8667\n",
      "\n",
      "Epoch 00266: val_loss did not improve from 0.43936\n",
      "Epoch 267/300\n",
      "480/480 [==============================] - ETA: 0s - loss: 0.0242 - acc: 1.000 - ETA: 0s - loss: 0.0459 - acc: 0.984 - ETA: 0s - loss: 0.0602 - acc: 0.968 - ETA: 0s - loss: 0.0559 - acc: 0.976 - ETA: 0s - loss: 0.0502 - acc: 0.981 - ETA: 0s - loss: 0.0462 - acc: 0.984 - ETA: 0s - loss: 0.0443 - acc: 0.986 - ETA: 0s - loss: 0.0523 - acc: 0.980 - ETA: 0s - loss: 0.0537 - acc: 0.982 - ETA: 0s - loss: 0.0673 - acc: 0.975 - ETA: 0s - loss: 0.0676 - acc: 0.974 - ETA: 0s - loss: 0.0709 - acc: 0.968 - ETA: 0s - loss: 0.0712 - acc: 0.968 - ETA: 0s - loss: 0.0703 - acc: 0.971 - 1s 2ms/step - loss: 0.0704 - acc: 0.9708 - val_loss: 0.8778 - val_acc: 0.8667\n",
      "\n",
      "Epoch 00267: val_loss did not improve from 0.43936\n",
      "Epoch 268/300\n",
      "480/480 [==============================] - ETA: 0s - loss: 0.0021 - acc: 1.000 - ETA: 0s - loss: 0.0477 - acc: 0.984 - ETA: 0s - loss: 0.0541 - acc: 0.979 - ETA: 0s - loss: 0.0597 - acc: 0.984 - ETA: 0s - loss: 0.0608 - acc: 0.975 - ETA: 0s - loss: 0.0573 - acc: 0.979 - ETA: 0s - loss: 0.0667 - acc: 0.977 - ETA: 0s - loss: 0.0641 - acc: 0.976 - ETA: 0s - loss: 0.0712 - acc: 0.975 - ETA: 0s - loss: 0.0704 - acc: 0.975 - ETA: 0s - loss: 0.0738 - acc: 0.974 - ETA: 0s - loss: 0.0759 - acc: 0.971 - ETA: 0s - loss: 0.0738 - acc: 0.971 - ETA: 0s - loss: 0.0780 - acc: 0.968 - 1s 2ms/step - loss: 0.0735 - acc: 0.9708 - val_loss: 0.8163 - val_acc: 0.8833\n",
      "\n",
      "Epoch 00268: val_loss did not improve from 0.43936\n",
      "Epoch 269/300\n",
      "480/480 [==============================] - ETA: 0s - loss: 0.0348 - acc: 1.000 - ETA: 0s - loss: 0.0490 - acc: 0.984 - ETA: 0s - loss: 0.0521 - acc: 0.989 - ETA: 0s - loss: 0.0939 - acc: 0.984 - ETA: 0s - loss: 0.0849 - acc: 0.981 - ETA: 0s - loss: 0.0932 - acc: 0.974 - ETA: 0s - loss: 0.0851 - acc: 0.973 - ETA: 0s - loss: 0.0808 - acc: 0.972 - ETA: 0s - loss: 0.0983 - acc: 0.968 - ETA: 0s - loss: 0.0892 - acc: 0.971 - ETA: 0s - loss: 0.0841 - acc: 0.974 - ETA: 0s - loss: 0.0817 - acc: 0.974 - ETA: 0s - loss: 0.0820 - acc: 0.976 - ETA: 0s - loss: 0.0783 - acc: 0.977 - 1s 2ms/step - loss: 0.0761 - acc: 0.9771 - val_loss: 0.8403 - val_acc: 0.8667\n",
      "\n",
      "Epoch 00269: val_loss did not improve from 0.43936\n",
      "Epoch 270/300\n",
      "480/480 [==============================] - ETA: 0s - loss: 0.0667 - acc: 0.968 - ETA: 0s - loss: 0.0600 - acc: 0.984 - ETA: 0s - loss: 0.0855 - acc: 0.958 - ETA: 0s - loss: 0.0845 - acc: 0.960 - ETA: 0s - loss: 0.0727 - acc: 0.968 - ETA: 0s - loss: 0.0660 - acc: 0.974 - ETA: 0s - loss: 0.0636 - acc: 0.977 - ETA: 0s - loss: 0.0697 - acc: 0.972 - ETA: 0s - loss: 0.0782 - acc: 0.968 - ETA: 0s - loss: 0.0718 - acc: 0.971 - ETA: 0s - loss: 0.0666 - acc: 0.974 - ETA: 0s - loss: 0.0624 - acc: 0.976 - ETA: 0s - loss: 0.0595 - acc: 0.978 - ETA: 0s - loss: 0.0646 - acc: 0.975 - 1s 2ms/step - loss: 0.0607 - acc: 0.9771 - val_loss: 0.8856 - val_acc: 0.8667\n",
      "\n",
      "Epoch 00270: val_loss did not improve from 0.43936\n",
      "Epoch 271/300\n",
      "480/480 [==============================] - ETA: 0s - loss: 0.0736 - acc: 0.968 - ETA: 0s - loss: 0.0518 - acc: 0.984 - ETA: 0s - loss: 0.0740 - acc: 0.979 - ETA: 0s - loss: 0.0596 - acc: 0.984 - ETA: 0s - loss: 0.0589 - acc: 0.981 - ETA: 0s - loss: 0.0720 - acc: 0.974 - ETA: 0s - loss: 0.0665 - acc: 0.977 - ETA: 0s - loss: 0.0869 - acc: 0.968 - ETA: 0s - loss: 0.0838 - acc: 0.972 - ETA: 0s - loss: 0.0792 - acc: 0.975 - ETA: 0s - loss: 0.0753 - acc: 0.977 - ETA: 0s - loss: 0.0694 - acc: 0.979 - ETA: 0s - loss: 0.0654 - acc: 0.980 - ETA: 0s - loss: 0.0665 - acc: 0.979 - 1s 2ms/step - loss: 0.0663 - acc: 0.9792 - val_loss: 0.9268 - val_acc: 0.8750\n",
      "\n",
      "Epoch 00271: val_loss did not improve from 0.43936\n",
      "Epoch 272/300\n",
      "480/480 [==============================] - ETA: 0s - loss: 0.1298 - acc: 0.937 - ETA: 0s - loss: 0.0710 - acc: 0.968 - ETA: 0s - loss: 0.0567 - acc: 0.979 - ETA: 0s - loss: 0.0858 - acc: 0.960 - ETA: 0s - loss: 0.0881 - acc: 0.962 - ETA: 0s - loss: 0.0899 - acc: 0.963 - ETA: 0s - loss: 0.0827 - acc: 0.968 - ETA: 0s - loss: 0.0790 - acc: 0.968 - ETA: 0s - loss: 0.0739 - acc: 0.972 - ETA: 0s - loss: 0.0770 - acc: 0.968 - ETA: 0s - loss: 0.0706 - acc: 0.971 - ETA: 0s - loss: 0.0713 - acc: 0.968 - ETA: 0s - loss: 0.0685 - acc: 0.971 - ETA: 0s - loss: 0.0684 - acc: 0.971 - 1s 2ms/step - loss: 0.0705 - acc: 0.9708 - val_loss: 0.8972 - val_acc: 0.8667\n",
      "\n",
      "Epoch 00272: val_loss did not improve from 0.43936\n",
      "Epoch 273/300\n",
      "480/480 [==============================] - ETA: 0s - loss: 0.0394 - acc: 1.000 - ETA: 0s - loss: 0.0359 - acc: 1.000 - ETA: 0s - loss: 0.0260 - acc: 1.000 - ETA: 0s - loss: 0.0227 - acc: 1.000 - ETA: 0s - loss: 0.0197 - acc: 1.000 - ETA: 0s - loss: 0.0202 - acc: 1.000 - ETA: 0s - loss: 0.0237 - acc: 0.995 - ETA: 0s - loss: 0.0248 - acc: 0.996 - ETA: 0s - loss: 0.0278 - acc: 0.993 - ETA: 0s - loss: 0.0283 - acc: 0.993 - ETA: 0s - loss: 0.0300 - acc: 0.991 - ETA: 0s - loss: 0.0389 - acc: 0.987 - ETA: 0s - loss: 0.0414 - acc: 0.985 - ETA: 0s - loss: 0.0396 - acc: 0.986 - 1s 2ms/step - loss: 0.0402 - acc: 0.9854 - val_loss: 0.8874 - val_acc: 0.8750\n",
      "\n",
      "Epoch 00273: val_loss did not improve from 0.43936\n",
      "Epoch 274/300\n",
      "480/480 [==============================] - ETA: 0s - loss: 0.0660 - acc: 0.968 - ETA: 0s - loss: 0.0458 - acc: 0.984 - ETA: 0s - loss: 0.0636 - acc: 0.979 - ETA: 0s - loss: 0.0767 - acc: 0.968 - ETA: 0s - loss: 0.0626 - acc: 0.975 - ETA: 0s - loss: 0.0719 - acc: 0.968 - ETA: 0s - loss: 0.0717 - acc: 0.968 - ETA: 0s - loss: 0.0682 - acc: 0.972 - ETA: 0s - loss: 0.0723 - acc: 0.968 - ETA: 0s - loss: 0.0743 - acc: 0.968 - ETA: 0s - loss: 0.0731 - acc: 0.971 - ETA: 0s - loss: 0.0772 - acc: 0.968 - ETA: 0s - loss: 0.0768 - acc: 0.968 - ETA: 0s - loss: 0.0716 - acc: 0.971 - 1s 2ms/step - loss: 0.0732 - acc: 0.9688 - val_loss: 0.9058 - val_acc: 0.8667\n",
      "\n",
      "Epoch 00274: val_loss did not improve from 0.43936\n",
      "Epoch 275/300\n",
      "480/480 [==============================] - ETA: 0s - loss: 0.0226 - acc: 1.000 - ETA: 0s - loss: 0.0251 - acc: 1.000 - ETA: 0s - loss: 0.0230 - acc: 1.000 - ETA: 0s - loss: 0.0376 - acc: 0.992 - ETA: 0s - loss: 0.0588 - acc: 0.981 - ETA: 0s - loss: 0.0600 - acc: 0.979 - ETA: 0s - loss: 0.0537 - acc: 0.982 - ETA: 0s - loss: 0.0559 - acc: 0.980 - ETA: 0s - loss: 0.0545 - acc: 0.979 - ETA: 0s - loss: 0.0508 - acc: 0.981 - ETA: 0s - loss: 0.0476 - acc: 0.983 - ETA: 0s - loss: 0.0492 - acc: 0.981 - ETA: 0s - loss: 0.0462 - acc: 0.983 - ETA: 0s - loss: 0.0564 - acc: 0.979 - 1s 2ms/step - loss: 0.0539 - acc: 0.9812 - val_loss: 0.9159 - val_acc: 0.8750\n",
      "\n",
      "Epoch 00275: val_loss did not improve from 0.43936\n",
      "Epoch 276/300\n"
     ]
    },
    {
     "name": "stdout",
     "output_type": "stream",
     "text": [
      "480/480 [==============================] - ETA: 0s - loss: 0.0377 - acc: 1.000 - ETA: 0s - loss: 0.0443 - acc: 0.984 - ETA: 0s - loss: 0.0327 - acc: 0.989 - ETA: 0s - loss: 0.0445 - acc: 0.992 - ETA: 0s - loss: 0.0397 - acc: 0.993 - ETA: 0s - loss: 0.0353 - acc: 0.994 - ETA: 0s - loss: 0.0353 - acc: 0.995 - ETA: 0s - loss: 0.0333 - acc: 0.996 - ETA: 0s - loss: 0.0407 - acc: 0.993 - ETA: 0s - loss: 0.0470 - acc: 0.987 - ETA: 0s - loss: 0.0452 - acc: 0.988 - ETA: 0s - loss: 0.0425 - acc: 0.989 - ETA: 0s - loss: 0.0408 - acc: 0.990 - ETA: 0s - loss: 0.0422 - acc: 0.991 - 1s 2ms/step - loss: 0.0510 - acc: 0.9875 - val_loss: 0.8982 - val_acc: 0.8750\n",
      "\n",
      "Epoch 00276: val_loss did not improve from 0.43936\n",
      "Epoch 277/300\n",
      "480/480 [==============================] - ETA: 0s - loss: 0.0378 - acc: 1.000 - ETA: 0s - loss: 0.0597 - acc: 0.984 - ETA: 0s - loss: 0.0501 - acc: 0.989 - ETA: 0s - loss: 0.0450 - acc: 0.992 - ETA: 0s - loss: 0.0386 - acc: 0.993 - ETA: 0s - loss: 0.0395 - acc: 0.994 - ETA: 0s - loss: 0.0508 - acc: 0.991 - ETA: 0s - loss: 0.0476 - acc: 0.992 - ETA: 0s - loss: 0.0488 - acc: 0.989 - ETA: 0s - loss: 0.0446 - acc: 0.990 - ETA: 0s - loss: 0.0549 - acc: 0.985 - ETA: 0s - loss: 0.0511 - acc: 0.987 - ETA: 0s - loss: 0.0582 - acc: 0.985 - ETA: 0s - loss: 0.0582 - acc: 0.984 - 1s 2ms/step - loss: 0.0602 - acc: 0.9833 - val_loss: 0.8576 - val_acc: 0.8750\n",
      "\n",
      "Epoch 00277: val_loss did not improve from 0.43936\n",
      "Epoch 278/300\n",
      "480/480 [==============================] - ETA: 0s - loss: 0.0875 - acc: 0.968 - ETA: 0s - loss: 0.0897 - acc: 0.968 - ETA: 0s - loss: 0.0767 - acc: 0.968 - ETA: 0s - loss: 0.0718 - acc: 0.976 - ETA: 0s - loss: 0.0772 - acc: 0.975 - ETA: 0s - loss: 0.0799 - acc: 0.974 - ETA: 0s - loss: 0.0793 - acc: 0.973 - ETA: 0s - loss: 0.0748 - acc: 0.972 - ETA: 0s - loss: 0.0699 - acc: 0.975 - ETA: 0s - loss: 0.0677 - acc: 0.975 - ETA: 0s - loss: 0.0646 - acc: 0.977 - ETA: 0s - loss: 0.0608 - acc: 0.979 - ETA: 0s - loss: 0.0593 - acc: 0.978 - ETA: 0s - loss: 0.0613 - acc: 0.975 - 1s 2ms/step - loss: 0.0593 - acc: 0.9771 - val_loss: 0.8738 - val_acc: 0.8833\n",
      "\n",
      "Epoch 00278: val_loss did not improve from 0.43936\n",
      "Epoch 279/300\n",
      "480/480 [==============================] - ETA: 0s - loss: 0.0860 - acc: 0.968 - ETA: 0s - loss: 0.1314 - acc: 0.953 - ETA: 0s - loss: 0.0971 - acc: 0.968 - ETA: 0s - loss: 0.0849 - acc: 0.976 - ETA: 0s - loss: 0.0801 - acc: 0.975 - ETA: 0s - loss: 0.0790 - acc: 0.979 - ETA: 0s - loss: 0.0925 - acc: 0.973 - ETA: 0s - loss: 0.0874 - acc: 0.972 - ETA: 0s - loss: 0.0897 - acc: 0.972 - ETA: 0s - loss: 0.0827 - acc: 0.975 - ETA: 0s - loss: 0.0773 - acc: 0.977 - ETA: 0s - loss: 0.0752 - acc: 0.976 - ETA: 0s - loss: 0.0700 - acc: 0.978 - ETA: 0s - loss: 0.0716 - acc: 0.977 - 1s 2ms/step - loss: 0.0740 - acc: 0.9750 - val_loss: 0.8859 - val_acc: 0.8750\n",
      "\n",
      "Epoch 00279: val_loss did not improve from 0.43936\n",
      "Epoch 280/300\n",
      "480/480 [==============================] - ETA: 0s - loss: 0.1830 - acc: 0.906 - ETA: 0s - loss: 0.1004 - acc: 0.953 - ETA: 0s - loss: 0.0889 - acc: 0.958 - ETA: 0s - loss: 0.0763 - acc: 0.960 - ETA: 0s - loss: 0.0701 - acc: 0.962 - ETA: 0s - loss: 0.0830 - acc: 0.953 - ETA: 0s - loss: 0.0837 - acc: 0.955 - ETA: 0s - loss: 0.0807 - acc: 0.957 - ETA: 0s - loss: 0.0849 - acc: 0.954 - ETA: 0s - loss: 0.0766 - acc: 0.959 - ETA: 0s - loss: 0.0752 - acc: 0.960 - ETA: 0s - loss: 0.0813 - acc: 0.955 - ETA: 0s - loss: 0.0769 - acc: 0.959 - ETA: 0s - loss: 0.0746 - acc: 0.959 - 1s 2ms/step - loss: 0.0707 - acc: 0.9625 - val_loss: 0.9027 - val_acc: 0.8750\n",
      "\n",
      "Epoch 00280: val_loss did not improve from 0.43936\n",
      "Epoch 281/300\n",
      "480/480 [==============================] - ETA: 0s - loss: 0.0695 - acc: 1.000 - ETA: 0s - loss: 0.0717 - acc: 1.000 - ETA: 0s - loss: 0.0539 - acc: 1.000 - ETA: 0s - loss: 0.0594 - acc: 0.992 - ETA: 0s - loss: 0.0572 - acc: 0.993 - ETA: 0s - loss: 0.0659 - acc: 0.989 - ETA: 0s - loss: 0.0710 - acc: 0.982 - ETA: 0s - loss: 0.0671 - acc: 0.980 - ETA: 0s - loss: 0.0736 - acc: 0.979 - ETA: 0s - loss: 0.0771 - acc: 0.978 - ETA: 0s - loss: 0.0752 - acc: 0.977 - ETA: 0s - loss: 0.0734 - acc: 0.976 - ETA: 0s - loss: 0.0771 - acc: 0.973 - ETA: 0s - loss: 0.0778 - acc: 0.973 - 1s 2ms/step - loss: 0.0761 - acc: 0.9729 - val_loss: 0.9442 - val_acc: 0.8750\n",
      "\n",
      "Epoch 00281: val_loss did not improve from 0.43936\n",
      "Epoch 282/300\n",
      "480/480 [==============================] - ETA: 0s - loss: 0.0149 - acc: 1.000 - ETA: 0s - loss: 0.0575 - acc: 0.968 - ETA: 0s - loss: 0.0407 - acc: 0.979 - ETA: 0s - loss: 0.0364 - acc: 0.984 - ETA: 0s - loss: 0.0440 - acc: 0.981 - ETA: 0s - loss: 0.0694 - acc: 0.974 - ETA: 0s - loss: 0.0715 - acc: 0.968 - ETA: 0s - loss: 0.0634 - acc: 0.972 - ETA: 0s - loss: 0.0594 - acc: 0.975 - ETA: 0s - loss: 0.0546 - acc: 0.978 - ETA: 0s - loss: 0.0507 - acc: 0.980 - ETA: 0s - loss: 0.0630 - acc: 0.974 - ETA: 0s - loss: 0.0619 - acc: 0.973 - ETA: 0s - loss: 0.0626 - acc: 0.973 - 1s 2ms/step - loss: 0.0639 - acc: 0.9729 - val_loss: 0.8820 - val_acc: 0.8750\n",
      "\n",
      "Epoch 00282: val_loss did not improve from 0.43936\n",
      "Epoch 283/300\n",
      "480/480 [==============================] - ETA: 0s - loss: 0.0231 - acc: 1.000 - ETA: 0s - loss: 0.0721 - acc: 0.968 - ETA: 0s - loss: 0.0566 - acc: 0.979 - ETA: 0s - loss: 0.0551 - acc: 0.976 - ETA: 0s - loss: 0.0526 - acc: 0.975 - ETA: 0s - loss: 0.0513 - acc: 0.979 - ETA: 0s - loss: 0.0528 - acc: 0.977 - ETA: 0s - loss: 0.0518 - acc: 0.980 - ETA: 0s - loss: 0.0476 - acc: 0.982 - ETA: 0s - loss: 0.0440 - acc: 0.984 - ETA: 0s - loss: 0.0414 - acc: 0.985 - ETA: 0s - loss: 0.0421 - acc: 0.984 - ETA: 0s - loss: 0.0490 - acc: 0.980 - ETA: 0s - loss: 0.0467 - acc: 0.982 - 1s 2ms/step - loss: 0.0468 - acc: 0.9812 - val_loss: 0.9804 - val_acc: 0.8667\n",
      "\n",
      "Epoch 00283: val_loss did not improve from 0.43936\n",
      "Epoch 284/300\n",
      "480/480 [==============================] - ETA: 0s - loss: 0.0914 - acc: 0.937 - ETA: 0s - loss: 0.1120 - acc: 0.921 - ETA: 0s - loss: 0.0902 - acc: 0.937 - ETA: 0s - loss: 0.0893 - acc: 0.945 - ETA: 0s - loss: 0.1114 - acc: 0.937 - ETA: 0s - loss: 0.0998 - acc: 0.947 - ETA: 0s - loss: 0.0989 - acc: 0.950 - ETA: 0s - loss: 0.0989 - acc: 0.953 - ETA: 0s - loss: 0.0988 - acc: 0.954 - ETA: 0s - loss: 0.0935 - acc: 0.959 - ETA: 0s - loss: 0.0885 - acc: 0.960 - ETA: 0s - loss: 0.0908 - acc: 0.958 - ETA: 0s - loss: 0.0873 - acc: 0.961 - ETA: 0s - loss: 0.0845 - acc: 0.964 - 1s 2ms/step - loss: 0.0831 - acc: 0.9646 - val_loss: 0.9084 - val_acc: 0.8667\n",
      "\n",
      "Epoch 00284: val_loss did not improve from 0.43936\n",
      "Epoch 285/300\n",
      "480/480 [==============================] - ETA: 0s - loss: 0.0092 - acc: 1.000 - ETA: 0s - loss: 0.0098 - acc: 1.000 - ETA: 0s - loss: 0.0588 - acc: 0.968 - ETA: 0s - loss: 0.0606 - acc: 0.968 - ETA: 0s - loss: 0.0566 - acc: 0.975 - ETA: 0s - loss: 0.0549 - acc: 0.979 - ETA: 0s - loss: 0.0530 - acc: 0.982 - ETA: 0s - loss: 0.0570 - acc: 0.980 - ETA: 0s - loss: 0.0579 - acc: 0.979 - ETA: 0s - loss: 0.0579 - acc: 0.978 - ETA: 0s - loss: 0.0585 - acc: 0.977 - ETA: 0s - loss: 0.0636 - acc: 0.976 - ETA: 0s - loss: 0.0656 - acc: 0.976 - ETA: 0s - loss: 0.0682 - acc: 0.973 - 1s 2ms/step - loss: 0.0653 - acc: 0.9729 - val_loss: 0.9064 - val_acc: 0.8667\n",
      "\n",
      "Epoch 00285: val_loss did not improve from 0.43936\n",
      "Epoch 286/300\n",
      "480/480 [==============================] - ETA: 0s - loss: 0.0093 - acc: 1.000 - ETA: 0s - loss: 0.0243 - acc: 1.000 - ETA: 0s - loss: 0.0443 - acc: 0.989 - ETA: 0s - loss: 0.0614 - acc: 0.976 - ETA: 0s - loss: 0.0749 - acc: 0.975 - ETA: 0s - loss: 0.0721 - acc: 0.974 - ETA: 0s - loss: 0.0823 - acc: 0.968 - ETA: 0s - loss: 0.0729 - acc: 0.972 - ETA: 0s - loss: 0.0696 - acc: 0.975 - ETA: 0s - loss: 0.0653 - acc: 0.978 - ETA: 0s - loss: 0.0667 - acc: 0.977 - ETA: 0s - loss: 0.0718 - acc: 0.976 - ETA: 0s - loss: 0.0773 - acc: 0.973 - ETA: 0s - loss: 0.0747 - acc: 0.973 - 1s 2ms/step - loss: 0.0722 - acc: 0.9750 - val_loss: 0.9171 - val_acc: 0.8667\n",
      "\n",
      "Epoch 00286: val_loss did not improve from 0.43936\n",
      "Epoch 287/300\n"
     ]
    },
    {
     "name": "stdout",
     "output_type": "stream",
     "text": [
      "480/480 [==============================] - ETA: 0s - loss: 0.0154 - acc: 1.000 - ETA: 0s - loss: 0.0489 - acc: 0.968 - ETA: 0s - loss: 0.0777 - acc: 0.947 - ETA: 0s - loss: 0.0594 - acc: 0.960 - ETA: 0s - loss: 0.0479 - acc: 0.968 - ETA: 0s - loss: 0.0408 - acc: 0.974 - ETA: 0s - loss: 0.0496 - acc: 0.973 - ETA: 0s - loss: 0.0478 - acc: 0.976 - ETA: 0s - loss: 0.0442 - acc: 0.979 - ETA: 0s - loss: 0.0459 - acc: 0.975 - ETA: 0s - loss: 0.0469 - acc: 0.977 - ETA: 0s - loss: 0.0466 - acc: 0.976 - ETA: 0s - loss: 0.0485 - acc: 0.976 - ETA: 0s - loss: 0.0482 - acc: 0.975 - 1s 2ms/step - loss: 0.0520 - acc: 0.9750 - val_loss: 0.9270 - val_acc: 0.8750\n",
      "\n",
      "Epoch 00287: val_loss did not improve from 0.43936\n",
      "Epoch 288/300\n",
      "480/480 [==============================] - ETA: 0s - loss: 0.0301 - acc: 0.968 - ETA: 0s - loss: 0.0508 - acc: 0.968 - ETA: 0s - loss: 0.0989 - acc: 0.947 - ETA: 0s - loss: 0.1028 - acc: 0.937 - ETA: 0s - loss: 0.1096 - acc: 0.937 - ETA: 0s - loss: 0.0936 - acc: 0.947 - ETA: 0s - loss: 0.0863 - acc: 0.950 - ETA: 0s - loss: 0.0825 - acc: 0.953 - ETA: 0s - loss: 0.0745 - acc: 0.958 - ETA: 0s - loss: 0.0686 - acc: 0.962 - ETA: 0s - loss: 0.0633 - acc: 0.965 - ETA: 0s - loss: 0.0586 - acc: 0.968 - ETA: 0s - loss: 0.0691 - acc: 0.961 - ETA: 0s - loss: 0.0653 - acc: 0.964 - 1s 2ms/step - loss: 0.0671 - acc: 0.9646 - val_loss: 0.9189 - val_acc: 0.8667\n",
      "\n",
      "Epoch 00288: val_loss did not improve from 0.43936\n",
      "Epoch 289/300\n",
      "480/480 [==============================] - ETA: 0s - loss: 0.0661 - acc: 1.000 - ETA: 0s - loss: 0.0709 - acc: 0.984 - ETA: 0s - loss: 0.0577 - acc: 0.989 - ETA: 0s - loss: 0.0461 - acc: 0.992 - ETA: 0s - loss: 0.0498 - acc: 0.987 - ETA: 0s - loss: 0.0477 - acc: 0.989 - ETA: 0s - loss: 0.0446 - acc: 0.991 - ETA: 0s - loss: 0.0421 - acc: 0.992 - ETA: 0s - loss: 0.0378 - acc: 0.993 - ETA: 0s - loss: 0.0381 - acc: 0.993 - ETA: 0s - loss: 0.0430 - acc: 0.991 - ETA: 0s - loss: 0.0411 - acc: 0.992 - ETA: 0s - loss: 0.0399 - acc: 0.992 - ETA: 0s - loss: 0.0404 - acc: 0.991 - 1s 2ms/step - loss: 0.0395 - acc: 0.9917 - val_loss: 0.9197 - val_acc: 0.8917\n",
      "\n",
      "Epoch 00289: val_loss did not improve from 0.43936\n",
      "Epoch 290/300\n",
      "480/480 [==============================] - ETA: 0s - loss: 0.0593 - acc: 0.968 - ETA: 0s - loss: 0.0419 - acc: 0.984 - ETA: 0s - loss: 0.0485 - acc: 0.979 - ETA: 0s - loss: 0.0506 - acc: 0.976 - ETA: 0s - loss: 0.0469 - acc: 0.981 - ETA: 0s - loss: 0.0462 - acc: 0.979 - ETA: 0s - loss: 0.0421 - acc: 0.982 - ETA: 0s - loss: 0.0431 - acc: 0.980 - ETA: 0s - loss: 0.0402 - acc: 0.982 - ETA: 0s - loss: 0.0429 - acc: 0.981 - ETA: 0s - loss: 0.0465 - acc: 0.980 - ETA: 0s - loss: 0.0436 - acc: 0.981 - ETA: 0s - loss: 0.0445 - acc: 0.980 - ETA: 0s - loss: 0.0421 - acc: 0.982 - 1s 2ms/step - loss: 0.0432 - acc: 0.9812 - val_loss: 0.9047 - val_acc: 0.8917\n",
      "\n",
      "Epoch 00290: val_loss did not improve from 0.43936\n",
      "Epoch 291/300\n",
      "480/480 [==============================] - ETA: 0s - loss: 0.0291 - acc: 1.000 - ETA: 0s - loss: 0.0329 - acc: 1.000 - ETA: 0s - loss: 0.0421 - acc: 0.989 - ETA: 0s - loss: 0.0533 - acc: 0.976 - ETA: 0s - loss: 0.0473 - acc: 0.981 - ETA: 0s - loss: 0.0415 - acc: 0.984 - ETA: 0s - loss: 0.0537 - acc: 0.982 - ETA: 0s - loss: 0.0494 - acc: 0.984 - ETA: 0s - loss: 0.0468 - acc: 0.986 - ETA: 0s - loss: 0.0431 - acc: 0.987 - ETA: 0s - loss: 0.0489 - acc: 0.983 - ETA: 0s - loss: 0.0451 - acc: 0.984 - ETA: 0s - loss: 0.0459 - acc: 0.983 - ETA: 0s - loss: 0.0438 - acc: 0.984 - 1s 2ms/step - loss: 0.0491 - acc: 0.9833 - val_loss: 0.8834 - val_acc: 0.8917\n",
      "\n",
      "Epoch 00291: val_loss did not improve from 0.43936\n",
      "Epoch 292/300\n",
      "480/480 [==============================] - ETA: 0s - loss: 0.0887 - acc: 0.937 - ETA: 0s - loss: 0.0693 - acc: 0.968 - ETA: 0s - loss: 0.0751 - acc: 0.968 - ETA: 0s - loss: 0.0582 - acc: 0.976 - ETA: 0s - loss: 0.0495 - acc: 0.981 - ETA: 0s - loss: 0.0466 - acc: 0.984 - ETA: 0s - loss: 0.0406 - acc: 0.986 - ETA: 0s - loss: 0.0425 - acc: 0.984 - ETA: 0s - loss: 0.0430 - acc: 0.986 - ETA: 0s - loss: 0.0402 - acc: 0.987 - ETA: 0s - loss: 0.0372 - acc: 0.988 - ETA: 0s - loss: 0.0402 - acc: 0.987 - ETA: 0s - loss: 0.0440 - acc: 0.983 - ETA: 0s - loss: 0.0554 - acc: 0.982 - 1s 2ms/step - loss: 0.0575 - acc: 0.9812 - val_loss: 0.8954 - val_acc: 0.8917\n",
      "\n",
      "Epoch 00292: val_loss did not improve from 0.43936\n",
      "Epoch 293/300\n",
      "480/480 [==============================] - ETA: 0s - loss: 0.1280 - acc: 0.937 - ETA: 0s - loss: 0.1167 - acc: 0.937 - ETA: 0s - loss: 0.0878 - acc: 0.958 - ETA: 0s - loss: 0.0754 - acc: 0.960 - ETA: 0s - loss: 0.0615 - acc: 0.968 - ETA: 0s - loss: 0.0597 - acc: 0.968 - ETA: 0s - loss: 0.0684 - acc: 0.964 - ETA: 0s - loss: 0.0787 - acc: 0.960 - ETA: 0s - loss: 0.0842 - acc: 0.958 - ETA: 0s - loss: 0.0844 - acc: 0.959 - ETA: 0s - loss: 0.0787 - acc: 0.963 - ETA: 0s - loss: 0.0758 - acc: 0.963 - ETA: 0s - loss: 0.0723 - acc: 0.966 - ETA: 0s - loss: 0.0716 - acc: 0.966 - 1s 2ms/step - loss: 0.0710 - acc: 0.9667 - val_loss: 0.7345 - val_acc: 0.8917\n",
      "\n",
      "Epoch 00293: val_loss did not improve from 0.43936\n",
      "Epoch 294/300\n",
      "480/480 [==============================] - ETA: 0s - loss: 0.1577 - acc: 0.875 - ETA: 0s - loss: 0.1075 - acc: 0.921 - ETA: 0s - loss: 0.0856 - acc: 0.947 - ETA: 0s - loss: 0.0872 - acc: 0.953 - ETA: 0s - loss: 0.0823 - acc: 0.956 - ETA: 0s - loss: 0.0877 - acc: 0.958 - ETA: 0s - loss: 0.0858 - acc: 0.959 - ETA: 0s - loss: 0.0827 - acc: 0.964 - ETA: 0s - loss: 0.0749 - acc: 0.968 - ETA: 0s - loss: 0.0717 - acc: 0.971 - ETA: 0s - loss: 0.0722 - acc: 0.968 - ETA: 0s - loss: 0.0763 - acc: 0.966 - ETA: 0s - loss: 0.0787 - acc: 0.966 - ETA: 0s - loss: 0.0743 - acc: 0.968 - 1s 2ms/step - loss: 0.0788 - acc: 0.9667 - val_loss: 0.7047 - val_acc: 0.8917\n",
      "\n",
      "Epoch 00294: val_loss did not improve from 0.43936\n",
      "Epoch 295/300\n",
      "480/480 [==============================] - ETA: 0s - loss: 0.0137 - acc: 1.000 - ETA: 0s - loss: 0.0439 - acc: 0.968 - ETA: 0s - loss: 0.1485 - acc: 0.947 - ETA: 0s - loss: 0.1200 - acc: 0.960 - ETA: 0s - loss: 0.1018 - acc: 0.962 - ETA: 0s - loss: 0.0887 - acc: 0.968 - ETA: 0s - loss: 0.0822 - acc: 0.973 - ETA: 0s - loss: 0.0857 - acc: 0.964 - ETA: 0s - loss: 0.1127 - acc: 0.958 - ETA: 0s - loss: 0.1305 - acc: 0.956 - ETA: 0s - loss: 0.1311 - acc: 0.954 - ETA: 0s - loss: 0.1266 - acc: 0.955 - ETA: 0s - loss: 0.1196 - acc: 0.959 - ETA: 0s - loss: 0.1115 - acc: 0.962 - 1s 2ms/step - loss: 0.1080 - acc: 0.9646 - val_loss: 0.7769 - val_acc: 0.8917\n",
      "\n",
      "Epoch 00295: val_loss did not improve from 0.43936\n",
      "Epoch 296/300\n",
      "480/480 [==============================] - ETA: 0s - loss: 0.1526 - acc: 0.968 - ETA: 0s - loss: 0.1817 - acc: 0.937 - ETA: 0s - loss: 0.1282 - acc: 0.958 - ETA: 0s - loss: 0.1010 - acc: 0.968 - ETA: 0s - loss: 0.0853 - acc: 0.975 - ETA: 0s - loss: 0.0912 - acc: 0.974 - ETA: 0s - loss: 0.0912 - acc: 0.968 - ETA: 0s - loss: 0.0837 - acc: 0.972 - ETA: 0s - loss: 0.0807 - acc: 0.975 - ETA: 0s - loss: 0.0797 - acc: 0.975 - ETA: 0s - loss: 0.0824 - acc: 0.974 - ETA: 0s - loss: 0.0767 - acc: 0.976 - ETA: 0s - loss: 0.0718 - acc: 0.978 - ETA: 0s - loss: 0.0766 - acc: 0.975 - 1s 2ms/step - loss: 0.0728 - acc: 0.9771 - val_loss: 0.8072 - val_acc: 0.9000\n",
      "\n",
      "Epoch 00296: val_loss did not improve from 0.43936\n",
      "Epoch 297/300\n",
      "480/480 [==============================] - ETA: 0s - loss: 0.1326 - acc: 0.968 - ETA: 0s - loss: 0.1048 - acc: 0.968 - ETA: 0s - loss: 0.0716 - acc: 0.979 - ETA: 0s - loss: 0.0735 - acc: 0.984 - ETA: 0s - loss: 0.0689 - acc: 0.987 - ETA: 0s - loss: 0.0879 - acc: 0.979 - ETA: 0s - loss: 0.0755 - acc: 0.982 - ETA: 0s - loss: 0.0691 - acc: 0.984 - ETA: 0s - loss: 0.0642 - acc: 0.986 - ETA: 0s - loss: 0.0615 - acc: 0.987 - ETA: 0s - loss: 0.0593 - acc: 0.985 - ETA: 0s - loss: 0.0574 - acc: 0.984 - ETA: 0s - loss: 0.0538 - acc: 0.985 - ETA: 0s - loss: 0.0521 - acc: 0.986 - 1s 2ms/step - loss: 0.0524 - acc: 0.9875 - val_loss: 0.8732 - val_acc: 0.8833\n",
      "\n",
      "Epoch 00297: val_loss did not improve from 0.43936\n",
      "Epoch 298/300\n"
     ]
    },
    {
     "name": "stdout",
     "output_type": "stream",
     "text": [
      "480/480 [==============================] - ETA: 0s - loss: 0.0980 - acc: 0.937 - ETA: 0s - loss: 0.0752 - acc: 0.953 - ETA: 0s - loss: 0.0771 - acc: 0.958 - ETA: 0s - loss: 0.2202 - acc: 0.953 - ETA: 0s - loss: 0.1860 - acc: 0.962 - ETA: 0s - loss: 0.1711 - acc: 0.963 - ETA: 0s - loss: 0.1563 - acc: 0.964 - ETA: 0s - loss: 0.1462 - acc: 0.964 - ETA: 0s - loss: 0.1483 - acc: 0.958 - ETA: 0s - loss: 0.1433 - acc: 0.959 - ETA: 0s - loss: 0.1336 - acc: 0.963 - ETA: 0s - loss: 0.1254 - acc: 0.963 - ETA: 0s - loss: 0.1210 - acc: 0.963 - ETA: 0s - loss: 0.1165 - acc: 0.964 - 1s 2ms/step - loss: 0.1117 - acc: 0.9667 - val_loss: 0.7137 - val_acc: 0.9167\n",
      "\n",
      "Epoch 00298: val_loss did not improve from 0.43936\n",
      "Epoch 299/300\n",
      "480/480 [==============================] - ETA: 0s - loss: 0.0142 - acc: 1.000 - ETA: 0s - loss: 0.0580 - acc: 0.984 - ETA: 0s - loss: 0.0462 - acc: 0.989 - ETA: 0s - loss: 0.0535 - acc: 0.984 - ETA: 0s - loss: 0.0534 - acc: 0.981 - ETA: 0s - loss: 0.0487 - acc: 0.979 - ETA: 0s - loss: 0.0433 - acc: 0.982 - ETA: 0s - loss: 0.0518 - acc: 0.976 - ETA: 0s - loss: 0.0542 - acc: 0.975 - ETA: 0s - loss: 0.0539 - acc: 0.978 - ETA: 0s - loss: 0.0511 - acc: 0.980 - ETA: 0s - loss: 0.0627 - acc: 0.979 - ETA: 0s - loss: 0.0637 - acc: 0.980 - ETA: 0s - loss: 0.0655 - acc: 0.977 - 1s 2ms/step - loss: 0.0649 - acc: 0.9792 - val_loss: 0.8413 - val_acc: 0.8833\n",
      "\n",
      "Epoch 00299: val_loss did not improve from 0.43936\n",
      "Epoch 300/300\n",
      "480/480 [==============================] - ETA: 0s - loss: 0.0250 - acc: 1.000 - ETA: 0s - loss: 0.0295 - acc: 0.984 - ETA: 0s - loss: 0.0430 - acc: 0.979 - ETA: 0s - loss: 0.0843 - acc: 0.976 - ETA: 0s - loss: 0.0731 - acc: 0.981 - ETA: 0s - loss: 0.1054 - acc: 0.968 - ETA: 0s - loss: 0.1059 - acc: 0.964 - ETA: 0s - loss: 0.0943 - acc: 0.968 - ETA: 0s - loss: 0.0969 - acc: 0.965 - ETA: 0s - loss: 0.0940 - acc: 0.965 - ETA: 0s - loss: 0.0935 - acc: 0.965 - ETA: 0s - loss: 0.0884 - acc: 0.968 - ETA: 0s - loss: 0.0854 - acc: 0.971 - ETA: 0s - loss: 0.0813 - acc: 0.973 - 1s 2ms/step - loss: 0.0760 - acc: 0.9750 - val_loss: 0.8752 - val_acc: 0.8667\n",
      "\n",
      "Epoch 00300: val_loss did not improve from 0.43936\n"
     ]
    }
   ],
   "source": [
    "filename = 'model.h5'\n",
    "checkpoint = ModelCheckpoint(filename, monitor='val_loss', verbose=1, save_best_only=True, mode='min')\n",
    "\n",
    "hist = model.fit(train_X, train_Y, epochs = 300, batch_size = 32, validation_data = (batch_X, batch_Y), callbacks = [checkpoint])"
   ]
  },
  {
   "cell_type": "code",
   "execution_count": 43,
   "metadata": {
    "colab": {},
    "colab_type": "code",
    "id": "YjXKos8ocXvw"
   },
   "outputs": [],
   "source": [
    " model = load_model(\"model.h5\")"
   ]
  },
  {
   "cell_type": "code",
   "execution_count": 36,
   "metadata": {},
   "outputs": [],
   "source": [
    "# from keras.utils import plot_model\n",
    "# plot_model(model, to_file='model.png', show_shapes=True,show_layer_names=True)\n",
    "# from IPython.display import display, Image\n",
    "# display(Image(filename='model.png'))\n"
   ]
  },
  {
   "cell_type": "code",
   "execution_count": 35,
   "metadata": {},
   "outputs": [],
   "source": [
    "import matplotlib.pyplot as plt\n",
    "\n",
    "# # Plot training & validation accuracy values\n",
    "# plt.plot(hist.history['acc'])\n",
    "# plt.plot(hist.history['val_acc'])\n",
    "# plt.title('Model accuracy')\n",
    "# plt.ylabel('Accuracy')\n",
    "# plt.xlabel('Epoch')\n",
    "# plt.legend(['Train', 'Test'], loc='upper left')\n",
    "# plt.show()\n",
    "\n",
    "# # Plot training & validation loss values\n",
    "# plt.plot(hist.history['loss'])\n",
    "# plt.plot(hist.history['val_loss'])\n",
    "# plt.title('Model loss')\n",
    "# plt.ylabel('Loss')\n",
    "# plt.xlabel('Epoch')\n",
    "# plt.legend(['Train', 'Test'], loc='upper left')\n",
    "# plt.show()"
   ]
  },
  {
   "cell_type": "code",
   "execution_count": 36,
   "metadata": {
    "colab": {},
    "colab_type": "code",
    "id": "qSTEzrlzcuya"
   },
   "outputs": [],
   "source": [
    "def predictions(text):\n",
    "#     clean = re.sub(r'[^ a-z A-Z 0-9]', \" \", text)\n",
    "    test_word = viTokenList(text)\n",
    "    test_word = [w.lower() for w in test_word]\n",
    "    test_ls = word_tokenizer.texts_to_sequences(test_word)\n",
    "#     print(\"test_ls: \", test_ls)\n",
    "#     print(\"test_word: \", test_word)\n",
    "    #Check for unknown words\n",
    "    if [] in test_ls:\n",
    "        test_ls = list(filter(None, test_ls))\n",
    "\n",
    "    test_ls = np.array(test_ls).reshape(1, len(test_ls))\n",
    "\n",
    "    x = padding_doc(test_ls, max_length)\n",
    "\n",
    "    pred = model.predict_proba(x)\n",
    "\n",
    "\n",
    "    return pred\n",
    "\n",
    "\n",
    "  "
   ]
  },
  {
   "cell_type": "code",
   "execution_count": 37,
   "metadata": {},
   "outputs": [],
   "source": [
    "def load_response_dataset(filename):\n",
    "    df_res = pd.read_excel(filename, sheet_name=\"Tag_Response\", encoding=\"utf8\") \n",
    "    return df_res"
   ]
  },
  {
   "cell_type": "code",
   "execution_count": 38,
   "metadata": {},
   "outputs": [],
   "source": [
    "import random\n",
    "def response(classes):\n",
    "    df_res = load_response_dataset(\"dataset_XY_XLS_updatedbytho.xls\")\n",
    "    s = df_res[classes].dropna()\n",
    "    s_res = s[random.randint(0,len(s)-1)]\n",
    "    print(s_res)"
   ]
  },
  {
   "cell_type": "code",
   "execution_count": 39,
   "metadata": {
    "colab": {},
    "colab_type": "code",
    "id": "P1ddofshmdzK"
   },
   "outputs": [],
   "source": [
    "def get_final_output(pred, classes):\n",
    "    predictions = pred[0]\n",
    "\n",
    "    classes = np.array(classes)\n",
    "    ids = np.argsort(-predictions)\n",
    "    classes = classes[ids]\n",
    "    predictions = -np.sort(-predictions)\n",
    " \n",
    "    for i in range(3):\n",
    "        print(\"%s has confidence = %s\" % (classes[i], (predictions[i])))\n",
    "    response(classes[0])\n",
    "#     print(classes[0])"
   ]
  },
  {
   "cell_type": "code",
   "execution_count": null,
   "metadata": {
    "colab": {
     "base_uri": "https://localhost:8080/",
     "height": 391
    },
    "colab_type": "code",
    "id": "23VpGuihMdEU",
    "outputId": "cd36c932-0fb0-4166-92ae-546a7676e645"
   },
   "outputs": [
    {
     "name": "stdout",
     "output_type": "stream",
     "text": [
      "hi\n",
      "Chức_năng_của_bot has confidence = 0.7883284\n",
      "Nơi_nộp_hồ_sơ has confidence = 0.14198619\n",
      "Thời_gian_giải_quyết_hộ_chiếu has confidence = 0.039299227\n",
      "Tôi là Chatbot hỗ trợ bạn trong việc tư vấn về thủ tục Hành Chính Công, cụ thể là về thủ tục passport. Có hai loại hộ chiếu là hộ chiếu cấp Trung ương và cấp tỉnh. Bạn nên lưu ý ghi rõ là cấp nào.\n",
      "ngu luôn\n",
      "Chức_năng_của_bot has confidence = 0.55176234\n",
      "Thời_gian_giải_quyết_hộ_chiếu has confidence = 0.34406018\n",
      "Tên_bot has confidence = 0.07534421\n",
      "Tôi là Chatbot hỗ trợ bạn trong việc tư vấn về thủ tục Hành Chính Công, cụ thể là về thủ tục passport. Có hai loại hộ chiếu là hộ chiếu cấp Trung ương và cấp tỉnh. Bạn nên lưu ý ghi rõ là cấp nào.\n",
      "sao m bị ngu rồi?\n",
      "Chức_năng_của_bot has confidence = 0.54097444\n",
      "Thời_gian_giải_quyết_hộ_chiếu has confidence = 0.3523135\n",
      "Tên_bot has confidence = 0.07309757\n",
      "Tôi là Chatbot hỗ trợ bạn trong việc tư vấn về thủ tục Hành Chính Công, cụ thể là về thủ tục passport. Có hai loại hộ chiếu là hộ chiếu cấp Trung ương và cấp tỉnh. Bạn nên lưu ý ghi rõ là cấp nào.\n",
      "hộ chiếu\n",
      "Chức_năng_của_bot has confidence = 0.55176234\n",
      "Thời_gian_giải_quyết_hộ_chiếu has confidence = 0.34406018\n",
      "Tên_bot has confidence = 0.07534421\n",
      "Tôi là Chatbot hỗ trợ bạn trong việc tư vấn về thủ tục Hành Chính Công, cụ thể là về thủ tục passport. Có hai loại hộ chiếu là hộ chiếu cấp Trung ương và cấp tỉnh. Bạn nên lưu ý ghi rõ là cấp nào.\n"
     ]
    }
   ],
   "source": [
    "\n",
    "while(1):\n",
    "    text = input()    \n",
    "    if text == 'q':\n",
    "        break\n",
    "    pred = predictions(text)\n",
    "    get_final_output(pred, unique_intent)\n",
    "    "
   ]
  },
  {
   "cell_type": "code",
   "execution_count": 44,
   "metadata": {
    "colab": {},
    "colab_type": "code",
    "id": "bKUBDT36IHKO"
   },
   "outputs": [
    {
     "name": "stdout",
     "output_type": "stream",
     "text": [
      "['loss', 'acc']\n",
      "[0.4393612, 0.89166665]\n"
     ]
    }
   ],
   "source": [
    "print(model.metrics_names)\n",
    "print(model.test_on_batch(batch_X, batch_Y, sample_weight=None))"
   ]
  },
  {
   "cell_type": "code",
   "execution_count": null,
   "metadata": {},
   "outputs": [],
   "source": []
  }
 ],
 "metadata": {
  "accelerator": "TPU",
  "colab": {
   "collapsed_sections": [],
   "include_colab_link": true,
   "name": "Intent_classification_final.ipynb",
   "provenance": [],
   "version": "0.3.2"
  },
  "kernelspec": {
   "display_name": "Python 3",
   "language": "python",
   "name": "python3"
  },
  "language_info": {
   "codemirror_mode": {
    "name": "ipython",
    "version": 3
   },
   "file_extension": ".py",
   "mimetype": "text/x-python",
   "name": "python",
   "nbconvert_exporter": "python",
   "pygments_lexer": "ipython3",
   "version": "3.6.7"
  }
 },
 "nbformat": 4,
 "nbformat_minor": 1
}

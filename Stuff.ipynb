{
 "cells": [
  {
   "cell_type": "code",
   "execution_count": 7,
   "metadata": {},
   "outputs": [],
   "source": [
    "from sklearn.feature_extraction.text import TfidfVectorizer\n",
    "import pandas as pd\n",
    "import random"
   ]
  },
  {
   "cell_type": "code",
   "execution_count": 2,
   "metadata": {},
   "outputs": [],
   "source": [
    "def load_dataset(filename):\n",
    "#   df = pd.read_csv(filename, encoding = \"latin1\", names = [\"Sentence\", \"Intent\"])\n",
    "    df = pd.read_excel(filename, sheet_name=\"dataset_XY\", encoding=\"utf8\")\n",
    "    Label_tag = pd.read_excel(filename, sheet_name=\"Label_tag\", encoding=\"utf8\")  \n",
    "    print(df.head())\n",
    "    intent = df['Label']\n",
    "    for idx, i in enumerate(intent):\n",
    "#         print(i)\n",
    "        intent[idx] = Label_tag.loc[i,\"Tag\"]\n",
    "#     print(\"intent: \", intent)\n",
    "    unique_intent = list(set(intent))\n",
    "    sentences = list(df[\"Questions\"])\n",
    "  \n",
    "    return (intent, unique_intent, sentences)"
   ]
  },
  {
   "cell_type": "code",
   "execution_count": 3,
   "metadata": {},
   "outputs": [
    {
     "name": "stdout",
     "output_type": "stream",
     "text": [
      "           Questions  Label\n",
      "0               Chào      0\n",
      "1    Dạo này thế nào      0\n",
      "2  Có ai ở đây không      0\n",
      "3           Xin chào      0\n",
      "4           Xao chìn      0\n"
     ]
    },
    {
     "name": "stderr",
     "output_type": "stream",
     "text": [
      "C:\\Users\\Dell\\Anaconda3\\envs\\py36\\lib\\site-packages\\ipykernel_launcher.py:9: SettingWithCopyWarning: \n",
      "A value is trying to be set on a copy of a slice from a DataFrame\n",
      "\n",
      "See the caveats in the documentation: http://pandas.pydata.org/pandas-docs/stable/indexing.html#indexing-view-versus-copy\n",
      "  if __name__ == '__main__':\n",
      "C:\\Users\\Dell\\Anaconda3\\envs\\py36\\lib\\site-packages\\pandas\\core\\indexing.py:190: SettingWithCopyWarning: \n",
      "A value is trying to be set on a copy of a slice from a DataFrame\n",
      "\n",
      "See the caveats in the documentation: http://pandas.pydata.org/pandas-docs/stable/indexing.html#indexing-view-versus-copy\n",
      "  self._setitem_with_indexer(indexer, value)\n"
     ]
    },
    {
     "name": "stdout",
     "output_type": "stream",
     "text": [
      "Unique intents:  ['Thời_gian_trả_kết_quả', 'Cảm_ơn', 'Chuẩn_bị_hồ_sơ', 'Chào_hỏi', 'Tên_bot', 'Các_loại_hộ_chiếu', 'Nơi_nhận_hộ_chiếu', 'Chức_năng_của_bot', 'Thời_gian_giải_quyết_hộ_chiếu', 'Thời_gian_tiếp_nhận_hồ_sơ', 'Tạm_biệt', 'Lệ_phí', 'Trình_tự ', 'Đối_tượng_xin_cấp_hộ_chiếu', 'Nơi_nộp_hồ_sơ']\n",
      "Number of intents:  15\n"
     ]
    }
   ],
   "source": [
    "intent, unique_intent, sentences = load_dataset(\"dataset_XY_XLS_updatedbytho.xls\")\n",
    "print(\"Unique intents: \", unique_intent)\n",
    "print(\"Number of intents: \", len(unique_intent))"
   ]
  },
  {
   "cell_type": "code",
   "execution_count": 4,
   "metadata": {},
   "outputs": [
    {
     "data": {
      "text/plain": [
       "['Anh', 'thọ', 'quá', 'đẹp_trai', '!']"
      ]
     },
     "execution_count": 4,
     "metadata": {},
     "output_type": "execute_result"
    }
   ],
   "source": [
    "# Hàm được viết bởi thọ\n",
    "import pyvi.ViTokenizer as viToken\n",
    "def viTokenList(word):\n",
    "    return viToken.tokenize(word).split()\n",
    "viTokenList(\"Anh thọ quá đẹp trai!\")"
   ]
  },
  {
   "cell_type": "code",
   "execution_count": 104,
   "metadata": {},
   "outputs": [
    {
     "name": "stdout",
     "output_type": "stream",
     "text": [
      "Xin chào, cảm ơn đã ghé thăm\n"
     ]
    }
   ],
   "source": [
    "# def load_response_dataset(filename):\n",
    "df = pd.read_excel(\"dataset_XY_XLS_updatedbytho.xls\", sheet_name=\"Tag_Response\", encoding=\"utf8\") \n",
    "# print(df.head())\n",
    "s = df['Chào_hỏi'].dropna()\n",
    "s_res = s[random.randint(0,len(s)-1)]\n",
    "print(s_res)\n",
    "\n"
   ]
  },
  {
   "cell_type": "code",
   "execution_count": null,
   "metadata": {},
   "outputs": [],
   "source": []
  }
 ],
 "metadata": {
  "kernelspec": {
   "display_name": "Python 3",
   "language": "python",
   "name": "python3"
  },
  "language_info": {
   "codemirror_mode": {
    "name": "ipython",
    "version": 3
   },
   "file_extension": ".py",
   "mimetype": "text/x-python",
   "name": "python",
   "nbconvert_exporter": "python",
   "pygments_lexer": "ipython3",
   "version": "3.6.7"
  }
 },
 "nbformat": 4,
 "nbformat_minor": 2
}
